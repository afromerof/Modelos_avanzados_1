{
  "nbformat": 4,
  "nbformat_minor": 0,
  "metadata": {
    "kernelspec": {
      "display_name": "Python 3",
      "language": "python",
      "name": "python3"
    },
    "language_info": {
      "codemirror_mode": {
        "name": "ipython",
        "version": 3
      },
      "file_extension": ".py",
      "mimetype": "text/x-python",
      "name": "python",
      "nbconvert_exporter": "python",
      "pygments_lexer": "ipython3",
      "version": "3.7.3"
    },
    "colab": {
      "name": "E13-ClassHomeworksAnalysis.ipynb",
      "provenance": [],
      "collapsed_sections": []
    }
  },
  "cells": [
    {
      "cell_type": "markdown",
      "metadata": {
        "id": "jixh9Vj73Sgm",
        "colab_type": "text"
      },
      "source": [
        "<br><h1> <img src=\"https://serea2017.uniandes.edu.co/images/Logo.png\" height=\"120\" width=\"400\" align=\"Center\" /><br>\n",
        "\n",
        " \n",
        "\n",
        "# MIIIA Advanced Models: Exercise 13 - 12 Jul 2020\n",
        "\n",
        " \n",
        "\n",
        "                         Names                 User                Code\n",
        "           - Romero Fonseca Angela Fernanda       af.romerof     201819276       \n",
        "           - Alzate Roman Cindy Zulima            c.alzate       201920019\n",
        "           - Rojas Arcila Daniel Camilo           d.rojasa       201924286\n",
        "           - Elquin Huertas Ramírez               e.huertas      201920061"
      ]
    },
    {
      "cell_type": "markdown",
      "metadata": {
        "id": "pReY3p6JpqcY",
        "colab_type": "text"
      },
      "source": [
        "# Exercise 13\n",
        "\n",
        "## Analyze class homeworks\n"
      ]
    },
    {
      "cell_type": "code",
      "metadata": {
        "id": "qCxY82knpqcZ",
        "colab_type": "code",
        "colab": {}
      },
      "source": [
        "import pandas as pd\n",
        "import numpy as np\n",
        "\n",
        "%matplotlib inline\n",
        "import matplotlib.pyplot as plt\n",
        "\n",
        "data = pd.read_excel('../datasets/Consolidado_respuestas_escribir_v2.xlsx')\n",
        "data.head()"
      ],
      "execution_count": 1,
      "outputs": []
    },
    {
      "cell_type": "code",
      "metadata": {
        "id": "VTAP4n4Zvtac",
        "colab_type": "code",
        "colab": {
          "base_uri": "https://localhost:8080/",
          "height": 306
        },
        "outputId": "aaa1c66e-29bb-480e-f5bb-877caa553a20"
      },
      "source": [
        "#import os\n",
        "#import pandas as pd\n",
        "\n",
        "#os.listdir('/content/gdrive/My Drive/')\n",
        "#path = '/content/gdrive/My Drive/'\n",
        "\n",
        "#data = pd.read_excel('Consolidado_respuestas_escribir_v2.xlsx')\n",
        "#data.head()"
      ],
      "execution_count": 2,
      "outputs": [
        {
          "output_type": "execute_result",
          "data": {
            "text/html": [
              "<div>\n",
              "<style scoped>\n",
              "    .dataframe tbody tr th:only-of-type {\n",
              "        vertical-align: middle;\n",
              "    }\n",
              "\n",
              "    .dataframe tbody tr th {\n",
              "        vertical-align: top;\n",
              "    }\n",
              "\n",
              "    .dataframe thead th {\n",
              "        text-align: right;\n",
              "    }\n",
              "</style>\n",
              "<table border=\"1\" class=\"dataframe\">\n",
              "  <thead>\n",
              "    <tr style=\"text-align: right;\">\n",
              "      <th></th>\n",
              "      <th>Genero</th>\n",
              "      <th>E1 - Examples of Time Series Analysis</th>\n",
              "      <th>E4 - Panel Data</th>\n",
              "      <th>E6 - Decison Trees</th>\n",
              "      <th>E8 - Ensemble Trees Overview</th>\n",
              "      <th>E10 - REST-API</th>\n",
              "      <th>E11 - Natural Language Processing Overview</th>\n",
              "    </tr>\n",
              "  </thead>\n",
              "  <tbody>\n",
              "    <tr>\n",
              "      <th>0</th>\n",
              "      <td>M</td>\n",
              "      <td>One of the most valuable application of time s...</td>\n",
              "      <td>The main difference between panel data and tim...</td>\n",
              "      <td>Decision tree are a model used by the analytic...</td>\n",
              "      <td>They are used to make a better prediction than...</td>\n",
              "      <td>Es una forma de arquitectura de datos. Los mic...</td>\n",
              "      <td>NaN</td>\n",
              "    </tr>\n",
              "    <tr>\n",
              "      <th>1</th>\n",
              "      <td>F</td>\n",
              "      <td>ANÁLISIS DE SERIES DE TIEMPO – USOS \\nEl análi...</td>\n",
              "      <td>Series de Tiempo vs Datos en Panel\\nUna serie ...</td>\n",
              "      <td>TIPOS DE ÁRBOLES DE DECISIÓN Y APLICACIONES\\nL...</td>\n",
              "      <td>ENSAMBLAJE EN MACHINE LEARNING\\nLos métodos de...</td>\n",
              "      <td>Microservicios\\nEl objetivo principal de la im...</td>\n",
              "      <td>NaN</td>\n",
              "    </tr>\n",
              "    <tr>\n",
              "      <th>2</th>\n",
              "      <td>M</td>\n",
              "      <td>Una serie de tiempo es una colección de datos ...</td>\n",
              "      <td>NaN</td>\n",
              "      <td>los arboles de decisión hacen parte de los alg...</td>\n",
              "      <td>Ensemble methods is a machine learning techniq...</td>\n",
              "      <td>El enfoque tradicional para el diseño de aplic...</td>\n",
              "      <td>LexisNexis launched Lexis Analytics, a legal r...</td>\n",
              "    </tr>\n",
              "    <tr>\n",
              "      <th>3</th>\n",
              "      <td>M</td>\n",
              "      <td>\\nGiven that Time Series Analysis allows to un...</td>\n",
              "      <td>The difference between panel data and time ser...</td>\n",
              "      <td>Decision Trees Algorithms are machine function...</td>\n",
              "      <td>Ensemble methods in Tree Decision algorithms b...</td>\n",
              "      <td>Micro-services are defined as a type of softwa...</td>\n",
              "      <td>NaN</td>\n",
              "    </tr>\n",
              "    <tr>\n",
              "      <th>4</th>\n",
              "      <td>M</td>\n",
              "      <td>Time Series Analysis is concerned with the stu...</td>\n",
              "      <td>A time series is represented by a variable or ...</td>\n",
              "      <td>Decision trees are a popular supervised machin...</td>\n",
              "      <td>The ensemble method is a combination of severa...</td>\n",
              "      <td>A microservice is a type of information techno...</td>\n",
              "      <td>A commercial product which uses Natural Langua...</td>\n",
              "    </tr>\n",
              "  </tbody>\n",
              "</table>\n",
              "</div>"
            ],
            "text/plain": [
              "  Genero  ...         E11 - Natural Language Processing Overview\n",
              "0      M  ...                                                NaN\n",
              "1      F  ...                                                NaN\n",
              "2      M  ...  LexisNexis launched Lexis Analytics, a legal r...\n",
              "3      M  ...                                                NaN\n",
              "4      M  ...  A commercial product which uses Natural Langua...\n",
              "\n",
              "[5 rows x 7 columns]"
            ]
          },
          "metadata": {
            "tags": []
          },
          "execution_count": 2
        }
      ]
    },
    {
      "cell_type": "markdown",
      "metadata": {
        "id": "khmXM5i1pqcd",
        "colab_type": "text"
      },
      "source": [
        "# Exercise 13.1\n",
        "\n",
        "Analyze the writing patterns of each student"
      ]
    },
    {
      "cell_type": "code",
      "metadata": {
        "id": "0HRBUmixpqce",
        "colab_type": "code",
        "colab": {}
      },
      "source": [
        "from sklearn.model_selection import train_test_split, cross_val_score\n",
        "from sklearn.feature_extraction.text import CountVectorizer, TfidfVectorizer\n",
        "from sklearn.ensemble import RandomForestClassifier\n",
        "from nltk.stem.snowball import SnowballStemmer\n",
        "from nltk.stem import WordNetLemmatizer\n",
        "\n",
        "import time"
      ],
      "execution_count": 3,
      "outputs": []
    },
    {
      "cell_type": "code",
      "metadata": {
        "id": "0tKgcZ1Fpqcg",
        "colab_type": "code",
        "colab": {}
      },
      "source": [
        "import pandas as pd\n",
        "import numpy as np\n",
        "import scipy as sp\n",
        "from sklearn.model_selection import train_test_split, cross_val_score\n",
        "from sklearn.feature_extraction.text import CountVectorizer, TfidfVectorizer\n",
        "from sklearn.naive_bayes import MultinomialNB\n",
        "from sklearn.linear_model import LogisticRegression\n",
        "from sklearn import metrics\n",
        "# from textblob import TextBlob, Word\n",
        "from nltk.stem.snowball import SnowballStemmer\n",
        "%matplotlib inline"
      ],
      "execution_count": 4,
      "outputs": []
    },
    {
      "cell_type": "markdown",
      "metadata": {
        "id": "XhQbWGeppqcj",
        "colab_type": "text"
      },
      "source": [
        "### Identificar la longitud de cada tarea\n",
        "A continuación se observan las columnas agregadas en la base, las cuales indican la longitud de cada tarea por estudiante."
      ]
    },
    {
      "cell_type": "code",
      "metadata": {
        "id": "VRltY1bkpqcj",
        "colab_type": "code",
        "colab": {
          "base_uri": "https://localhost:8080/",
          "height": 408
        },
        "outputId": "43f33ab0-6750-45fc-c198-fb8f33222043"
      },
      "source": [
        "data[\"Longitud_E1\"] = data['E1 - Examples of Time Series Analysis'].str.split().str.len()\n",
        "data[\"Longitud_E4\"] = data['E4 - Panel Data'].str.split().str.len()\n",
        "data[\"Longitud_E6\"] = data['E6 - Decison Trees'].str.split().str.len()\n",
        "data[\"Longitud_E8\"] = data['E8 - Ensemble Trees Overview'].str.split().str.len()\n",
        "data[\"Longitud_E10\"] = data['E10 - REST-API'].str.split().str.len()\n",
        "data[\"Longitud_E11\"] = data['E11 - Natural Language Processing Overview'].str.split().str.len()\n",
        "data.head()\n"
      ],
      "execution_count": 5,
      "outputs": [
        {
          "output_type": "execute_result",
          "data": {
            "text/html": [
              "<div>\n",
              "<style scoped>\n",
              "    .dataframe tbody tr th:only-of-type {\n",
              "        vertical-align: middle;\n",
              "    }\n",
              "\n",
              "    .dataframe tbody tr th {\n",
              "        vertical-align: top;\n",
              "    }\n",
              "\n",
              "    .dataframe thead th {\n",
              "        text-align: right;\n",
              "    }\n",
              "</style>\n",
              "<table border=\"1\" class=\"dataframe\">\n",
              "  <thead>\n",
              "    <tr style=\"text-align: right;\">\n",
              "      <th></th>\n",
              "      <th>Genero</th>\n",
              "      <th>E1 - Examples of Time Series Analysis</th>\n",
              "      <th>E4 - Panel Data</th>\n",
              "      <th>E6 - Decison Trees</th>\n",
              "      <th>E8 - Ensemble Trees Overview</th>\n",
              "      <th>E10 - REST-API</th>\n",
              "      <th>E11 - Natural Language Processing Overview</th>\n",
              "      <th>Longitud_E1</th>\n",
              "      <th>Longitud_E4</th>\n",
              "      <th>Longitud_E6</th>\n",
              "      <th>Longitud_E8</th>\n",
              "      <th>Longitud_E10</th>\n",
              "      <th>Longitud_E11</th>\n",
              "    </tr>\n",
              "  </thead>\n",
              "  <tbody>\n",
              "    <tr>\n",
              "      <th>0</th>\n",
              "      <td>M</td>\n",
              "      <td>One of the most valuable application of time s...</td>\n",
              "      <td>The main difference between panel data and tim...</td>\n",
              "      <td>Decision tree are a model used by the analytic...</td>\n",
              "      <td>They are used to make a better prediction than...</td>\n",
              "      <td>Es una forma de arquitectura de datos. Los mic...</td>\n",
              "      <td>NaN</td>\n",
              "      <td>301.0</td>\n",
              "      <td>51.0</td>\n",
              "      <td>319.0</td>\n",
              "      <td>309.0</td>\n",
              "      <td>302.0</td>\n",
              "      <td>NaN</td>\n",
              "    </tr>\n",
              "    <tr>\n",
              "      <th>1</th>\n",
              "      <td>F</td>\n",
              "      <td>ANÁLISIS DE SERIES DE TIEMPO – USOS \\nEl análi...</td>\n",
              "      <td>Series de Tiempo vs Datos en Panel\\nUna serie ...</td>\n",
              "      <td>TIPOS DE ÁRBOLES DE DECISIÓN Y APLICACIONES\\nL...</td>\n",
              "      <td>ENSAMBLAJE EN MACHINE LEARNING\\nLos métodos de...</td>\n",
              "      <td>Microservicios\\nEl objetivo principal de la im...</td>\n",
              "      <td>NaN</td>\n",
              "      <td>478.0</td>\n",
              "      <td>190.0</td>\n",
              "      <td>341.0</td>\n",
              "      <td>382.0</td>\n",
              "      <td>305.0</td>\n",
              "      <td>NaN</td>\n",
              "    </tr>\n",
              "    <tr>\n",
              "      <th>2</th>\n",
              "      <td>M</td>\n",
              "      <td>Una serie de tiempo es una colección de datos ...</td>\n",
              "      <td>NaN</td>\n",
              "      <td>los arboles de decisión hacen parte de los alg...</td>\n",
              "      <td>Ensemble methods is a machine learning techniq...</td>\n",
              "      <td>El enfoque tradicional para el diseño de aplic...</td>\n",
              "      <td>LexisNexis launched Lexis Analytics, a legal r...</td>\n",
              "      <td>244.0</td>\n",
              "      <td>NaN</td>\n",
              "      <td>319.0</td>\n",
              "      <td>351.0</td>\n",
              "      <td>334.0</td>\n",
              "      <td>160.0</td>\n",
              "    </tr>\n",
              "    <tr>\n",
              "      <th>3</th>\n",
              "      <td>M</td>\n",
              "      <td>\\nGiven that Time Series Analysis allows to un...</td>\n",
              "      <td>The difference between panel data and time ser...</td>\n",
              "      <td>Decision Trees Algorithms are machine function...</td>\n",
              "      <td>Ensemble methods in Tree Decision algorithms b...</td>\n",
              "      <td>Micro-services are defined as a type of softwa...</td>\n",
              "      <td>NaN</td>\n",
              "      <td>333.0</td>\n",
              "      <td>119.0</td>\n",
              "      <td>273.0</td>\n",
              "      <td>372.0</td>\n",
              "      <td>331.0</td>\n",
              "      <td>NaN</td>\n",
              "    </tr>\n",
              "    <tr>\n",
              "      <th>4</th>\n",
              "      <td>M</td>\n",
              "      <td>Time Series Analysis is concerned with the stu...</td>\n",
              "      <td>A time series is represented by a variable or ...</td>\n",
              "      <td>Decision trees are a popular supervised machin...</td>\n",
              "      <td>The ensemble method is a combination of severa...</td>\n",
              "      <td>A microservice is a type of information techno...</td>\n",
              "      <td>A commercial product which uses Natural Langua...</td>\n",
              "      <td>361.0</td>\n",
              "      <td>228.0</td>\n",
              "      <td>517.0</td>\n",
              "      <td>417.0</td>\n",
              "      <td>341.0</td>\n",
              "      <td>210.0</td>\n",
              "    </tr>\n",
              "  </tbody>\n",
              "</table>\n",
              "</div>"
            ],
            "text/plain": [
              "  Genero  ... Longitud_E11\n",
              "0      M  ...          NaN\n",
              "1      F  ...          NaN\n",
              "2      M  ...        160.0\n",
              "3      M  ...          NaN\n",
              "4      M  ...        210.0\n",
              "\n",
              "[5 rows x 13 columns]"
            ]
          },
          "metadata": {
            "tags": []
          },
          "execution_count": 5
        }
      ]
    },
    {
      "cell_type": "markdown",
      "metadata": {
        "id": "kyYG0kp_pqcm",
        "colab_type": "text"
      },
      "source": [
        "**Tarea E1:** Se identifica que 44 alumnos respondieron la tarea E1, en promedio se escribieron 309 palabras. El estudiante que escribió más palabras usó 497"
      ]
    },
    {
      "cell_type": "markdown",
      "metadata": {
        "id": "zFcAfj9npqcm",
        "colab_type": "text"
      },
      "source": [
        "**Tarea E4:** 44 alumnos respondieron la tarea E4, el promedio de palabras usadas es de 163 y el máximo de palabras usadas en esta tarea fue de 290. Esta fue la tarea con promedio de palabras más pequeño."
      ]
    },
    {
      "cell_type": "markdown",
      "metadata": {
        "id": "0MpBHeaRpqcn",
        "colab_type": "text"
      },
      "source": [
        "**Tarea E6:** La tarea E6 fue respondida por 42 alumnos, con un promedio de 325 palabras. La tarea más corta fue de 135 palabras. Esta fue la tarea con mayor número de palabras en una respuesta."
      ]
    },
    {
      "cell_type": "markdown",
      "metadata": {
        "id": "LHCcQxNBpqcn",
        "colab_type": "text"
      },
      "source": [
        "**Tarea E8:** Se identifican 38 respuestas a la tarea E8 con 322 palabras en promedio. La tarea con menor longitud incluyó 78 palabras. La tarea con mayor longitud fue de 461 palabras."
      ]
    },
    {
      "cell_type": "markdown",
      "metadata": {
        "id": "eAhzL-yUpqcn",
        "colab_type": "text"
      },
      "source": [
        "**Tarea E10:** La tarea E10 fue respondida por 45 estudiantes, en promedio las respuestas tienen 324 palabras. El alumno que usó 104 fue el de menor longitud, mientras que 543 fue la longitud del que usó más palabras."
      ]
    },
    {
      "cell_type": "markdown",
      "metadata": {
        "id": "s56UtcULpqco",
        "colab_type": "text"
      },
      "source": [
        "**Tarea E11:** Esta tarea es la que tiene menos respuestas, tan sólo 16 alumnos la respondieron con un promedio de 212 palabras. La respuesta que registró menos palabras tenía 3."
      ]
    },
    {
      "cell_type": "markdown",
      "metadata": {
        "id": "WmMQpOoMpqco",
        "colab_type": "text"
      },
      "source": [
        "### Se quiere identificar el promedio de palabras usadas por estudiante en cada tarea"
      ]
    },
    {
      "cell_type": "code",
      "metadata": {
        "id": "Ry2_okdWpqcp",
        "colab_type": "code",
        "colab": {}
      },
      "source": [
        "#Promedio de paralabras por estudiante\n",
        "data[\"Media\"] = data.mean(axis=1)"
      ],
      "execution_count": 6,
      "outputs": []
    },
    {
      "cell_type": "code",
      "metadata": {
        "scrolled": true,
        "id": "_Tt8ldYepqcr",
        "colab_type": "code",
        "colab": {
          "base_uri": "https://localhost:8080/",
          "height": 442
        },
        "outputId": "bd4bd7ab-ee9f-4607-e176-aaba8dc04d77"
      },
      "source": [
        "data.head()"
      ],
      "execution_count": 7,
      "outputs": [
        {
          "output_type": "execute_result",
          "data": {
            "text/html": [
              "<div>\n",
              "<style scoped>\n",
              "    .dataframe tbody tr th:only-of-type {\n",
              "        vertical-align: middle;\n",
              "    }\n",
              "\n",
              "    .dataframe tbody tr th {\n",
              "        vertical-align: top;\n",
              "    }\n",
              "\n",
              "    .dataframe thead th {\n",
              "        text-align: right;\n",
              "    }\n",
              "</style>\n",
              "<table border=\"1\" class=\"dataframe\">\n",
              "  <thead>\n",
              "    <tr style=\"text-align: right;\">\n",
              "      <th></th>\n",
              "      <th>Genero</th>\n",
              "      <th>E1 - Examples of Time Series Analysis</th>\n",
              "      <th>E4 - Panel Data</th>\n",
              "      <th>E6 - Decison Trees</th>\n",
              "      <th>E8 - Ensemble Trees Overview</th>\n",
              "      <th>E10 - REST-API</th>\n",
              "      <th>E11 - Natural Language Processing Overview</th>\n",
              "      <th>Longitud_E1</th>\n",
              "      <th>Longitud_E4</th>\n",
              "      <th>Longitud_E6</th>\n",
              "      <th>Longitud_E8</th>\n",
              "      <th>Longitud_E10</th>\n",
              "      <th>Longitud_E11</th>\n",
              "      <th>Media</th>\n",
              "    </tr>\n",
              "  </thead>\n",
              "  <tbody>\n",
              "    <tr>\n",
              "      <th>0</th>\n",
              "      <td>M</td>\n",
              "      <td>One of the most valuable application of time s...</td>\n",
              "      <td>The main difference between panel data and tim...</td>\n",
              "      <td>Decision tree are a model used by the analytic...</td>\n",
              "      <td>They are used to make a better prediction than...</td>\n",
              "      <td>Es una forma de arquitectura de datos. Los mic...</td>\n",
              "      <td>NaN</td>\n",
              "      <td>301.0</td>\n",
              "      <td>51.0</td>\n",
              "      <td>319.0</td>\n",
              "      <td>309.0</td>\n",
              "      <td>302.0</td>\n",
              "      <td>NaN</td>\n",
              "      <td>256.400000</td>\n",
              "    </tr>\n",
              "    <tr>\n",
              "      <th>1</th>\n",
              "      <td>F</td>\n",
              "      <td>ANÁLISIS DE SERIES DE TIEMPO – USOS \\nEl análi...</td>\n",
              "      <td>Series de Tiempo vs Datos en Panel\\nUna serie ...</td>\n",
              "      <td>TIPOS DE ÁRBOLES DE DECISIÓN Y APLICACIONES\\nL...</td>\n",
              "      <td>ENSAMBLAJE EN MACHINE LEARNING\\nLos métodos de...</td>\n",
              "      <td>Microservicios\\nEl objetivo principal de la im...</td>\n",
              "      <td>NaN</td>\n",
              "      <td>478.0</td>\n",
              "      <td>190.0</td>\n",
              "      <td>341.0</td>\n",
              "      <td>382.0</td>\n",
              "      <td>305.0</td>\n",
              "      <td>NaN</td>\n",
              "      <td>339.200000</td>\n",
              "    </tr>\n",
              "    <tr>\n",
              "      <th>2</th>\n",
              "      <td>M</td>\n",
              "      <td>Una serie de tiempo es una colección de datos ...</td>\n",
              "      <td>NaN</td>\n",
              "      <td>los arboles de decisión hacen parte de los alg...</td>\n",
              "      <td>Ensemble methods is a machine learning techniq...</td>\n",
              "      <td>El enfoque tradicional para el diseño de aplic...</td>\n",
              "      <td>LexisNexis launched Lexis Analytics, a legal r...</td>\n",
              "      <td>244.0</td>\n",
              "      <td>NaN</td>\n",
              "      <td>319.0</td>\n",
              "      <td>351.0</td>\n",
              "      <td>334.0</td>\n",
              "      <td>160.0</td>\n",
              "      <td>281.600000</td>\n",
              "    </tr>\n",
              "    <tr>\n",
              "      <th>3</th>\n",
              "      <td>M</td>\n",
              "      <td>\\nGiven that Time Series Analysis allows to un...</td>\n",
              "      <td>The difference between panel data and time ser...</td>\n",
              "      <td>Decision Trees Algorithms are machine function...</td>\n",
              "      <td>Ensemble methods in Tree Decision algorithms b...</td>\n",
              "      <td>Micro-services are defined as a type of softwa...</td>\n",
              "      <td>NaN</td>\n",
              "      <td>333.0</td>\n",
              "      <td>119.0</td>\n",
              "      <td>273.0</td>\n",
              "      <td>372.0</td>\n",
              "      <td>331.0</td>\n",
              "      <td>NaN</td>\n",
              "      <td>285.600000</td>\n",
              "    </tr>\n",
              "    <tr>\n",
              "      <th>4</th>\n",
              "      <td>M</td>\n",
              "      <td>Time Series Analysis is concerned with the stu...</td>\n",
              "      <td>A time series is represented by a variable or ...</td>\n",
              "      <td>Decision trees are a popular supervised machin...</td>\n",
              "      <td>The ensemble method is a combination of severa...</td>\n",
              "      <td>A microservice is a type of information techno...</td>\n",
              "      <td>A commercial product which uses Natural Langua...</td>\n",
              "      <td>361.0</td>\n",
              "      <td>228.0</td>\n",
              "      <td>517.0</td>\n",
              "      <td>417.0</td>\n",
              "      <td>341.0</td>\n",
              "      <td>210.0</td>\n",
              "      <td>345.666667</td>\n",
              "    </tr>\n",
              "  </tbody>\n",
              "</table>\n",
              "</div>"
            ],
            "text/plain": [
              "  Genero  ...       Media\n",
              "0      M  ...  256.400000\n",
              "1      F  ...  339.200000\n",
              "2      M  ...  281.600000\n",
              "3      M  ...  285.600000\n",
              "4      M  ...  345.666667\n",
              "\n",
              "[5 rows x 14 columns]"
            ]
          },
          "metadata": {
            "tags": []
          },
          "execution_count": 7
        }
      ]
    },
    {
      "cell_type": "markdown",
      "metadata": {
        "id": "cMJba20Bpqcu",
        "colab_type": "text"
      },
      "source": [
        "### Tareas Faltantes"
      ]
    },
    {
      "cell_type": "code",
      "metadata": {
        "scrolled": true,
        "id": "3_6Qap5Rpqcy",
        "colab_type": "code",
        "colab": {
          "base_uri": "https://localhost:8080/",
          "height": 272
        },
        "outputId": "254486bd-4ea3-4142-b393-c24c5cda178e"
      },
      "source": [
        "data.isnull().sum()"
      ],
      "execution_count": 8,
      "outputs": [
        {
          "output_type": "execute_result",
          "data": {
            "text/plain": [
              "Genero                                         0\n",
              "E1 - Examples of Time Series Analysis          2\n",
              "E4 - Panel Data                                2\n",
              "E6 - Decison Trees                             4\n",
              "E8 - Ensemble Trees Overview                   8\n",
              "E10 - REST-API                                 1\n",
              "E11 - Natural Language Processing Overview    30\n",
              "Longitud_E1                                    2\n",
              "Longitud_E4                                    2\n",
              "Longitud_E6                                    4\n",
              "Longitud_E8                                    8\n",
              "Longitud_E10                                   1\n",
              "Longitud_E11                                  30\n",
              "Media                                          0\n",
              "dtype: int64"
            ]
          },
          "metadata": {
            "tags": []
          },
          "execution_count": 8
        }
      ]
    },
    {
      "cell_type": "code",
      "metadata": {
        "id": "2f02CNkNpqc0",
        "colab_type": "code",
        "colab": {}
      },
      "source": [
        "data[\"Tareas Faltantes\"] =data.isnull().sum(axis=1)/2"
      ],
      "execution_count": 9,
      "outputs": []
    },
    {
      "cell_type": "code",
      "metadata": {
        "id": "nykswnlPpqc2",
        "colab_type": "code",
        "colab": {
          "base_uri": "https://localhost:8080/",
          "height": 476
        },
        "outputId": "9fc7de5c-24a3-4b2c-b26f-905177e211d4"
      },
      "source": [
        "data.head()"
      ],
      "execution_count": 10,
      "outputs": [
        {
          "output_type": "execute_result",
          "data": {
            "text/html": [
              "<div>\n",
              "<style scoped>\n",
              "    .dataframe tbody tr th:only-of-type {\n",
              "        vertical-align: middle;\n",
              "    }\n",
              "\n",
              "    .dataframe tbody tr th {\n",
              "        vertical-align: top;\n",
              "    }\n",
              "\n",
              "    .dataframe thead th {\n",
              "        text-align: right;\n",
              "    }\n",
              "</style>\n",
              "<table border=\"1\" class=\"dataframe\">\n",
              "  <thead>\n",
              "    <tr style=\"text-align: right;\">\n",
              "      <th></th>\n",
              "      <th>Genero</th>\n",
              "      <th>E1 - Examples of Time Series Analysis</th>\n",
              "      <th>E4 - Panel Data</th>\n",
              "      <th>E6 - Decison Trees</th>\n",
              "      <th>E8 - Ensemble Trees Overview</th>\n",
              "      <th>E10 - REST-API</th>\n",
              "      <th>E11 - Natural Language Processing Overview</th>\n",
              "      <th>Longitud_E1</th>\n",
              "      <th>Longitud_E4</th>\n",
              "      <th>Longitud_E6</th>\n",
              "      <th>Longitud_E8</th>\n",
              "      <th>Longitud_E10</th>\n",
              "      <th>Longitud_E11</th>\n",
              "      <th>Media</th>\n",
              "      <th>Tareas Faltantes</th>\n",
              "    </tr>\n",
              "  </thead>\n",
              "  <tbody>\n",
              "    <tr>\n",
              "      <th>0</th>\n",
              "      <td>M</td>\n",
              "      <td>One of the most valuable application of time s...</td>\n",
              "      <td>The main difference between panel data and tim...</td>\n",
              "      <td>Decision tree are a model used by the analytic...</td>\n",
              "      <td>They are used to make a better prediction than...</td>\n",
              "      <td>Es una forma de arquitectura de datos. Los mic...</td>\n",
              "      <td>NaN</td>\n",
              "      <td>301.0</td>\n",
              "      <td>51.0</td>\n",
              "      <td>319.0</td>\n",
              "      <td>309.0</td>\n",
              "      <td>302.0</td>\n",
              "      <td>NaN</td>\n",
              "      <td>256.400000</td>\n",
              "      <td>1.0</td>\n",
              "    </tr>\n",
              "    <tr>\n",
              "      <th>1</th>\n",
              "      <td>F</td>\n",
              "      <td>ANÁLISIS DE SERIES DE TIEMPO – USOS \\nEl análi...</td>\n",
              "      <td>Series de Tiempo vs Datos en Panel\\nUna serie ...</td>\n",
              "      <td>TIPOS DE ÁRBOLES DE DECISIÓN Y APLICACIONES\\nL...</td>\n",
              "      <td>ENSAMBLAJE EN MACHINE LEARNING\\nLos métodos de...</td>\n",
              "      <td>Microservicios\\nEl objetivo principal de la im...</td>\n",
              "      <td>NaN</td>\n",
              "      <td>478.0</td>\n",
              "      <td>190.0</td>\n",
              "      <td>341.0</td>\n",
              "      <td>382.0</td>\n",
              "      <td>305.0</td>\n",
              "      <td>NaN</td>\n",
              "      <td>339.200000</td>\n",
              "      <td>1.0</td>\n",
              "    </tr>\n",
              "    <tr>\n",
              "      <th>2</th>\n",
              "      <td>M</td>\n",
              "      <td>Una serie de tiempo es una colección de datos ...</td>\n",
              "      <td>NaN</td>\n",
              "      <td>los arboles de decisión hacen parte de los alg...</td>\n",
              "      <td>Ensemble methods is a machine learning techniq...</td>\n",
              "      <td>El enfoque tradicional para el diseño de aplic...</td>\n",
              "      <td>LexisNexis launched Lexis Analytics, a legal r...</td>\n",
              "      <td>244.0</td>\n",
              "      <td>NaN</td>\n",
              "      <td>319.0</td>\n",
              "      <td>351.0</td>\n",
              "      <td>334.0</td>\n",
              "      <td>160.0</td>\n",
              "      <td>281.600000</td>\n",
              "      <td>1.0</td>\n",
              "    </tr>\n",
              "    <tr>\n",
              "      <th>3</th>\n",
              "      <td>M</td>\n",
              "      <td>\\nGiven that Time Series Analysis allows to un...</td>\n",
              "      <td>The difference between panel data and time ser...</td>\n",
              "      <td>Decision Trees Algorithms are machine function...</td>\n",
              "      <td>Ensemble methods in Tree Decision algorithms b...</td>\n",
              "      <td>Micro-services are defined as a type of softwa...</td>\n",
              "      <td>NaN</td>\n",
              "      <td>333.0</td>\n",
              "      <td>119.0</td>\n",
              "      <td>273.0</td>\n",
              "      <td>372.0</td>\n",
              "      <td>331.0</td>\n",
              "      <td>NaN</td>\n",
              "      <td>285.600000</td>\n",
              "      <td>1.0</td>\n",
              "    </tr>\n",
              "    <tr>\n",
              "      <th>4</th>\n",
              "      <td>M</td>\n",
              "      <td>Time Series Analysis is concerned with the stu...</td>\n",
              "      <td>A time series is represented by a variable or ...</td>\n",
              "      <td>Decision trees are a popular supervised machin...</td>\n",
              "      <td>The ensemble method is a combination of severa...</td>\n",
              "      <td>A microservice is a type of information techno...</td>\n",
              "      <td>A commercial product which uses Natural Langua...</td>\n",
              "      <td>361.0</td>\n",
              "      <td>228.0</td>\n",
              "      <td>517.0</td>\n",
              "      <td>417.0</td>\n",
              "      <td>341.0</td>\n",
              "      <td>210.0</td>\n",
              "      <td>345.666667</td>\n",
              "      <td>0.0</td>\n",
              "    </tr>\n",
              "  </tbody>\n",
              "</table>\n",
              "</div>"
            ],
            "text/plain": [
              "  Genero  ... Tareas Faltantes\n",
              "0      M  ...              1.0\n",
              "1      F  ...              1.0\n",
              "2      M  ...              1.0\n",
              "3      M  ...              1.0\n",
              "4      M  ...              0.0\n",
              "\n",
              "[5 rows x 15 columns]"
            ]
          },
          "metadata": {
            "tags": []
          },
          "execution_count": 10
        }
      ]
    },
    {
      "cell_type": "code",
      "metadata": {
        "scrolled": false,
        "id": "pLPbZJU0pqc4",
        "colab_type": "code",
        "colab": {
          "base_uri": "https://localhost:8080/",
          "height": 142
        },
        "outputId": "fd62d8f0-f74d-4fe6-89ce-c83cc31f86b3"
      },
      "source": [
        "data.groupby([\"Genero\"])[\"Tareas Faltantes\"].describe(percentiles=[0.05, 0.1, 0.15, 0., .25, .5, .75, 0.9, 0.95])"
      ],
      "execution_count": 11,
      "outputs": [
        {
          "output_type": "execute_result",
          "data": {
            "text/html": [
              "<div>\n",
              "<style scoped>\n",
              "    .dataframe tbody tr th:only-of-type {\n",
              "        vertical-align: middle;\n",
              "    }\n",
              "\n",
              "    .dataframe tbody tr th {\n",
              "        vertical-align: top;\n",
              "    }\n",
              "\n",
              "    .dataframe thead th {\n",
              "        text-align: right;\n",
              "    }\n",
              "</style>\n",
              "<table border=\"1\" class=\"dataframe\">\n",
              "  <thead>\n",
              "    <tr style=\"text-align: right;\">\n",
              "      <th></th>\n",
              "      <th>count</th>\n",
              "      <th>mean</th>\n",
              "      <th>std</th>\n",
              "      <th>min</th>\n",
              "      <th>0%</th>\n",
              "      <th>5%</th>\n",
              "      <th>10%</th>\n",
              "      <th>15%</th>\n",
              "      <th>25%</th>\n",
              "      <th>50%</th>\n",
              "      <th>75%</th>\n",
              "      <th>90%</th>\n",
              "      <th>95%</th>\n",
              "      <th>max</th>\n",
              "    </tr>\n",
              "    <tr>\n",
              "      <th>Genero</th>\n",
              "      <th></th>\n",
              "      <th></th>\n",
              "      <th></th>\n",
              "      <th></th>\n",
              "      <th></th>\n",
              "      <th></th>\n",
              "      <th></th>\n",
              "      <th></th>\n",
              "      <th></th>\n",
              "      <th></th>\n",
              "      <th></th>\n",
              "      <th></th>\n",
              "      <th></th>\n",
              "      <th></th>\n",
              "    </tr>\n",
              "  </thead>\n",
              "  <tbody>\n",
              "    <tr>\n",
              "      <th>F</th>\n",
              "      <td>10.0</td>\n",
              "      <td>0.500000</td>\n",
              "      <td>0.707107</td>\n",
              "      <td>0.0</td>\n",
              "      <td>0.0</td>\n",
              "      <td>0.0</td>\n",
              "      <td>0.0</td>\n",
              "      <td>0.0</td>\n",
              "      <td>0.0</td>\n",
              "      <td>0.0</td>\n",
              "      <td>1.0</td>\n",
              "      <td>1.1</td>\n",
              "      <td>1.55</td>\n",
              "      <td>2.0</td>\n",
              "    </tr>\n",
              "    <tr>\n",
              "      <th>M</th>\n",
              "      <td>36.0</td>\n",
              "      <td>1.166667</td>\n",
              "      <td>0.810643</td>\n",
              "      <td>0.0</td>\n",
              "      <td>0.0</td>\n",
              "      <td>0.0</td>\n",
              "      <td>0.0</td>\n",
              "      <td>0.0</td>\n",
              "      <td>1.0</td>\n",
              "      <td>1.0</td>\n",
              "      <td>2.0</td>\n",
              "      <td>2.0</td>\n",
              "      <td>2.25</td>\n",
              "      <td>3.0</td>\n",
              "    </tr>\n",
              "  </tbody>\n",
              "</table>\n",
              "</div>"
            ],
            "text/plain": [
              "        count      mean       std  min   0%   5%  ...  25%  50%  75%  90%   95%  max\n",
              "Genero                                            ...                               \n",
              "F        10.0  0.500000  0.707107  0.0  0.0  0.0  ...  0.0  0.0  1.0  1.1  1.55  2.0\n",
              "M        36.0  1.166667  0.810643  0.0  0.0  0.0  ...  1.0  1.0  2.0  2.0  2.25  3.0\n",
              "\n",
              "[2 rows x 14 columns]"
            ]
          },
          "metadata": {
            "tags": []
          },
          "execution_count": 11
        }
      ]
    },
    {
      "cell_type": "markdown",
      "metadata": {
        "id": "GAef4_Wwpqc7",
        "colab_type": "text"
      },
      "source": [
        "Los hombres dejaron de hacer en promedio 1.16 tareas, mientras que las mujeres dejaron de hacer en promedio 0.5. El máximo de tareas que dejaron de hacer los hombres es de 3 y el de las mujeres es de 2."
      ]
    },
    {
      "cell_type": "markdown",
      "metadata": {
        "id": "VzYHgIMppqc7",
        "colab_type": "text"
      },
      "source": [
        "La tarea E10 fue respondida por casi todos los estudiantes, solo faltó uno. La tarea que dejaron de responder más estudiantes fue la E11."
      ]
    },
    {
      "cell_type": "markdown",
      "metadata": {
        "id": "cpI1XKUhpqc8",
        "colab_type": "text"
      },
      "source": [
        "### Dentro de los patrones por estudiantes queremos identificar en que idioma suelen responder las tareas"
      ]
    },
    {
      "cell_type": "code",
      "metadata": {
        "scrolled": true,
        "id": "pBTs5cdXpqc8",
        "colab_type": "code",
        "colab": {
          "base_uri": "https://localhost:8080/",
          "height": 734
        },
        "outputId": "067d91e3-5e46-4cda-8b5f-b28cf1f3ace0"
      },
      "source": [
        "#Identifica si la respuesta a cada tarea está en idioma inglés \n",
        "data['English_E1'] = np.where(data['E1 - Examples of Time Series Analysis'].str.contains(\"the\", case=False, na=False), 1, 0)\n",
        "data.loc[data[\"Longitud_E1\"] != data[\"Longitud_E1\"], \"English_E1\"] = np.nan \n",
        "data['English_E4'] = np.where(data['E4 - Panel Data'].str.contains(\"the\", case=False, na=False), 1, 0)\n",
        "data.loc[data[\"Longitud_E4\"] != data[\"Longitud_E4\"], \"English_E4\"] = np.nan \n",
        "data['English_E6'] = np.where(data['E6 - Decison Trees'].str.contains(\"the\", case=False, na=False), 1, 0)\n",
        "data.loc[data[\"Longitud_E6\"] != data[\"Longitud_E6\"], \"English_E6\"] = np.nan\n",
        "data['English_E8'] = np.where(data['E8 - Ensemble Trees Overview'].str.contains(\"the\", case=False, na=False), 1, 0)\n",
        "data.loc[data[\"Longitud_E8\"] != data[\"Longitud_E8\"], \"English_E8\"] = np.nan\n",
        "data['English_E10'] = np.where(data['E10 - REST-API'].str.contains(\"the\", case=False, na=False), 1, 0)\n",
        "data.loc[data[\"Longitud_E10\"] != data[\"Longitud_E10\"], \"English_E10\"] = np.nan\n",
        "data['English_E11'] = np.where(data['E11 - Natural Language Processing Overview'].str.contains(\"the\", case=False, na=False), 1, 0)\n",
        "data.loc[data[\"Longitud_E11\"] != data[\"Longitud_E11\"], \"English_E11\"] = np.nan\n",
        "data.head()"
      ],
      "execution_count": 12,
      "outputs": [
        {
          "output_type": "execute_result",
          "data": {
            "text/html": [
              "<div>\n",
              "<style scoped>\n",
              "    .dataframe tbody tr th:only-of-type {\n",
              "        vertical-align: middle;\n",
              "    }\n",
              "\n",
              "    .dataframe tbody tr th {\n",
              "        vertical-align: top;\n",
              "    }\n",
              "\n",
              "    .dataframe thead th {\n",
              "        text-align: right;\n",
              "    }\n",
              "</style>\n",
              "<table border=\"1\" class=\"dataframe\">\n",
              "  <thead>\n",
              "    <tr style=\"text-align: right;\">\n",
              "      <th></th>\n",
              "      <th>Genero</th>\n",
              "      <th>E1 - Examples of Time Series Analysis</th>\n",
              "      <th>E4 - Panel Data</th>\n",
              "      <th>E6 - Decison Trees</th>\n",
              "      <th>E8 - Ensemble Trees Overview</th>\n",
              "      <th>E10 - REST-API</th>\n",
              "      <th>E11 - Natural Language Processing Overview</th>\n",
              "      <th>Longitud_E1</th>\n",
              "      <th>Longitud_E4</th>\n",
              "      <th>Longitud_E6</th>\n",
              "      <th>Longitud_E8</th>\n",
              "      <th>Longitud_E10</th>\n",
              "      <th>Longitud_E11</th>\n",
              "      <th>Media</th>\n",
              "      <th>Tareas Faltantes</th>\n",
              "      <th>English_E1</th>\n",
              "      <th>English_E4</th>\n",
              "      <th>English_E6</th>\n",
              "      <th>English_E8</th>\n",
              "      <th>English_E10</th>\n",
              "      <th>English_E11</th>\n",
              "    </tr>\n",
              "  </thead>\n",
              "  <tbody>\n",
              "    <tr>\n",
              "      <th>0</th>\n",
              "      <td>M</td>\n",
              "      <td>One of the most valuable application of time s...</td>\n",
              "      <td>The main difference between panel data and tim...</td>\n",
              "      <td>Decision tree are a model used by the analytic...</td>\n",
              "      <td>They are used to make a better prediction than...</td>\n",
              "      <td>Es una forma de arquitectura de datos. Los mic...</td>\n",
              "      <td>NaN</td>\n",
              "      <td>301.0</td>\n",
              "      <td>51.0</td>\n",
              "      <td>319.0</td>\n",
              "      <td>309.0</td>\n",
              "      <td>302.0</td>\n",
              "      <td>NaN</td>\n",
              "      <td>256.400000</td>\n",
              "      <td>1.0</td>\n",
              "      <td>1.0</td>\n",
              "      <td>1.0</td>\n",
              "      <td>1.0</td>\n",
              "      <td>1.0</td>\n",
              "      <td>0.0</td>\n",
              "      <td>NaN</td>\n",
              "    </tr>\n",
              "    <tr>\n",
              "      <th>1</th>\n",
              "      <td>F</td>\n",
              "      <td>ANÁLISIS DE SERIES DE TIEMPO – USOS \\nEl análi...</td>\n",
              "      <td>Series de Tiempo vs Datos en Panel\\nUna serie ...</td>\n",
              "      <td>TIPOS DE ÁRBOLES DE DECISIÓN Y APLICACIONES\\nL...</td>\n",
              "      <td>ENSAMBLAJE EN MACHINE LEARNING\\nLos métodos de...</td>\n",
              "      <td>Microservicios\\nEl objetivo principal de la im...</td>\n",
              "      <td>NaN</td>\n",
              "      <td>478.0</td>\n",
              "      <td>190.0</td>\n",
              "      <td>341.0</td>\n",
              "      <td>382.0</td>\n",
              "      <td>305.0</td>\n",
              "      <td>NaN</td>\n",
              "      <td>339.200000</td>\n",
              "      <td>1.0</td>\n",
              "      <td>0.0</td>\n",
              "      <td>0.0</td>\n",
              "      <td>0.0</td>\n",
              "      <td>1.0</td>\n",
              "      <td>0.0</td>\n",
              "      <td>NaN</td>\n",
              "    </tr>\n",
              "    <tr>\n",
              "      <th>2</th>\n",
              "      <td>M</td>\n",
              "      <td>Una serie de tiempo es una colección de datos ...</td>\n",
              "      <td>NaN</td>\n",
              "      <td>los arboles de decisión hacen parte de los alg...</td>\n",
              "      <td>Ensemble methods is a machine learning techniq...</td>\n",
              "      <td>El enfoque tradicional para el diseño de aplic...</td>\n",
              "      <td>LexisNexis launched Lexis Analytics, a legal r...</td>\n",
              "      <td>244.0</td>\n",
              "      <td>NaN</td>\n",
              "      <td>319.0</td>\n",
              "      <td>351.0</td>\n",
              "      <td>334.0</td>\n",
              "      <td>160.0</td>\n",
              "      <td>281.600000</td>\n",
              "      <td>1.0</td>\n",
              "      <td>0.0</td>\n",
              "      <td>NaN</td>\n",
              "      <td>1.0</td>\n",
              "      <td>1.0</td>\n",
              "      <td>0.0</td>\n",
              "      <td>1.0</td>\n",
              "    </tr>\n",
              "    <tr>\n",
              "      <th>3</th>\n",
              "      <td>M</td>\n",
              "      <td>\\nGiven that Time Series Analysis allows to un...</td>\n",
              "      <td>The difference between panel data and time ser...</td>\n",
              "      <td>Decision Trees Algorithms are machine function...</td>\n",
              "      <td>Ensemble methods in Tree Decision algorithms b...</td>\n",
              "      <td>Micro-services are defined as a type of softwa...</td>\n",
              "      <td>NaN</td>\n",
              "      <td>333.0</td>\n",
              "      <td>119.0</td>\n",
              "      <td>273.0</td>\n",
              "      <td>372.0</td>\n",
              "      <td>331.0</td>\n",
              "      <td>NaN</td>\n",
              "      <td>285.600000</td>\n",
              "      <td>1.0</td>\n",
              "      <td>1.0</td>\n",
              "      <td>1.0</td>\n",
              "      <td>1.0</td>\n",
              "      <td>1.0</td>\n",
              "      <td>1.0</td>\n",
              "      <td>NaN</td>\n",
              "    </tr>\n",
              "    <tr>\n",
              "      <th>4</th>\n",
              "      <td>M</td>\n",
              "      <td>Time Series Analysis is concerned with the stu...</td>\n",
              "      <td>A time series is represented by a variable or ...</td>\n",
              "      <td>Decision trees are a popular supervised machin...</td>\n",
              "      <td>The ensemble method is a combination of severa...</td>\n",
              "      <td>A microservice is a type of information techno...</td>\n",
              "      <td>A commercial product which uses Natural Langua...</td>\n",
              "      <td>361.0</td>\n",
              "      <td>228.0</td>\n",
              "      <td>517.0</td>\n",
              "      <td>417.0</td>\n",
              "      <td>341.0</td>\n",
              "      <td>210.0</td>\n",
              "      <td>345.666667</td>\n",
              "      <td>0.0</td>\n",
              "      <td>1.0</td>\n",
              "      <td>1.0</td>\n",
              "      <td>1.0</td>\n",
              "      <td>1.0</td>\n",
              "      <td>1.0</td>\n",
              "      <td>1.0</td>\n",
              "    </tr>\n",
              "  </tbody>\n",
              "</table>\n",
              "</div>"
            ],
            "text/plain": [
              "  Genero  ... English_E11\n",
              "0      M  ...         NaN\n",
              "1      F  ...         NaN\n",
              "2      M  ...         1.0\n",
              "3      M  ...         NaN\n",
              "4      M  ...         1.0\n",
              "\n",
              "[5 rows x 21 columns]"
            ]
          },
          "metadata": {
            "tags": []
          },
          "execution_count": 12
        }
      ]
    },
    {
      "cell_type": "markdown",
      "metadata": {
        "id": "kNB-dtXKpqc-",
        "colab_type": "text"
      },
      "source": [
        "### Se cambian las etiquetas de género para hacer una análisis más claro"
      ]
    },
    {
      "cell_type": "code",
      "metadata": {
        "scrolled": false,
        "id": "I-RoMP1Ipqc_",
        "colab_type": "code",
        "colab": {
          "base_uri": "https://localhost:8080/",
          "height": 170
        },
        "outputId": "9614adad-c3bf-4e4d-e560-fbd6d6a95f8c"
      },
      "source": [
        "list_name=['English_E1','English_E4','English_E6','English_E8','English_E10','English_E11']\n",
        "data['p_english']=data.loc[:,list_name].sum(axis=1)/(6)\n",
        "data['usa_english']=np.where((data[\"p_english\"])>0, 1, 0)\n",
        "data['usa_english'].describe()"
      ],
      "execution_count": 13,
      "outputs": [
        {
          "output_type": "execute_result",
          "data": {
            "text/plain": [
              "count    46.000000\n",
              "mean      0.434783\n",
              "std       0.501206\n",
              "min       0.000000\n",
              "25%       0.000000\n",
              "50%       0.000000\n",
              "75%       1.000000\n",
              "max       1.000000\n",
              "Name: usa_english, dtype: float64"
            ]
          },
          "metadata": {
            "tags": []
          },
          "execution_count": 13
        }
      ]
    },
    {
      "cell_type": "code",
      "metadata": {
        "scrolled": true,
        "id": "LxOQRLLepqdB",
        "colab_type": "code",
        "colab": {}
      },
      "source": [
        "# Asigna labels a la variable \"GENERO\"\n",
        "Sex = {\"F\": 'Femenino', \"M\": 'Masculino'}\n",
        "data[\"Genero\"] = data[\"Genero\"].apply(lambda x: Sex[x])"
      ],
      "execution_count": 14,
      "outputs": []
    },
    {
      "cell_type": "code",
      "metadata": {
        "scrolled": false,
        "id": "51FoojiZpqdD",
        "colab_type": "code",
        "colab": {
          "base_uri": "https://localhost:8080/",
          "height": 204
        },
        "outputId": "90e9b28e-4d9c-4672-835c-ca9732222999"
      },
      "source": [
        "data.groupby(['Genero'])['p_english'].describe()\n",
        "data.groupby(['Genero','usa_english'])['Media'].describe()"
      ],
      "execution_count": 15,
      "outputs": [
        {
          "output_type": "execute_result",
          "data": {
            "text/html": [
              "<div>\n",
              "<style scoped>\n",
              "    .dataframe tbody tr th:only-of-type {\n",
              "        vertical-align: middle;\n",
              "    }\n",
              "\n",
              "    .dataframe tbody tr th {\n",
              "        vertical-align: top;\n",
              "    }\n",
              "\n",
              "    .dataframe thead th {\n",
              "        text-align: right;\n",
              "    }\n",
              "</style>\n",
              "<table border=\"1\" class=\"dataframe\">\n",
              "  <thead>\n",
              "    <tr style=\"text-align: right;\">\n",
              "      <th></th>\n",
              "      <th></th>\n",
              "      <th>count</th>\n",
              "      <th>mean</th>\n",
              "      <th>std</th>\n",
              "      <th>min</th>\n",
              "      <th>25%</th>\n",
              "      <th>50%</th>\n",
              "      <th>75%</th>\n",
              "      <th>max</th>\n",
              "    </tr>\n",
              "    <tr>\n",
              "      <th>Genero</th>\n",
              "      <th>usa_english</th>\n",
              "      <th></th>\n",
              "      <th></th>\n",
              "      <th></th>\n",
              "      <th></th>\n",
              "      <th></th>\n",
              "      <th></th>\n",
              "      <th></th>\n",
              "      <th></th>\n",
              "    </tr>\n",
              "  </thead>\n",
              "  <tbody>\n",
              "    <tr>\n",
              "      <th rowspan=\"2\" valign=\"top\">Femenino</th>\n",
              "      <th>0</th>\n",
              "      <td>6.0</td>\n",
              "      <td>245.455556</td>\n",
              "      <td>60.300229</td>\n",
              "      <td>138.5</td>\n",
              "      <td>231.141667</td>\n",
              "      <td>253.750000</td>\n",
              "      <td>288.283333</td>\n",
              "      <td>303.333333</td>\n",
              "    </tr>\n",
              "    <tr>\n",
              "      <th>1</th>\n",
              "      <td>4.0</td>\n",
              "      <td>298.300000</td>\n",
              "      <td>81.413490</td>\n",
              "      <td>184.5</td>\n",
              "      <td>270.125000</td>\n",
              "      <td>318.933333</td>\n",
              "      <td>347.108333</td>\n",
              "      <td>370.833333</td>\n",
              "    </tr>\n",
              "    <tr>\n",
              "      <th rowspan=\"2\" valign=\"top\">Masculino</th>\n",
              "      <th>0</th>\n",
              "      <td>20.0</td>\n",
              "      <td>279.508333</td>\n",
              "      <td>75.176063</td>\n",
              "      <td>107.0</td>\n",
              "      <td>233.450000</td>\n",
              "      <td>288.400000</td>\n",
              "      <td>324.500000</td>\n",
              "      <td>411.500000</td>\n",
              "    </tr>\n",
              "    <tr>\n",
              "      <th>1</th>\n",
              "      <td>16.0</td>\n",
              "      <td>293.977083</td>\n",
              "      <td>32.912746</td>\n",
              "      <td>247.0</td>\n",
              "      <td>270.441667</td>\n",
              "      <td>291.800000</td>\n",
              "      <td>307.025000</td>\n",
              "      <td>361.000000</td>\n",
              "    </tr>\n",
              "  </tbody>\n",
              "</table>\n",
              "</div>"
            ],
            "text/plain": [
              "                       count        mean  ...         75%         max\n",
              "Genero    usa_english                     ...                        \n",
              "Femenino  0              6.0  245.455556  ...  288.283333  303.333333\n",
              "          1              4.0  298.300000  ...  347.108333  370.833333\n",
              "Masculino 0             20.0  279.508333  ...  324.500000  411.500000\n",
              "          1             16.0  293.977083  ...  307.025000  361.000000\n",
              "\n",
              "[4 rows x 8 columns]"
            ]
          },
          "metadata": {
            "tags": []
          },
          "execution_count": 15
        }
      ]
    },
    {
      "cell_type": "markdown",
      "metadata": {
        "id": "b7PFGkOUpqdF",
        "colab_type": "text"
      },
      "source": [
        "En la tabla anterior se puede apreciar que hay 46 estudiantes dentro de los cuales 10 son mujeres y 36 son hombres. En promedio, los hombres usan más palabras en sus tareas. Se evidencia más variación en la cantidad de palabras usadas por las mujeres que por los hombres."
      ]
    },
    {
      "cell_type": "code",
      "metadata": {
        "id": "n08HSyHmpqdF",
        "colab_type": "code",
        "colab": {
          "base_uri": "https://localhost:8080/",
          "height": 734
        },
        "outputId": "18dbfd53-fd68-4187-948f-e81755cd6f6b"
      },
      "source": [
        "#Identifica si la respuesta a cada tarea está en idioma inglés \n",
        "data['English_E1'] = np.where(data['E1 - Examples of Time Series Analysis'].str.contains(\"the\", case=False, na=False), 'T', 'F')\n",
        "data.loc[data[\"Longitud_E1\"] != data[\"Longitud_E1\"], \"English_E1\"] = np.nan \n",
        "\n",
        "data['English_E4'] = np.where(data['E4 - Panel Data'].str.contains(\"the\", case=False, na=False), 'T', 'F')\n",
        "data.loc[data[\"Longitud_E4\"] != data[\"Longitud_E4\"], \"English_E4\"] = np.nan \n",
        "\n",
        "data['English_E6'] = np.where(data['E6 - Decison Trees'].str.contains(\"the\", case=False, na=False), 'T', 'F')\n",
        "data.loc[data[\"Longitud_E6\"] != data[\"Longitud_E6\"], \"English_E6\"] = np.nan\n",
        "\n",
        "data['English_E8'] = np.where(data['E8 - Ensemble Trees Overview'].str.contains(\"the\", case=False, na=False), 'T', 'F')\n",
        "data.loc[data[\"Longitud_E8\"] != data[\"Longitud_E8\"], \"English_E8\"] = np.nan\n",
        "\n",
        "data['English_E10'] = np.where(data['E10 - REST-API'].str.contains(\"the\", case=False, na=False), 'T', 'F')\n",
        "data.loc[data[\"Longitud_E10\"] != data[\"Longitud_E10\"], \"English_E10\"] = np.nan\n",
        "\n",
        "data['English_E11'] = np.where(data['E11 - Natural Language Processing Overview'].str.contains(\"the\", case=False, na=False), 'T', 'F')\n",
        "data.loc[data[\"Longitud_E11\"] != data[\"Longitud_E11\"], \"English_E11\"] = np.nan\n",
        "\n",
        "\n",
        "data.head()"
      ],
      "execution_count": 16,
      "outputs": [
        {
          "output_type": "execute_result",
          "data": {
            "text/html": [
              "<div>\n",
              "<style scoped>\n",
              "    .dataframe tbody tr th:only-of-type {\n",
              "        vertical-align: middle;\n",
              "    }\n",
              "\n",
              "    .dataframe tbody tr th {\n",
              "        vertical-align: top;\n",
              "    }\n",
              "\n",
              "    .dataframe thead th {\n",
              "        text-align: right;\n",
              "    }\n",
              "</style>\n",
              "<table border=\"1\" class=\"dataframe\">\n",
              "  <thead>\n",
              "    <tr style=\"text-align: right;\">\n",
              "      <th></th>\n",
              "      <th>Genero</th>\n",
              "      <th>E1 - Examples of Time Series Analysis</th>\n",
              "      <th>E4 - Panel Data</th>\n",
              "      <th>E6 - Decison Trees</th>\n",
              "      <th>E8 - Ensemble Trees Overview</th>\n",
              "      <th>E10 - REST-API</th>\n",
              "      <th>E11 - Natural Language Processing Overview</th>\n",
              "      <th>Longitud_E1</th>\n",
              "      <th>Longitud_E4</th>\n",
              "      <th>Longitud_E6</th>\n",
              "      <th>Longitud_E8</th>\n",
              "      <th>Longitud_E10</th>\n",
              "      <th>Longitud_E11</th>\n",
              "      <th>Media</th>\n",
              "      <th>Tareas Faltantes</th>\n",
              "      <th>English_E1</th>\n",
              "      <th>English_E4</th>\n",
              "      <th>English_E6</th>\n",
              "      <th>English_E8</th>\n",
              "      <th>English_E10</th>\n",
              "      <th>English_E11</th>\n",
              "      <th>p_english</th>\n",
              "      <th>usa_english</th>\n",
              "    </tr>\n",
              "  </thead>\n",
              "  <tbody>\n",
              "    <tr>\n",
              "      <th>0</th>\n",
              "      <td>Masculino</td>\n",
              "      <td>One of the most valuable application of time s...</td>\n",
              "      <td>The main difference between panel data and tim...</td>\n",
              "      <td>Decision tree are a model used by the analytic...</td>\n",
              "      <td>They are used to make a better prediction than...</td>\n",
              "      <td>Es una forma de arquitectura de datos. Los mic...</td>\n",
              "      <td>NaN</td>\n",
              "      <td>301.0</td>\n",
              "      <td>51.0</td>\n",
              "      <td>319.0</td>\n",
              "      <td>309.0</td>\n",
              "      <td>302.0</td>\n",
              "      <td>NaN</td>\n",
              "      <td>256.400000</td>\n",
              "      <td>1.0</td>\n",
              "      <td>T</td>\n",
              "      <td>T</td>\n",
              "      <td>T</td>\n",
              "      <td>T</td>\n",
              "      <td>F</td>\n",
              "      <td>NaN</td>\n",
              "      <td>0.666667</td>\n",
              "      <td>1</td>\n",
              "    </tr>\n",
              "    <tr>\n",
              "      <th>1</th>\n",
              "      <td>Femenino</td>\n",
              "      <td>ANÁLISIS DE SERIES DE TIEMPO – USOS \\nEl análi...</td>\n",
              "      <td>Series de Tiempo vs Datos en Panel\\nUna serie ...</td>\n",
              "      <td>TIPOS DE ÁRBOLES DE DECISIÓN Y APLICACIONES\\nL...</td>\n",
              "      <td>ENSAMBLAJE EN MACHINE LEARNING\\nLos métodos de...</td>\n",
              "      <td>Microservicios\\nEl objetivo principal de la im...</td>\n",
              "      <td>NaN</td>\n",
              "      <td>478.0</td>\n",
              "      <td>190.0</td>\n",
              "      <td>341.0</td>\n",
              "      <td>382.0</td>\n",
              "      <td>305.0</td>\n",
              "      <td>NaN</td>\n",
              "      <td>339.200000</td>\n",
              "      <td>1.0</td>\n",
              "      <td>F</td>\n",
              "      <td>F</td>\n",
              "      <td>F</td>\n",
              "      <td>T</td>\n",
              "      <td>F</td>\n",
              "      <td>NaN</td>\n",
              "      <td>0.166667</td>\n",
              "      <td>1</td>\n",
              "    </tr>\n",
              "    <tr>\n",
              "      <th>2</th>\n",
              "      <td>Masculino</td>\n",
              "      <td>Una serie de tiempo es una colección de datos ...</td>\n",
              "      <td>NaN</td>\n",
              "      <td>los arboles de decisión hacen parte de los alg...</td>\n",
              "      <td>Ensemble methods is a machine learning techniq...</td>\n",
              "      <td>El enfoque tradicional para el diseño de aplic...</td>\n",
              "      <td>LexisNexis launched Lexis Analytics, a legal r...</td>\n",
              "      <td>244.0</td>\n",
              "      <td>NaN</td>\n",
              "      <td>319.0</td>\n",
              "      <td>351.0</td>\n",
              "      <td>334.0</td>\n",
              "      <td>160.0</td>\n",
              "      <td>281.600000</td>\n",
              "      <td>1.0</td>\n",
              "      <td>F</td>\n",
              "      <td>NaN</td>\n",
              "      <td>T</td>\n",
              "      <td>T</td>\n",
              "      <td>F</td>\n",
              "      <td>T</td>\n",
              "      <td>0.500000</td>\n",
              "      <td>1</td>\n",
              "    </tr>\n",
              "    <tr>\n",
              "      <th>3</th>\n",
              "      <td>Masculino</td>\n",
              "      <td>\\nGiven that Time Series Analysis allows to un...</td>\n",
              "      <td>The difference between panel data and time ser...</td>\n",
              "      <td>Decision Trees Algorithms are machine function...</td>\n",
              "      <td>Ensemble methods in Tree Decision algorithms b...</td>\n",
              "      <td>Micro-services are defined as a type of softwa...</td>\n",
              "      <td>NaN</td>\n",
              "      <td>333.0</td>\n",
              "      <td>119.0</td>\n",
              "      <td>273.0</td>\n",
              "      <td>372.0</td>\n",
              "      <td>331.0</td>\n",
              "      <td>NaN</td>\n",
              "      <td>285.600000</td>\n",
              "      <td>1.0</td>\n",
              "      <td>T</td>\n",
              "      <td>T</td>\n",
              "      <td>T</td>\n",
              "      <td>T</td>\n",
              "      <td>T</td>\n",
              "      <td>NaN</td>\n",
              "      <td>0.833333</td>\n",
              "      <td>1</td>\n",
              "    </tr>\n",
              "    <tr>\n",
              "      <th>4</th>\n",
              "      <td>Masculino</td>\n",
              "      <td>Time Series Analysis is concerned with the stu...</td>\n",
              "      <td>A time series is represented by a variable or ...</td>\n",
              "      <td>Decision trees are a popular supervised machin...</td>\n",
              "      <td>The ensemble method is a combination of severa...</td>\n",
              "      <td>A microservice is a type of information techno...</td>\n",
              "      <td>A commercial product which uses Natural Langua...</td>\n",
              "      <td>361.0</td>\n",
              "      <td>228.0</td>\n",
              "      <td>517.0</td>\n",
              "      <td>417.0</td>\n",
              "      <td>341.0</td>\n",
              "      <td>210.0</td>\n",
              "      <td>345.666667</td>\n",
              "      <td>0.0</td>\n",
              "      <td>T</td>\n",
              "      <td>T</td>\n",
              "      <td>T</td>\n",
              "      <td>T</td>\n",
              "      <td>T</td>\n",
              "      <td>T</td>\n",
              "      <td>1.000000</td>\n",
              "      <td>1</td>\n",
              "    </tr>\n",
              "  </tbody>\n",
              "</table>\n",
              "</div>"
            ],
            "text/plain": [
              "      Genero  ... usa_english\n",
              "0  Masculino  ...           1\n",
              "1   Femenino  ...           1\n",
              "2  Masculino  ...           1\n",
              "3  Masculino  ...           1\n",
              "4  Masculino  ...           1\n",
              "\n",
              "[5 rows x 23 columns]"
            ]
          },
          "metadata": {
            "tags": []
          },
          "execution_count": 16
        }
      ]
    },
    {
      "cell_type": "markdown",
      "metadata": {
        "id": "gKYg6fdzpqdI",
        "colab_type": "text"
      },
      "source": [
        "### Gráfica"
      ]
    },
    {
      "cell_type": "code",
      "metadata": {
        "id": "TPZYWcvDpqdI",
        "colab_type": "code",
        "colab": {
          "base_uri": "https://localhost:8080/",
          "height": 51
        },
        "outputId": "bb169701-a311-4f60-84eb-0aefbc79231e"
      },
      "source": [
        "import seaborn as sns\n",
        "import matplotlib.pyplot as plt\n",
        "from scipy import stats"
      ],
      "execution_count": 17,
      "outputs": [
        {
          "output_type": "stream",
          "text": [
            "/usr/local/lib/python3.6/dist-packages/statsmodels/tools/_testing.py:19: FutureWarning: pandas.util.testing is deprecated. Use the functions in the public API at pandas.testing instead.\n",
            "  import pandas.util.testing as tm\n"
          ],
          "name": "stderr"
        }
      ]
    },
    {
      "cell_type": "markdown",
      "metadata": {
        "id": "AhT1AHxppqdK",
        "colab_type": "text"
      },
      "source": [
        "### En las siguientes gráficas se identifica por cada ID de estudiante y género, las palabras que usó para responder cada tarea."
      ]
    },
    {
      "cell_type": "code",
      "metadata": {
        "scrolled": true,
        "id": "Y06fM6iipqdK",
        "colab_type": "code",
        "colab": {
          "base_uri": "https://localhost:8080/",
          "height": 1000
        },
        "outputId": "01cc25c3-6041-4975-b5c4-928b39247812"
      },
      "source": [
        "titulos = ['E1 - Examples of Time Series Analysis', 'E4 - Panel Data', 'E6 - Decison Trees', 'E8 - Ensemble Trees Overview','E10 - REST-API','E11 - Natural Language Processing Overview' ]\n",
        "\n",
        "for i in range(7,13):\n",
        "\n",
        "    summary=data.iloc[:,[0,i]].dropna()\n",
        "    summary\n",
        "\n",
        "    SerieM = summary.loc[summary.Genero==\"Masculino\"]\n",
        "    SerieF = summary.loc[summary.Genero==\"Femenino\"]\n",
        "\n",
        "    SerieF = SerieF.iloc[:,[1]]\n",
        "    SerieM = SerieM.iloc[:,[1]]\n",
        "\n",
        "    plt.plot(SerieF,label=\"Femenino\")\n",
        "    plt.plot(SerieM,label=\"Masculino\")\n",
        "    plt.title(titulos[i-7])\n",
        "    plt.legend()\n",
        "    plt.xlabel('estudiante')\n",
        "    plt.ylabel('palabras por tarea')\n",
        "    plt.show()\n",
        "\n"
      ],
      "execution_count": 18,
      "outputs": [
        {
          "output_type": "display_data",
          "data": {
            "image/png": "[encoded data removed]",
            "text/plain": [
              "<Figure size 432x288 with 1 Axes>"
            ]
          },
          "metadata": {
            "tags": [],
            "needs_background": "light"
          }
        },
        {
          "output_type": "display_data",
          "data": {
            "image/png": "[encoded data removed]",
            "text/plain": [
              "<Figure size 432x288 with 1 Axes>"
            ]
          },
          "metadata": {
            "tags": [],
            "needs_background": "light"
          }
        },
        {
          "output_type": "display_data",
          "data": {
            "image/png": "[encoded data removed]",
            "text/plain": [
              "<Figure size 432x288 with 1 Axes>"
            ]
          },
          "metadata": {
            "tags": [],
            "needs_background": "light"
          }
        },
        {
          "output_type": "display_data",
          "data": {
            "image/png": "[encoded data removed]",
            "text/plain": [
              "<Figure size 432x288 with 1 Axes>"
            ]
          },
          "metadata": {
            "tags": [],
            "needs_background": "light"
          }
        },
        {
          "output_type": "display_data",
          "data": {
            "image/png": "[encoded data removed]",
            "text/plain": [
              "<Figure size 432x288 with 1 Axes>"
            ]
          },
          "metadata": {
            "tags": [],
            "needs_background": "light"
          }
        },
        {
          "output_type": "display_data",
          "data": {
            "image/png": "[encoded data removed]",
            "text/plain": [
              "<Figure size 432x288 with 1 Axes>"
            ]
          },
          "metadata": {
            "tags": [],
            "needs_background": "light"
          }
        }
      ]
    },
    {
      "cell_type": "markdown",
      "metadata": {
        "id": "Pbajwjr0pqdM",
        "colab_type": "text"
      },
      "source": [
        "### Cantidad de estudiantes por género\n",
        "\n",
        "En esta gráfica se puede ver la cantidad de estudiantes distribuidos por género, donde se aprecia que los hombres represtentan mayor proporción que las mujeres"
      ]
    },
    {
      "cell_type": "code",
      "metadata": {
        "id": "xGSIZw6NpqdN",
        "colab_type": "code",
        "colab": {
          "base_uri": "https://localhost:8080/",
          "height": 391
        },
        "outputId": "42c95eda-e6c7-49f5-d33a-426cb361c64f"
      },
      "source": [
        "pd.Series(data[\"Genero\"]).value_counts().plot(kind = \"bar\",figsize=(8,6),rot = 0)"
      ],
      "execution_count": 19,
      "outputs": [
        {
          "output_type": "execute_result",
          "data": {
            "text/plain": [
              "<matplotlib.axes._subplots.AxesSubplot at 0x7ff4bb79ea90>"
            ]
          },
          "metadata": {
            "tags": []
          },
          "execution_count": 19
        },
        {
          "output_type": "display_data",
          "data": {
            "image/png": "[encoded data removed]",
            "text/plain": [
              "<Figure size 576x432 with 1 Axes>"
            ]
          },
          "metadata": {
            "tags": [],
            "needs_background": "light"
          }
        }
      ]
    },
    {
      "cell_type": "markdown",
      "metadata": {
        "id": "ihspLtTQpqdP",
        "colab_type": "text"
      },
      "source": [
        "### Gráfica de promedio de palabras por género\n",
        "En esta se encuentra que las mujeres usan en promedio menos palabras para responder las tareas que los hombres."
      ]
    },
    {
      "cell_type": "code",
      "metadata": {
        "scrolled": false,
        "id": "ZgewT1MMpqdP",
        "colab_type": "code",
        "colab": {
          "base_uri": "https://localhost:8080/",
          "height": 340
        },
        "outputId": "92a6c9dc-ec0b-4d24-b5df-5882dfa433ab"
      },
      "source": [
        "data.groupby(['Genero']).mean()['Media'].plot(kind = 'bar')"
      ],
      "execution_count": 20,
      "outputs": [
        {
          "output_type": "execute_result",
          "data": {
            "text/plain": [
              "<matplotlib.axes._subplots.AxesSubplot at 0x7ff4bdd82780>"
            ]
          },
          "metadata": {
            "tags": []
          },
          "execution_count": 20
        },
        {
          "output_type": "display_data",
          "data": {
            "image/png": "[encoded data removed]",
            "text/plain": [
              "<Figure size 432x288 with 1 Axes>"
            ]
          },
          "metadata": {
            "tags": [],
            "needs_background": "light"
          }
        }
      ]
    },
    {
      "cell_type": "code",
      "metadata": {
        "id": "a-SiGqU8pqdR",
        "colab_type": "code",
        "colab": {}
      },
      "source": [
        "import matplotlib.pyplot as plt"
      ],
      "execution_count": 21,
      "outputs": []
    },
    {
      "cell_type": "markdown",
      "metadata": {
        "id": "bqyYA1UspqdT",
        "colab_type": "text"
      },
      "source": [
        "### Gráfica por género e idioma en que fueron respondidas las tareas\n",
        "Se identifica que las mujeres suelen usar más palabrasen inglés en las respuestas de tareas más que los hombres. A excepción de la E8 donde todas las mujeres respondieron en español."
      ]
    },
    {
      "cell_type": "code",
      "metadata": {
        "scrolled": true,
        "id": "XZOK8sq9pqdT",
        "colab_type": "code",
        "colab": {
          "base_uri": "https://localhost:8080/",
          "height": 1000
        },
        "outputId": "713513a8-af53-4d0d-808c-527e9c7b9217"
      },
      "source": [
        "plt.figure()\n",
        "data.groupby(['Genero','English_E1']).mean()['Longitud_E1'].unstack().plot(kind = 'bar')\n",
        "data.groupby(['Genero','English_E4']).mean()['Longitud_E4'].unstack().plot(kind = 'bar')\n",
        "data.groupby(['Genero','English_E6']).mean()['Longitud_E6'].unstack().plot(kind = 'bar')\n",
        "data.groupby(['Genero','English_E8']).mean()['Longitud_E8'].unstack().plot(kind = 'bar')\n",
        "data.groupby(['Genero','English_E10']).mean()['Longitud_E10'].unstack().plot(kind = 'bar')\n",
        "data.groupby(['Genero','English_E11']).mean()['Longitud_E11'].unstack().plot(kind = 'bar')"
      ],
      "execution_count": 22,
      "outputs": [
        {
          "output_type": "execute_result",
          "data": {
            "text/plain": [
              "<matplotlib.axes._subplots.AxesSubplot at 0x7ff4bb4b3518>"
            ]
          },
          "metadata": {
            "tags": []
          },
          "execution_count": 22
        },
        {
          "output_type": "display_data",
          "data": {
            "text/plain": [
              "<Figure size 432x288 with 0 Axes>"
            ]
          },
          "metadata": {
            "tags": []
          }
        },
        {
          "output_type": "display_data",
          "data": {
            "image/png": "[encoded data removed]",
            "text/plain": [
              "<Figure size 432x288 with 1 Axes>"
            ]
          },
          "metadata": {
            "tags": [],
            "needs_background": "light"
          }
        },
        {
          "output_type": "display_data",
          "data": {
            "image/png": "[encoded data removed]",
            "text/plain": [
              "<Figure size 432x288 with 1 Axes>"
            ]
          },
          "metadata": {
            "tags": [],
            "needs_background": "light"
          }
        },
        {
          "output_type": "display_data",
          "data": {
            "image/png": "[encoded data removed]",
            "text/plain": [
              "<Figure size 432x288 with 1 Axes>"
            ]
          },
          "metadata": {
            "tags": [],
            "needs_background": "light"
          }
        },
        {
          "output_type": "display_data",
          "data": {
            "image/png": "[encoded data removed]",
            "text/plain": [
              "<Figure size 432x288 with 1 Axes>"
            ]
          },
          "metadata": {
            "tags": [],
            "needs_background": "light"
          }
        },
        {
          "output_type": "display_data",
          "data": {
            "image/png": "[encoded data removed]",
            "text/plain": [
              "<Figure size 432x288 with 1 Axes>"
            ]
          },
          "metadata": {
            "tags": [],
            "needs_background": "light"
          }
        },
        {
          "output_type": "display_data",
          "data": {
            "image/png": "[encoded data removed]",
            "text/plain": [
              "<Figure size 432x288 with 1 Axes>"
            ]
          },
          "metadata": {
            "tags": [],
            "needs_background": "light"
          }
        }
      ]
    },
    {
      "cell_type": "markdown",
      "metadata": {
        "id": "qhpuYEMhpqdW",
        "colab_type": "text"
      },
      "source": [
        "### Boxplot del promedio de palabras por género"
      ]
    },
    {
      "cell_type": "code",
      "metadata": {
        "scrolled": false,
        "id": "74cgoqkfpqdW",
        "colab_type": "code",
        "colab": {
          "base_uri": "https://localhost:8080/",
          "height": 351
        },
        "outputId": "3d65f421-032c-4e45-f7f8-83e2c99e4ea7"
      },
      "source": [
        "plt.figure(figsize=(15,5))\n",
        "sns.boxplot(x=\"Genero\", y=\"Media\",  data=data, palette=\"Set3\")"
      ],
      "execution_count": 23,
      "outputs": [
        {
          "output_type": "execute_result",
          "data": {
            "text/plain": [
              "<matplotlib.axes._subplots.AxesSubplot at 0x7ff4bb74dba8>"
            ]
          },
          "metadata": {
            "tags": []
          },
          "execution_count": 23
        },
        {
          "output_type": "display_data",
          "data": {
            "image/png": "[encoded data removed]",
            "text/plain": [
              "<Figure size 1080x360 with 1 Axes>"
            ]
          },
          "metadata": {
            "tags": [],
            "needs_background": "light"
          }
        }
      ]
    },
    {
      "cell_type": "markdown",
      "metadata": {
        "id": "ibOot6BypqdY",
        "colab_type": "text"
      },
      "source": [
        "Se evidencia que el promedio de palabras usadas por los hombres es superior al de las mujeres, aunque las mujeres tienden a usar menos palabras de la media."
      ]
    },
    {
      "cell_type": "markdown",
      "metadata": {
        "id": "D9Ayt1Q6pqdZ",
        "colab_type": "text"
      },
      "source": [
        "### Boxplot del promedio de palabras por género del ejercicio E1"
      ]
    },
    {
      "cell_type": "code",
      "metadata": {
        "scrolled": true,
        "id": "mrerKttcpqdZ",
        "colab_type": "code",
        "colab": {
          "base_uri": "https://localhost:8080/",
          "height": 351
        },
        "outputId": "ab62f9c6-fd29-4533-f9d6-f9e3c97b23ba"
      },
      "source": [
        "plt.figure(figsize=(15,5))\n",
        "sns.boxplot(x=\"Genero\", y=\"Longitud_E1\",  data=data, palette=\"Set3\")"
      ],
      "execution_count": 24,
      "outputs": [
        {
          "output_type": "execute_result",
          "data": {
            "text/plain": [
              "<matplotlib.axes._subplots.AxesSubplot at 0x7ff4bb4cdd30>"
            ]
          },
          "metadata": {
            "tags": []
          },
          "execution_count": 24
        },
        {
          "output_type": "display_data",
          "data": {
            "image/png": "[encoded data removed]",
            "text/plain": [
              "<Figure size 1080x360 with 1 Axes>"
            ]
          },
          "metadata": {
            "tags": [],
            "needs_background": "light"
          }
        }
      ]
    },
    {
      "cell_type": "code",
      "metadata": {
        "scrolled": false,
        "id": "pDNvEAUNpqdb",
        "colab_type": "code",
        "colab": {
          "base_uri": "https://localhost:8080/",
          "height": 142
        },
        "outputId": "795f4cb8-ff4a-45ba-9a0d-918dc3114c24"
      },
      "source": [
        "data.groupby(['Genero'])['Longitud_E1'].describe(percentiles=[0.05, 0.1, 0.15, 0., .25, .5, .75, 0.9, 0.95])"
      ],
      "execution_count": 25,
      "outputs": [
        {
          "output_type": "execute_result",
          "data": {
            "text/html": [
              "<div>\n",
              "<style scoped>\n",
              "    .dataframe tbody tr th:only-of-type {\n",
              "        vertical-align: middle;\n",
              "    }\n",
              "\n",
              "    .dataframe tbody tr th {\n",
              "        vertical-align: top;\n",
              "    }\n",
              "\n",
              "    .dataframe thead th {\n",
              "        text-align: right;\n",
              "    }\n",
              "</style>\n",
              "<table border=\"1\" class=\"dataframe\">\n",
              "  <thead>\n",
              "    <tr style=\"text-align: right;\">\n",
              "      <th></th>\n",
              "      <th>count</th>\n",
              "      <th>mean</th>\n",
              "      <th>std</th>\n",
              "      <th>min</th>\n",
              "      <th>0%</th>\n",
              "      <th>5%</th>\n",
              "      <th>10%</th>\n",
              "      <th>15%</th>\n",
              "      <th>25%</th>\n",
              "      <th>50%</th>\n",
              "      <th>75%</th>\n",
              "      <th>90%</th>\n",
              "      <th>95%</th>\n",
              "      <th>max</th>\n",
              "    </tr>\n",
              "    <tr>\n",
              "      <th>Genero</th>\n",
              "      <th></th>\n",
              "      <th></th>\n",
              "      <th></th>\n",
              "      <th></th>\n",
              "      <th></th>\n",
              "      <th></th>\n",
              "      <th></th>\n",
              "      <th></th>\n",
              "      <th></th>\n",
              "      <th></th>\n",
              "      <th></th>\n",
              "      <th></th>\n",
              "      <th></th>\n",
              "      <th></th>\n",
              "    </tr>\n",
              "  </thead>\n",
              "  <tbody>\n",
              "    <tr>\n",
              "      <th>Femenino</th>\n",
              "      <td>10.0</td>\n",
              "      <td>319.800000</td>\n",
              "      <td>67.958811</td>\n",
              "      <td>199.0</td>\n",
              "      <td>199.0</td>\n",
              "      <td>241.3</td>\n",
              "      <td>283.6</td>\n",
              "      <td>296.5</td>\n",
              "      <td>303.75</td>\n",
              "      <td>312.0</td>\n",
              "      <td>330.00</td>\n",
              "      <td>354.7</td>\n",
              "      <td>416.35</td>\n",
              "      <td>478.0</td>\n",
              "    </tr>\n",
              "    <tr>\n",
              "      <th>Masculino</th>\n",
              "      <td>34.0</td>\n",
              "      <td>306.294118</td>\n",
              "      <td>99.384021</td>\n",
              "      <td>15.0</td>\n",
              "      <td>15.0</td>\n",
              "      <td>136.3</td>\n",
              "      <td>170.6</td>\n",
              "      <td>240.4</td>\n",
              "      <td>286.00</td>\n",
              "      <td>307.5</td>\n",
              "      <td>360.25</td>\n",
              "      <td>408.3</td>\n",
              "      <td>457.80</td>\n",
              "      <td>497.0</td>\n",
              "    </tr>\n",
              "  </tbody>\n",
              "</table>\n",
              "</div>"
            ],
            "text/plain": [
              "           count        mean        std    min  ...     75%    90%     95%    max\n",
              "Genero                                          ...                              \n",
              "Femenino    10.0  319.800000  67.958811  199.0  ...  330.00  354.7  416.35  478.0\n",
              "Masculino   34.0  306.294118  99.384021   15.0  ...  360.25  408.3  457.80  497.0\n",
              "\n",
              "[2 rows x 14 columns]"
            ]
          },
          "metadata": {
            "tags": []
          },
          "execution_count": 25
        }
      ]
    },
    {
      "cell_type": "markdown",
      "metadata": {
        "id": "LgaqLRG0pqdc",
        "colab_type": "text"
      },
      "source": [
        "En el ejercicio E1 se evidencia que la mayoría de las mujeres usan en promedio la misma cantidad de palabras a excepción de dos outliers. Los hombres tienen una desviación más alta en esta tarea."
      ]
    },
    {
      "cell_type": "markdown",
      "metadata": {
        "id": "YyiUFx0gpqdd",
        "colab_type": "text"
      },
      "source": [
        "### Boxplot del promedio de palabras por idioma del ejercicio E1"
      ]
    },
    {
      "cell_type": "code",
      "metadata": {
        "scrolled": true,
        "id": "QOd3dwgapqdd",
        "colab_type": "code",
        "colab": {
          "base_uri": "https://localhost:8080/",
          "height": 352
        },
        "outputId": "2c38beb0-e6d1-4df7-8d26-3b2b377c44c0"
      },
      "source": [
        "plt.figure(figsize=(15,5))\n",
        "sns.boxplot(x=\"English_E1\", y=\"Longitud_E1\",  data=data, palette=\"Set3\")"
      ],
      "execution_count": 26,
      "outputs": [
        {
          "output_type": "execute_result",
          "data": {
            "text/plain": [
              "<matplotlib.axes._subplots.AxesSubplot at 0x7ff4bb51e518>"
            ]
          },
          "metadata": {
            "tags": []
          },
          "execution_count": 26
        },
        {
          "output_type": "display_data",
          "data": {
            "image/png": "[encoded data removed]",
            "text/plain": [
              "<Figure size 1080x360 with 1 Axes>"
            ]
          },
          "metadata": {
            "tags": [],
            "needs_background": "light"
          }
        }
      ]
    },
    {
      "cell_type": "code",
      "metadata": {
        "scrolled": false,
        "id": "idKdxgK6pqdf",
        "colab_type": "code",
        "colab": {
          "base_uri": "https://localhost:8080/",
          "height": 142
        },
        "outputId": "884caf25-9fa9-46b8-da8f-8f4c9c2b0603"
      },
      "source": [
        "data.groupby(['English_E1'])['Longitud_E1'].describe(percentiles=[0.05, 0.1, 0.15, 0., .25, .5, .75, 0.9, 0.95])"
      ],
      "execution_count": 27,
      "outputs": [
        {
          "output_type": "execute_result",
          "data": {
            "text/html": [
              "<div>\n",
              "<style scoped>\n",
              "    .dataframe tbody tr th:only-of-type {\n",
              "        vertical-align: middle;\n",
              "    }\n",
              "\n",
              "    .dataframe tbody tr th {\n",
              "        vertical-align: top;\n",
              "    }\n",
              "\n",
              "    .dataframe thead th {\n",
              "        text-align: right;\n",
              "    }\n",
              "</style>\n",
              "<table border=\"1\" class=\"dataframe\">\n",
              "  <thead>\n",
              "    <tr style=\"text-align: right;\">\n",
              "      <th></th>\n",
              "      <th>count</th>\n",
              "      <th>mean</th>\n",
              "      <th>std</th>\n",
              "      <th>min</th>\n",
              "      <th>0%</th>\n",
              "      <th>5%</th>\n",
              "      <th>10%</th>\n",
              "      <th>15%</th>\n",
              "      <th>25%</th>\n",
              "      <th>50%</th>\n",
              "      <th>75%</th>\n",
              "      <th>90%</th>\n",
              "      <th>95%</th>\n",
              "      <th>max</th>\n",
              "    </tr>\n",
              "    <tr>\n",
              "      <th>English_E1</th>\n",
              "      <th></th>\n",
              "      <th></th>\n",
              "      <th></th>\n",
              "      <th></th>\n",
              "      <th></th>\n",
              "      <th></th>\n",
              "      <th></th>\n",
              "      <th></th>\n",
              "      <th></th>\n",
              "      <th></th>\n",
              "      <th></th>\n",
              "      <th></th>\n",
              "      <th></th>\n",
              "      <th></th>\n",
              "    </tr>\n",
              "  </thead>\n",
              "  <tbody>\n",
              "    <tr>\n",
              "      <th>F</th>\n",
              "      <td>30.0</td>\n",
              "      <td>303.333333</td>\n",
              "      <td>109.755318</td>\n",
              "      <td>15.0</td>\n",
              "      <td>15.0</td>\n",
              "      <td>127.9</td>\n",
              "      <td>168.1</td>\n",
              "      <td>181.45</td>\n",
              "      <td>276.00</td>\n",
              "      <td>303.5</td>\n",
              "      <td>358.25</td>\n",
              "      <td>444.7</td>\n",
              "      <td>484.05</td>\n",
              "      <td>497.0</td>\n",
              "    </tr>\n",
              "    <tr>\n",
              "      <th>T</th>\n",
              "      <td>14.0</td>\n",
              "      <td>322.285714</td>\n",
              "      <td>35.249503</td>\n",
              "      <td>245.0</td>\n",
              "      <td>245.0</td>\n",
              "      <td>273.6</td>\n",
              "      <td>292.6</td>\n",
              "      <td>300.40</td>\n",
              "      <td>303.75</td>\n",
              "      <td>318.5</td>\n",
              "      <td>341.00</td>\n",
              "      <td>360.1</td>\n",
              "      <td>370.10</td>\n",
              "      <td>387.0</td>\n",
              "    </tr>\n",
              "  </tbody>\n",
              "</table>\n",
              "</div>"
            ],
            "text/plain": [
              "            count        mean         std    min  ...     75%    90%     95%    max\n",
              "English_E1                                        ...                              \n",
              "F            30.0  303.333333  109.755318   15.0  ...  358.25  444.7  484.05  497.0\n",
              "T            14.0  322.285714   35.249503  245.0  ...  341.00  360.1  370.10  387.0\n",
              "\n",
              "[2 rows x 14 columns]"
            ]
          },
          "metadata": {
            "tags": []
          },
          "execution_count": 27
        }
      ]
    },
    {
      "cell_type": "markdown",
      "metadata": {
        "id": "6Sp2giHMpqdk",
        "colab_type": "text"
      },
      "source": [
        "En promedio fueron usadas mas palabras para responder el ejercicio E1 en español que en inglés, aunque en español se aprecia una desviación más alta a unas más palabras que el promedio."
      ]
    },
    {
      "cell_type": "markdown",
      "metadata": {
        "id": "3is5fZwKpqdl",
        "colab_type": "text"
      },
      "source": [
        "### Boxplot del promedio de palabras por idioma del ejercicio E4"
      ]
    },
    {
      "cell_type": "code",
      "metadata": {
        "scrolled": false,
        "id": "6ZC4oYGHpqdl",
        "colab_type": "code",
        "colab": {
          "base_uri": "https://localhost:8080/",
          "height": 353
        },
        "outputId": "07f5ff01-b6d3-47b8-80b8-73aff67c96de"
      },
      "source": [
        "plt.figure(figsize=(15,5))\n",
        "sns.boxplot(x=\"English_E4\", y=\"Longitud_E4\",  data=data, palette=\"Set3\")"
      ],
      "execution_count": 28,
      "outputs": [
        {
          "output_type": "execute_result",
          "data": {
            "text/plain": [
              "<matplotlib.axes._subplots.AxesSubplot at 0x7ff4bb617898>"
            ]
          },
          "metadata": {
            "tags": []
          },
          "execution_count": 28
        },
        {
          "output_type": "display_data",
          "data": {
            "image/png": "[encoded data removed]",
            "text/plain": [
              "<Figure size 1080x360 with 1 Axes>"
            ]
          },
          "metadata": {
            "tags": [],
            "needs_background": "light"
          }
        }
      ]
    },
    {
      "cell_type": "code",
      "metadata": {
        "scrolled": false,
        "id": "PrdmFDxXpqdn",
        "colab_type": "code",
        "colab": {
          "base_uri": "https://localhost:8080/",
          "height": 142
        },
        "outputId": "554d54eb-12ed-45bf-cd60-a32b425d0253"
      },
      "source": [
        "data.groupby(['Genero'])['Longitud_E4'].describe(percentiles=[0.05, 0.1, 0.15, 0., .25, .5, .75, 0.9, 0.95])"
      ],
      "execution_count": 29,
      "outputs": [
        {
          "output_type": "execute_result",
          "data": {
            "text/html": [
              "<div>\n",
              "<style scoped>\n",
              "    .dataframe tbody tr th:only-of-type {\n",
              "        vertical-align: middle;\n",
              "    }\n",
              "\n",
              "    .dataframe tbody tr th {\n",
              "        vertical-align: top;\n",
              "    }\n",
              "\n",
              "    .dataframe thead th {\n",
              "        text-align: right;\n",
              "    }\n",
              "</style>\n",
              "<table border=\"1\" class=\"dataframe\">\n",
              "  <thead>\n",
              "    <tr style=\"text-align: right;\">\n",
              "      <th></th>\n",
              "      <th>count</th>\n",
              "      <th>mean</th>\n",
              "      <th>std</th>\n",
              "      <th>min</th>\n",
              "      <th>0%</th>\n",
              "      <th>5%</th>\n",
              "      <th>10%</th>\n",
              "      <th>15%</th>\n",
              "      <th>25%</th>\n",
              "      <th>50%</th>\n",
              "      <th>75%</th>\n",
              "      <th>90%</th>\n",
              "      <th>95%</th>\n",
              "      <th>max</th>\n",
              "    </tr>\n",
              "    <tr>\n",
              "      <th>Genero</th>\n",
              "      <th></th>\n",
              "      <th></th>\n",
              "      <th></th>\n",
              "      <th></th>\n",
              "      <th></th>\n",
              "      <th></th>\n",
              "      <th></th>\n",
              "      <th></th>\n",
              "      <th></th>\n",
              "      <th></th>\n",
              "      <th></th>\n",
              "      <th></th>\n",
              "      <th></th>\n",
              "      <th></th>\n",
              "    </tr>\n",
              "  </thead>\n",
              "  <tbody>\n",
              "    <tr>\n",
              "      <th>Femenino</th>\n",
              "      <td>10.0</td>\n",
              "      <td>160.700000</td>\n",
              "      <td>38.128584</td>\n",
              "      <td>87.0</td>\n",
              "      <td>87.0</td>\n",
              "      <td>98.25</td>\n",
              "      <td>109.5</td>\n",
              "      <td>125.30</td>\n",
              "      <td>150.75</td>\n",
              "      <td>164.5</td>\n",
              "      <td>188.00</td>\n",
              "      <td>193.2</td>\n",
              "      <td>203.1</td>\n",
              "      <td>213.0</td>\n",
              "    </tr>\n",
              "    <tr>\n",
              "      <th>Masculino</th>\n",
              "      <td>34.0</td>\n",
              "      <td>164.794118</td>\n",
              "      <td>63.110187</td>\n",
              "      <td>31.0</td>\n",
              "      <td>31.0</td>\n",
              "      <td>50.65</td>\n",
              "      <td>60.1</td>\n",
              "      <td>87.55</td>\n",
              "      <td>134.50</td>\n",
              "      <td>173.5</td>\n",
              "      <td>196.75</td>\n",
              "      <td>233.6</td>\n",
              "      <td>254.5</td>\n",
              "      <td>290.0</td>\n",
              "    </tr>\n",
              "  </tbody>\n",
              "</table>\n",
              "</div>"
            ],
            "text/plain": [
              "           count        mean        std   min  ...     75%    90%    95%    max\n",
              "Genero                                         ...                             \n",
              "Femenino    10.0  160.700000  38.128584  87.0  ...  188.00  193.2  203.1  213.0\n",
              "Masculino   34.0  164.794118  63.110187  31.0  ...  196.75  233.6  254.5  290.0\n",
              "\n",
              "[2 rows x 14 columns]"
            ]
          },
          "metadata": {
            "tags": []
          },
          "execution_count": 29
        }
      ]
    },
    {
      "cell_type": "markdown",
      "metadata": {
        "id": "QnWAx7OCpqdp",
        "colab_type": "text"
      },
      "source": [
        "Se usaron en promedio más palabras en inglés que en español, pero tuvo una alta viarianza. Los hombres emplearon más palabras en promedio que las mujeres."
      ]
    },
    {
      "cell_type": "markdown",
      "metadata": {
        "id": "fiAB9OWopqdp",
        "colab_type": "text"
      },
      "source": [
        "### Boxplot del promedio de palabras por idioma del ejercicio E6"
      ]
    },
    {
      "cell_type": "code",
      "metadata": {
        "scrolled": true,
        "id": "TE7R0t6gpqdp",
        "colab_type": "code",
        "colab": {
          "base_uri": "https://localhost:8080/",
          "height": 352
        },
        "outputId": "c8b8334b-70b7-45e5-a114-e35651c05f2d"
      },
      "source": [
        "plt.figure(figsize=(15,5))\n",
        "sns.boxplot(x=\"English_E6\", y=\"Longitud_E6\",  data=data, palette=\"Set3\")"
      ],
      "execution_count": 30,
      "outputs": [
        {
          "output_type": "execute_result",
          "data": {
            "text/plain": [
              "<matplotlib.axes._subplots.AxesSubplot at 0x7ff4bb59f588>"
            ]
          },
          "metadata": {
            "tags": []
          },
          "execution_count": 30
        },
        {
          "output_type": "display_data",
          "data": {
            "image/png": "[encoded data removed]",
            "text/plain": [
              "<Figure size 1080x360 with 1 Axes>"
            ]
          },
          "metadata": {
            "tags": [],
            "needs_background": "light"
          }
        }
      ]
    },
    {
      "cell_type": "code",
      "metadata": {
        "scrolled": false,
        "id": "6FhNY92Lpqdr",
        "colab_type": "code",
        "colab": {
          "base_uri": "https://localhost:8080/",
          "height": 142
        },
        "outputId": "b9facfa1-f87c-40ce-be25-d7f455f91dd5"
      },
      "source": [
        "data.groupby(['Genero'])['Longitud_E6'].describe(percentiles=[0.05, 0.1, 0.15, 0., .25, .5, .75, 0.9, 0.95])"
      ],
      "execution_count": 31,
      "outputs": [
        {
          "output_type": "execute_result",
          "data": {
            "text/html": [
              "<div>\n",
              "<style scoped>\n",
              "    .dataframe tbody tr th:only-of-type {\n",
              "        vertical-align: middle;\n",
              "    }\n",
              "\n",
              "    .dataframe tbody tr th {\n",
              "        vertical-align: top;\n",
              "    }\n",
              "\n",
              "    .dataframe thead th {\n",
              "        text-align: right;\n",
              "    }\n",
              "</style>\n",
              "<table border=\"1\" class=\"dataframe\">\n",
              "  <thead>\n",
              "    <tr style=\"text-align: right;\">\n",
              "      <th></th>\n",
              "      <th>count</th>\n",
              "      <th>mean</th>\n",
              "      <th>std</th>\n",
              "      <th>min</th>\n",
              "      <th>0%</th>\n",
              "      <th>5%</th>\n",
              "      <th>10%</th>\n",
              "      <th>15%</th>\n",
              "      <th>25%</th>\n",
              "      <th>50%</th>\n",
              "      <th>75%</th>\n",
              "      <th>90%</th>\n",
              "      <th>95%</th>\n",
              "      <th>max</th>\n",
              "    </tr>\n",
              "    <tr>\n",
              "      <th>Genero</th>\n",
              "      <th></th>\n",
              "      <th></th>\n",
              "      <th></th>\n",
              "      <th></th>\n",
              "      <th></th>\n",
              "      <th></th>\n",
              "      <th></th>\n",
              "      <th></th>\n",
              "      <th></th>\n",
              "      <th></th>\n",
              "      <th></th>\n",
              "      <th></th>\n",
              "      <th></th>\n",
              "      <th></th>\n",
              "    </tr>\n",
              "  </thead>\n",
              "  <tbody>\n",
              "    <tr>\n",
              "      <th>Femenino</th>\n",
              "      <td>10.0</td>\n",
              "      <td>323.20000</td>\n",
              "      <td>110.861074</td>\n",
              "      <td>155.0</td>\n",
              "      <td>155.0</td>\n",
              "      <td>159.05</td>\n",
              "      <td>163.1</td>\n",
              "      <td>212.65</td>\n",
              "      <td>304.0</td>\n",
              "      <td>326.5</td>\n",
              "      <td>338.75</td>\n",
              "      <td>468.9</td>\n",
              "      <td>490.95</td>\n",
              "      <td>513.0</td>\n",
              "    </tr>\n",
              "    <tr>\n",
              "      <th>Masculino</th>\n",
              "      <td>32.0</td>\n",
              "      <td>326.46875</td>\n",
              "      <td>86.752144</td>\n",
              "      <td>135.0</td>\n",
              "      <td>135.0</td>\n",
              "      <td>184.95</td>\n",
              "      <td>260.5</td>\n",
              "      <td>266.30</td>\n",
              "      <td>283.0</td>\n",
              "      <td>318.0</td>\n",
              "      <td>357.00</td>\n",
              "      <td>427.8</td>\n",
              "      <td>486.20</td>\n",
              "      <td>552.0</td>\n",
              "    </tr>\n",
              "  </tbody>\n",
              "</table>\n",
              "</div>"
            ],
            "text/plain": [
              "           count       mean         std    min  ...     75%    90%     95%    max\n",
              "Genero                                          ...                              \n",
              "Femenino    10.0  323.20000  110.861074  155.0  ...  338.75  468.9  490.95  513.0\n",
              "Masculino   32.0  326.46875   86.752144  135.0  ...  357.00  427.8  486.20  552.0\n",
              "\n",
              "[2 rows x 14 columns]"
            ]
          },
          "metadata": {
            "tags": []
          },
          "execution_count": 31
        }
      ]
    },
    {
      "cell_type": "markdown",
      "metadata": {
        "id": "BKSlWZQYpqdt",
        "colab_type": "text"
      },
      "source": [
        "En promedio fueron usadas mas palabras para responder el ejercicio E6 en inglés que en español, en inglés se aprecia una desviación más alta a unas más palabras que el promedio. El promedio de las palabras usadas por los hombres para esta tarea fue superior al de las mujeres."
      ]
    },
    {
      "cell_type": "markdown",
      "metadata": {
        "id": "-Ph790u4pqdt",
        "colab_type": "text"
      },
      "source": [
        "### Boxplot del promedio de palabras por idioma del ejercicio E8"
      ]
    },
    {
      "cell_type": "code",
      "metadata": {
        "scrolled": true,
        "id": "KarPukXwpqdt",
        "colab_type": "code",
        "colab": {
          "base_uri": "https://localhost:8080/",
          "height": 352
        },
        "outputId": "83dd9b0c-4c0f-4d1d-e997-00663e2b07ba"
      },
      "source": [
        "plt.figure(figsize=(15,5))\n",
        "sns.boxplot(x=\"English_E8\", y=\"Longitud_E8\",  data=data, palette=\"Set3\")"
      ],
      "execution_count": 32,
      "outputs": [
        {
          "output_type": "execute_result",
          "data": {
            "text/plain": [
              "<matplotlib.axes._subplots.AxesSubplot at 0x7ff4bb7f82b0>"
            ]
          },
          "metadata": {
            "tags": []
          },
          "execution_count": 32
        },
        {
          "output_type": "display_data",
          "data": {
            "image/png": "[encoded data removed]",
            "text/plain": [
              "<Figure size 1080x360 with 1 Axes>"
            ]
          },
          "metadata": {
            "tags": [],
            "needs_background": "light"
          }
        }
      ]
    },
    {
      "cell_type": "code",
      "metadata": {
        "scrolled": false,
        "id": "nrMVImadpqdv",
        "colab_type": "code",
        "colab": {
          "base_uri": "https://localhost:8080/",
          "height": 142
        },
        "outputId": "8e8a55aa-5b15-478f-9466-80a68adf65e8"
      },
      "source": [
        "data.groupby(['Genero'])['Longitud_E8'].describe(percentiles=[0.05, 0.1, 0.15, 0., .25, .5, .75, 0.9, 0.95])"
      ],
      "execution_count": 33,
      "outputs": [
        {
          "output_type": "execute_result",
          "data": {
            "text/html": [
              "<div>\n",
              "<style scoped>\n",
              "    .dataframe tbody tr th:only-of-type {\n",
              "        vertical-align: middle;\n",
              "    }\n",
              "\n",
              "    .dataframe tbody tr th {\n",
              "        vertical-align: top;\n",
              "    }\n",
              "\n",
              "    .dataframe thead th {\n",
              "        text-align: right;\n",
              "    }\n",
              "</style>\n",
              "<table border=\"1\" class=\"dataframe\">\n",
              "  <thead>\n",
              "    <tr style=\"text-align: right;\">\n",
              "      <th></th>\n",
              "      <th>count</th>\n",
              "      <th>mean</th>\n",
              "      <th>std</th>\n",
              "      <th>min</th>\n",
              "      <th>0%</th>\n",
              "      <th>5%</th>\n",
              "      <th>10%</th>\n",
              "      <th>15%</th>\n",
              "      <th>25%</th>\n",
              "      <th>50%</th>\n",
              "      <th>75%</th>\n",
              "      <th>90%</th>\n",
              "      <th>95%</th>\n",
              "      <th>max</th>\n",
              "    </tr>\n",
              "    <tr>\n",
              "      <th>Genero</th>\n",
              "      <th></th>\n",
              "      <th></th>\n",
              "      <th></th>\n",
              "      <th></th>\n",
              "      <th></th>\n",
              "      <th></th>\n",
              "      <th></th>\n",
              "      <th></th>\n",
              "      <th></th>\n",
              "      <th></th>\n",
              "      <th></th>\n",
              "      <th></th>\n",
              "      <th></th>\n",
              "      <th></th>\n",
              "    </tr>\n",
              "  </thead>\n",
              "  <tbody>\n",
              "    <tr>\n",
              "      <th>Femenino</th>\n",
              "      <td>9.0</td>\n",
              "      <td>291.888889</td>\n",
              "      <td>112.232398</td>\n",
              "      <td>78.0</td>\n",
              "      <td>78.0</td>\n",
              "      <td>103.2</td>\n",
              "      <td>128.4</td>\n",
              "      <td>170.4</td>\n",
              "      <td>288.0</td>\n",
              "      <td>317.0</td>\n",
              "      <td>378.0</td>\n",
              "      <td>387.8</td>\n",
              "      <td>399.4</td>\n",
              "      <td>411.0</td>\n",
              "    </tr>\n",
              "    <tr>\n",
              "      <th>Masculino</th>\n",
              "      <td>29.0</td>\n",
              "      <td>332.620690</td>\n",
              "      <td>76.509296</td>\n",
              "      <td>89.0</td>\n",
              "      <td>89.0</td>\n",
              "      <td>201.0</td>\n",
              "      <td>246.0</td>\n",
              "      <td>286.2</td>\n",
              "      <td>310.0</td>\n",
              "      <td>344.0</td>\n",
              "      <td>373.0</td>\n",
              "      <td>419.6</td>\n",
              "      <td>423.8</td>\n",
              "      <td>461.0</td>\n",
              "    </tr>\n",
              "  </tbody>\n",
              "</table>\n",
              "</div>"
            ],
            "text/plain": [
              "           count        mean         std   min  ...    75%    90%    95%    max\n",
              "Genero                                          ...                            \n",
              "Femenino     9.0  291.888889  112.232398  78.0  ...  378.0  387.8  399.4  411.0\n",
              "Masculino   29.0  332.620690   76.509296  89.0  ...  373.0  419.6  423.8  461.0\n",
              "\n",
              "[2 rows x 14 columns]"
            ]
          },
          "metadata": {
            "tags": []
          },
          "execution_count": 33
        }
      ]
    },
    {
      "cell_type": "markdown",
      "metadata": {
        "id": "qYDoGchZpqdx",
        "colab_type": "text"
      },
      "source": [
        "Se usaron en promedio más palabras en inglés que en español y las respuestas de todos los estudiantes en inglés estuvieron muy cercanas al promedio de palabras. Tan sólo una mujer no frespondió la tarea y el pormedio de palabras usadas por ellas fue menor que el promedio de los hombres."
      ]
    },
    {
      "cell_type": "markdown",
      "metadata": {
        "id": "0hdJlHnhpqdx",
        "colab_type": "text"
      },
      "source": [
        "### Boxplot del promedio de palabras por idioma del ejercicio E10"
      ]
    },
    {
      "cell_type": "code",
      "metadata": {
        "scrolled": true,
        "id": "40pzu5VOpqdy",
        "colab_type": "code",
        "colab": {
          "base_uri": "https://localhost:8080/",
          "height": 352
        },
        "outputId": "b26b6695-d46c-4c32-bd1c-9d2db838134a"
      },
      "source": [
        "plt.figure(figsize=(15,5))\n",
        "sns.boxplot(x=\"English_E10\", y=\"Longitud_E10\",  data=data, palette=\"Set3\")"
      ],
      "execution_count": 34,
      "outputs": [
        {
          "output_type": "execute_result",
          "data": {
            "text/plain": [
              "<matplotlib.axes._subplots.AxesSubplot at 0x7ff4bb59f630>"
            ]
          },
          "metadata": {
            "tags": []
          },
          "execution_count": 34
        },
        {
          "output_type": "display_data",
          "data": {
            "image/png": "[encoded data removed]",
            "text/plain": [
              "<Figure size 1080x360 with 1 Axes>"
            ]
          },
          "metadata": {
            "tags": [],
            "needs_background": "light"
          }
        }
      ]
    },
    {
      "cell_type": "code",
      "metadata": {
        "scrolled": false,
        "id": "cSpymdqbpqdz",
        "colab_type": "code",
        "colab": {
          "base_uri": "https://localhost:8080/",
          "height": 142
        },
        "outputId": "c44ed522-7de3-4e7a-e552-480059792813"
      },
      "source": [
        "data.groupby(['Genero'])['Longitud_E10'].describe(percentiles=[0.05, 0.1, 0.15, 0., .25, .5, .75, 0.9, 0.95])"
      ],
      "execution_count": 35,
      "outputs": [
        {
          "output_type": "execute_result",
          "data": {
            "text/html": [
              "<div>\n",
              "<style scoped>\n",
              "    .dataframe tbody tr th:only-of-type {\n",
              "        vertical-align: middle;\n",
              "    }\n",
              "\n",
              "    .dataframe tbody tr th {\n",
              "        vertical-align: top;\n",
              "    }\n",
              "\n",
              "    .dataframe thead th {\n",
              "        text-align: right;\n",
              "    }\n",
              "</style>\n",
              "<table border=\"1\" class=\"dataframe\">\n",
              "  <thead>\n",
              "    <tr style=\"text-align: right;\">\n",
              "      <th></th>\n",
              "      <th>count</th>\n",
              "      <th>mean</th>\n",
              "      <th>std</th>\n",
              "      <th>min</th>\n",
              "      <th>0%</th>\n",
              "      <th>5%</th>\n",
              "      <th>10%</th>\n",
              "      <th>15%</th>\n",
              "      <th>25%</th>\n",
              "      <th>50%</th>\n",
              "      <th>75%</th>\n",
              "      <th>90%</th>\n",
              "      <th>95%</th>\n",
              "      <th>max</th>\n",
              "    </tr>\n",
              "    <tr>\n",
              "      <th>Genero</th>\n",
              "      <th></th>\n",
              "      <th></th>\n",
              "      <th></th>\n",
              "      <th></th>\n",
              "      <th></th>\n",
              "      <th></th>\n",
              "      <th></th>\n",
              "      <th></th>\n",
              "      <th></th>\n",
              "      <th></th>\n",
              "      <th></th>\n",
              "      <th></th>\n",
              "      <th></th>\n",
              "      <th></th>\n",
              "    </tr>\n",
              "  </thead>\n",
              "  <tbody>\n",
              "    <tr>\n",
              "      <th>Femenino</th>\n",
              "      <td>10.0</td>\n",
              "      <td>305.000000</td>\n",
              "      <td>89.055538</td>\n",
              "      <td>104.0</td>\n",
              "      <td>104.0</td>\n",
              "      <td>162.5</td>\n",
              "      <td>221.0</td>\n",
              "      <td>256.4</td>\n",
              "      <td>298.75</td>\n",
              "      <td>303.0</td>\n",
              "      <td>359.5</td>\n",
              "      <td>384.1</td>\n",
              "      <td>407.05</td>\n",
              "      <td>430.0</td>\n",
              "    </tr>\n",
              "    <tr>\n",
              "      <th>Masculino</th>\n",
              "      <td>35.0</td>\n",
              "      <td>329.828571</td>\n",
              "      <td>85.186469</td>\n",
              "      <td>119.0</td>\n",
              "      <td>119.0</td>\n",
              "      <td>148.2</td>\n",
              "      <td>227.2</td>\n",
              "      <td>297.5</td>\n",
              "      <td>308.00</td>\n",
              "      <td>334.0</td>\n",
              "      <td>364.0</td>\n",
              "      <td>415.4</td>\n",
              "      <td>445.90</td>\n",
              "      <td>543.0</td>\n",
              "    </tr>\n",
              "  </tbody>\n",
              "</table>\n",
              "</div>"
            ],
            "text/plain": [
              "           count        mean        std    min  ...    75%    90%     95%    max\n",
              "Genero                                          ...                             \n",
              "Femenino    10.0  305.000000  89.055538  104.0  ...  359.5  384.1  407.05  430.0\n",
              "Masculino   35.0  329.828571  85.186469  119.0  ...  364.0  415.4  445.90  543.0\n",
              "\n",
              "[2 rows x 14 columns]"
            ]
          },
          "metadata": {
            "tags": []
          },
          "execution_count": 35
        }
      ]
    },
    {
      "cell_type": "markdown",
      "metadata": {
        "id": "ncim_5Ucpqd2",
        "colab_type": "text"
      },
      "source": [
        "En promedio fueron usadas mas palabras para responder el ejercicio E10 en inglés que en español, aunque las respuestas en español presentan mayor varianza. Todas las mujeres respondienron la tarea y usaron menos palabras en promedio que los hombres."
      ]
    },
    {
      "cell_type": "markdown",
      "metadata": {
        "id": "yhrDjw0Lpqd2",
        "colab_type": "text"
      },
      "source": [
        "### Boxplot del promedio de palabras por idioma del ejercicio E11"
      ]
    },
    {
      "cell_type": "code",
      "metadata": {
        "scrolled": true,
        "id": "o0Q9hNXgpqd2",
        "colab_type": "code",
        "colab": {
          "base_uri": "https://localhost:8080/",
          "height": 352
        },
        "outputId": "7e6addd4-22aa-4a3d-d1b8-67dc5f8c6d0e"
      },
      "source": [
        "plt.figure(figsize=(15,5))\n",
        "sns.boxplot(x=\"English_E11\", y=\"Longitud_E11\",  data=data, palette=\"Set3\")"
      ],
      "execution_count": 36,
      "outputs": [
        {
          "output_type": "execute_result",
          "data": {
            "text/plain": [
              "<matplotlib.axes._subplots.AxesSubplot at 0x7ff4bdbb3860>"
            ]
          },
          "metadata": {
            "tags": []
          },
          "execution_count": 36
        },
        {
          "output_type": "display_data",
          "data": {
            "image/png": "[encoded data removed]",
            "text/plain": [
              "<Figure size 1080x360 with 1 Axes>"
            ]
          },
          "metadata": {
            "tags": [],
            "needs_background": "light"
          }
        }
      ]
    },
    {
      "cell_type": "code",
      "metadata": {
        "scrolled": false,
        "id": "WhgOtqatpqd5",
        "colab_type": "code",
        "colab": {
          "base_uri": "https://localhost:8080/",
          "height": 142
        },
        "outputId": "95af3b41-2d96-47a4-82b8-5824f679d800"
      },
      "source": [
        "data.groupby(['Genero'])['Longitud_E11'].describe(percentiles=[0.05, 0.1, 0.15, 0., .25, .5, .75, 0.9, 0.95])"
      ],
      "execution_count": 37,
      "outputs": [
        {
          "output_type": "execute_result",
          "data": {
            "text/html": [
              "<div>\n",
              "<style scoped>\n",
              "    .dataframe tbody tr th:only-of-type {\n",
              "        vertical-align: middle;\n",
              "    }\n",
              "\n",
              "    .dataframe tbody tr th {\n",
              "        vertical-align: top;\n",
              "    }\n",
              "\n",
              "    .dataframe thead th {\n",
              "        text-align: right;\n",
              "    }\n",
              "</style>\n",
              "<table border=\"1\" class=\"dataframe\">\n",
              "  <thead>\n",
              "    <tr style=\"text-align: right;\">\n",
              "      <th></th>\n",
              "      <th>count</th>\n",
              "      <th>mean</th>\n",
              "      <th>std</th>\n",
              "      <th>min</th>\n",
              "      <th>0%</th>\n",
              "      <th>5%</th>\n",
              "      <th>10%</th>\n",
              "      <th>15%</th>\n",
              "      <th>25%</th>\n",
              "      <th>50%</th>\n",
              "      <th>75%</th>\n",
              "      <th>90%</th>\n",
              "      <th>95%</th>\n",
              "      <th>max</th>\n",
              "    </tr>\n",
              "    <tr>\n",
              "      <th>Genero</th>\n",
              "      <th></th>\n",
              "      <th></th>\n",
              "      <th></th>\n",
              "      <th></th>\n",
              "      <th></th>\n",
              "      <th></th>\n",
              "      <th></th>\n",
              "      <th></th>\n",
              "      <th></th>\n",
              "      <th></th>\n",
              "      <th></th>\n",
              "      <th></th>\n",
              "      <th></th>\n",
              "      <th></th>\n",
              "    </tr>\n",
              "  </thead>\n",
              "  <tbody>\n",
              "    <tr>\n",
              "      <th>Femenino</th>\n",
              "      <td>6.0</td>\n",
              "      <td>190.333333</td>\n",
              "      <td>122.043708</td>\n",
              "      <td>3.0</td>\n",
              "      <td>3.0</td>\n",
              "      <td>36.25</td>\n",
              "      <td>69.5</td>\n",
              "      <td>102.75</td>\n",
              "      <td>140.00</td>\n",
              "      <td>181.0</td>\n",
              "      <td>279.00</td>\n",
              "      <td>320.5</td>\n",
              "      <td>329.75</td>\n",
              "      <td>339.0</td>\n",
              "    </tr>\n",
              "    <tr>\n",
              "      <th>Masculino</th>\n",
              "      <td>10.0</td>\n",
              "      <td>226.500000</td>\n",
              "      <td>109.478816</td>\n",
              "      <td>81.0</td>\n",
              "      <td>81.0</td>\n",
              "      <td>93.60</td>\n",
              "      <td>106.2</td>\n",
              "      <td>126.85</td>\n",
              "      <td>163.25</td>\n",
              "      <td>215.0</td>\n",
              "      <td>266.75</td>\n",
              "      <td>390.1</td>\n",
              "      <td>404.05</td>\n",
              "      <td>418.0</td>\n",
              "    </tr>\n",
              "  </tbody>\n",
              "</table>\n",
              "</div>"
            ],
            "text/plain": [
              "           count        mean         std   min  ...     75%    90%     95%    max\n",
              "Genero                                          ...                              \n",
              "Femenino     6.0  190.333333  122.043708   3.0  ...  279.00  320.5  329.75  339.0\n",
              "Masculino   10.0  226.500000  109.478816  81.0  ...  266.75  390.1  404.05  418.0\n",
              "\n",
              "[2 rows x 14 columns]"
            ]
          },
          "metadata": {
            "tags": []
          },
          "execution_count": 37
        }
      ]
    },
    {
      "cell_type": "markdown",
      "metadata": {
        "id": "q4NmQlpppqd7",
        "colab_type": "text"
      },
      "source": [
        "Se usaron en promedio más palabras en inglés que en español. Con una varianza similar en los dos idiomas. Los hombres usaron en promedio más palabras que las mujeres."
      ]
    },
    {
      "cell_type": "markdown",
      "metadata": {
        "id": "2Rnxv-EGpqd8",
        "colab_type": "text"
      },
      "source": [
        "#### Promedio de palabras por tarea"
      ]
    },
    {
      "cell_type": "code",
      "metadata": {
        "scrolled": true,
        "id": "IsbVuhpMpqd8",
        "colab_type": "code",
        "colab": {
          "base_uri": "https://localhost:8080/",
          "height": 323
        },
        "outputId": "31ad7abf-2563-4dec-def6-fec2bffcc8cb"
      },
      "source": [
        "data[['Longitud_E1','Longitud_E4','Longitud_E6','Longitud_E8','Longitud_E10','Longitud_E11']].mean().plot(kind='bar')\n",
        "plt.show()"
      ],
      "execution_count": 38,
      "outputs": [
        {
          "output_type": "display_data",
          "data": {
            "image/png": "[encoded data removed]",
            "text/plain": [
              "<Figure size 432x288 with 1 Axes>"
            ]
          },
          "metadata": {
            "tags": [],
            "needs_background": "light"
          }
        }
      ]
    },
    {
      "cell_type": "markdown",
      "metadata": {
        "id": "iGhszk25pqd-",
        "colab_type": "text"
      },
      "source": [
        "Se evidencia que las tareas E1, E6, E8 y E10, presentan una longitud similar, mientras que la tarea E4 evidentemente es la tarea que menos palabras tiene."
      ]
    },
    {
      "cell_type": "markdown",
      "metadata": {
        "id": "6R--l_Mopqd_",
        "colab_type": "text"
      },
      "source": [
        "# Exercise 13.2\n",
        "\n",
        "Evaluate the similarities of the homeworks of the students.\n",
        "\n",
        "At a homework level, then as a student level.\n"
      ]
    },
    {
      "cell_type": "markdown",
      "metadata": {
        "id": "O_MSPcr_pqd_",
        "colab_type": "text"
      },
      "source": [
        "### **Comparación a nivel de tarea**\n",
        "Para ver la similitud a nivel tarea de todos los estudiantes."
      ]
    },
    {
      "cell_type": "markdown",
      "metadata": {
        "id": "0iVbYbFRpqeA",
        "colab_type": "text"
      },
      "source": [
        "**Tarea E1 - Examples of Time Series Analysis - Jaccard Similarity:**"
      ]
    },
    {
      "cell_type": "code",
      "metadata": {
        "id": "Qwkx79MWpqeA",
        "colab_type": "code",
        "colab": {}
      },
      "source": [
        "def jaccard_similarity(query, document):\n",
        "    intersection = set(query).intersection(set(document))\n",
        "    union = set(query).union(set(document))\n",
        "    return len(intersection)/len(union)"
      ],
      "execution_count": 39,
      "outputs": []
    },
    {
      "cell_type": "code",
      "metadata": {
        "id": "c5TsR_sQpqeC",
        "colab_type": "code",
        "colab": {
          "base_uri": "https://localhost:8080/",
          "height": 49
        },
        "outputId": "4f2fef50-1f6e-4841-9c8e-3d48fb19f3fc"
      },
      "source": [
        "#Poniendo valores iniciales\n",
        "i=0\n",
        "j=1\n",
        "similarity= .45\n",
        "\n",
        "df2 = pd.DataFrame([[i, j,similarity]], columns=('Estudiante-i','Estudiante-j','Jaccard Similarity'))\n",
        "df2.drop([0],axis=0)"
      ],
      "execution_count": 40,
      "outputs": [
        {
          "output_type": "execute_result",
          "data": {
            "text/html": [
              "<div>\n",
              "<style scoped>\n",
              "    .dataframe tbody tr th:only-of-type {\n",
              "        vertical-align: middle;\n",
              "    }\n",
              "\n",
              "    .dataframe tbody tr th {\n",
              "        vertical-align: top;\n",
              "    }\n",
              "\n",
              "    .dataframe thead th {\n",
              "        text-align: right;\n",
              "    }\n",
              "</style>\n",
              "<table border=\"1\" class=\"dataframe\">\n",
              "  <thead>\n",
              "    <tr style=\"text-align: right;\">\n",
              "      <th></th>\n",
              "      <th>Estudiante-i</th>\n",
              "      <th>Estudiante-j</th>\n",
              "      <th>Jaccard Similarity</th>\n",
              "    </tr>\n",
              "  </thead>\n",
              "  <tbody>\n",
              "  </tbody>\n",
              "</table>\n",
              "</div>"
            ],
            "text/plain": [
              "Empty DataFrame\n",
              "Columns: [Estudiante-i, Estudiante-j, Jaccard Similarity]\n",
              "Index: []"
            ]
          },
          "metadata": {
            "tags": []
          },
          "execution_count": 40
        }
      ]
    },
    {
      "cell_type": "code",
      "metadata": {
        "scrolled": false,
        "id": "dHnWxpPFpqeE",
        "colab_type": "code",
        "colab": {}
      },
      "source": [
        "Tarea1 =data.iloc[:,[1]].dropna()\n",
        "lim_sup=Tarea1.shape[0]\n",
        "\n",
        "\n",
        "for i in range(0,lim_sup):\n",
        "    for j in range(i+1,lim_sup):\n",
        "        Rta_estudiante_1_1=Tarea1.iloc[i,0]\n",
        "        Rta_estudiante_2_1=Tarea1.iloc[j,0]\n",
        "        similarity=jaccard_similarity(Rta_estudiante_1_1, Rta_estudiante_2_1)\n",
        "        df = pd.DataFrame([[i, j,similarity]], columns=('Estudiante-i','Estudiante-j','Jaccard Similarity'))\n",
        "        df2=df.append(df2)\n"
      ],
      "execution_count": 41,
      "outputs": []
    },
    {
      "cell_type": "code",
      "metadata": {
        "scrolled": true,
        "id": "zeQiPQ29pqeF",
        "colab_type": "code",
        "colab": {
          "base_uri": "https://localhost:8080/",
          "height": 419
        },
        "outputId": "6672cfa6-0320-4a51-cfe2-37cc5a13bf62"
      },
      "source": [
        "df2.sort_values(by='Jaccard Similarity', ascending=False)"
      ],
      "execution_count": 42,
      "outputs": [
        {
          "output_type": "execute_result",
          "data": {
            "text/html": [
              "<div>\n",
              "<style scoped>\n",
              "    .dataframe tbody tr th:only-of-type {\n",
              "        vertical-align: middle;\n",
              "    }\n",
              "\n",
              "    .dataframe tbody tr th {\n",
              "        vertical-align: top;\n",
              "    }\n",
              "\n",
              "    .dataframe thead th {\n",
              "        text-align: right;\n",
              "    }\n",
              "</style>\n",
              "<table border=\"1\" class=\"dataframe\">\n",
              "  <thead>\n",
              "    <tr style=\"text-align: right;\">\n",
              "      <th></th>\n",
              "      <th>Estudiante-i</th>\n",
              "      <th>Estudiante-j</th>\n",
              "      <th>Jaccard Similarity</th>\n",
              "    </tr>\n",
              "  </thead>\n",
              "  <tbody>\n",
              "    <tr>\n",
              "      <th>0</th>\n",
              "      <td>9</td>\n",
              "      <td>41</td>\n",
              "      <td>0.857143</td>\n",
              "    </tr>\n",
              "    <tr>\n",
              "      <th>0</th>\n",
              "      <td>4</td>\n",
              "      <td>43</td>\n",
              "      <td>0.853659</td>\n",
              "    </tr>\n",
              "    <tr>\n",
              "      <th>0</th>\n",
              "      <td>11</td>\n",
              "      <td>23</td>\n",
              "      <td>0.836066</td>\n",
              "    </tr>\n",
              "    <tr>\n",
              "      <th>0</th>\n",
              "      <td>1</td>\n",
              "      <td>6</td>\n",
              "      <td>0.835616</td>\n",
              "    </tr>\n",
              "    <tr>\n",
              "      <th>0</th>\n",
              "      <td>12</td>\n",
              "      <td>29</td>\n",
              "      <td>0.833333</td>\n",
              "    </tr>\n",
              "    <tr>\n",
              "      <th>...</th>\n",
              "      <td>...</td>\n",
              "      <td>...</td>\n",
              "      <td>...</td>\n",
              "    </tr>\n",
              "    <tr>\n",
              "      <th>0</th>\n",
              "      <td>8</td>\n",
              "      <td>24</td>\n",
              "      <td>0.362069</td>\n",
              "    </tr>\n",
              "    <tr>\n",
              "      <th>0</th>\n",
              "      <td>8</td>\n",
              "      <td>40</td>\n",
              "      <td>0.358209</td>\n",
              "    </tr>\n",
              "    <tr>\n",
              "      <th>0</th>\n",
              "      <td>6</td>\n",
              "      <td>8</td>\n",
              "      <td>0.352941</td>\n",
              "    </tr>\n",
              "    <tr>\n",
              "      <th>0</th>\n",
              "      <td>8</td>\n",
              "      <td>32</td>\n",
              "      <td>0.352941</td>\n",
              "    </tr>\n",
              "    <tr>\n",
              "      <th>0</th>\n",
              "      <td>8</td>\n",
              "      <td>39</td>\n",
              "      <td>0.347826</td>\n",
              "    </tr>\n",
              "  </tbody>\n",
              "</table>\n",
              "<p>947 rows × 3 columns</p>\n",
              "</div>"
            ],
            "text/plain": [
              "    Estudiante-i  Estudiante-j  Jaccard Similarity\n",
              "0              9            41            0.857143\n",
              "0              4            43            0.853659\n",
              "0             11            23            0.836066\n",
              "0              1             6            0.835616\n",
              "0             12            29            0.833333\n",
              "..           ...           ...                 ...\n",
              "0              8            24            0.362069\n",
              "0              8            40            0.358209\n",
              "0              6             8            0.352941\n",
              "0              8            32            0.352941\n",
              "0              8            39            0.347826\n",
              "\n",
              "[947 rows x 3 columns]"
            ]
          },
          "metadata": {
            "tags": []
          },
          "execution_count": 42
        }
      ]
    },
    {
      "cell_type": "markdown",
      "metadata": {
        "id": "FYIcgDXBLo8f",
        "colab_type": "text"
      },
      "source": [
        "De acuerdo con el **Jaccard Similarity** Los estudiantes que tienen mayor relación en sus tareas son el 9 con el 41, el estudiante 4 con el 43 y el estudiante 11 con el 23."
      ]
    },
    {
      "cell_type": "markdown",
      "metadata": {
        "id": "tX2ienUxpqeH",
        "colab_type": "text"
      },
      "source": [
        "**Tarea E4 - Panel Data - Cosine Similarity:**"
      ]
    },
    {
      "cell_type": "code",
      "metadata": {
        "id": "dpyh3cgopqeI",
        "colab_type": "code",
        "colab": {}
      },
      "source": [
        "from sklearn.feature_extraction.text import CountVectorizer\n",
        "from scipy.spatial.distance import cosine\n",
        "import numpy as np\n",
        "\n",
        "def cosine_distance_countVectorizer(s1, s2):\n",
        "\n",
        "    vect = CountVectorizer()\n",
        "    X_dtm = vect.fit_transform([s1, s2]).todense()\n",
        "    \n",
        "    return 1-cosine(X_dtm[0], X_dtm[1])"
      ],
      "execution_count": 43,
      "outputs": []
    },
    {
      "cell_type": "code",
      "metadata": {
        "colab_type": "code",
        "id": "bj_k_opm3F_R",
        "colab": {
          "base_uri": "https://localhost:8080/",
          "height": 49
        },
        "outputId": "2bfc44d1-50df-4cea-b991-10e315dab195"
      },
      "source": [
        "#Poniendo valores iniciales\n",
        "i=0\n",
        "j=1\n",
        "cos_sim = .73\n",
        "\n",
        "df3 = pd.DataFrame([[i, j, cos_sim]], columns=('Estudiante-i','Estudiante-j','Cosine Similarity'))\n",
        "df3.drop([0],axis=0)"
      ],
      "execution_count": 44,
      "outputs": [
        {
          "output_type": "execute_result",
          "data": {
            "text/html": [
              "<div>\n",
              "<style scoped>\n",
              "    .dataframe tbody tr th:only-of-type {\n",
              "        vertical-align: middle;\n",
              "    }\n",
              "\n",
              "    .dataframe tbody tr th {\n",
              "        vertical-align: top;\n",
              "    }\n",
              "\n",
              "    .dataframe thead th {\n",
              "        text-align: right;\n",
              "    }\n",
              "</style>\n",
              "<table border=\"1\" class=\"dataframe\">\n",
              "  <thead>\n",
              "    <tr style=\"text-align: right;\">\n",
              "      <th></th>\n",
              "      <th>Estudiante-i</th>\n",
              "      <th>Estudiante-j</th>\n",
              "      <th>Cosine Similarity</th>\n",
              "    </tr>\n",
              "  </thead>\n",
              "  <tbody>\n",
              "  </tbody>\n",
              "</table>\n",
              "</div>"
            ],
            "text/plain": [
              "Empty DataFrame\n",
              "Columns: [Estudiante-i, Estudiante-j, Cosine Similarity]\n",
              "Index: []"
            ]
          },
          "metadata": {
            "tags": []
          },
          "execution_count": 44
        }
      ]
    },
    {
      "cell_type": "code",
      "metadata": {
        "id": "tq-Q-VZY4oJf",
        "colab_type": "code",
        "colab": {}
      },
      "source": [
        "Tarea4 =data.iloc[:,[2]].dropna()\n",
        "lim_sup=Tarea4.shape[0]\n",
        "\n",
        "for i in range(0,lim_sup):\n",
        "    for j in range(i+1,lim_sup):\n",
        "        s1=Tarea4.iloc[i,0]\n",
        "        s2=Tarea4.iloc[j,0]\n",
        "        cos_sim = cosine_distance_countVectorizer(s1, s2)\n",
        "        df = pd.DataFrame([[i, j ,cos_sim]], columns=('Estudiante-i','Estudiante-j','Cosine Similarity'))\n",
        "        df3=df.append(df3)"
      ],
      "execution_count": 45,
      "outputs": []
    },
    {
      "cell_type": "code",
      "metadata": {
        "id": "GHzKHNM0RL78",
        "colab_type": "code",
        "colab": {
          "base_uri": "https://localhost:8080/",
          "height": 419
        },
        "outputId": "773be7e5-8001-46a7-9b0c-11ff9877ea3a"
      },
      "source": [
        "df3.sort_values(by='Cosine Similarity', ascending=False)"
      ],
      "execution_count": 46,
      "outputs": [
        {
          "output_type": "execute_result",
          "data": {
            "text/html": [
              "<div>\n",
              "<style scoped>\n",
              "    .dataframe tbody tr th:only-of-type {\n",
              "        vertical-align: middle;\n",
              "    }\n",
              "\n",
              "    .dataframe tbody tr th {\n",
              "        vertical-align: top;\n",
              "    }\n",
              "\n",
              "    .dataframe thead th {\n",
              "        text-align: right;\n",
              "    }\n",
              "</style>\n",
              "<table border=\"1\" class=\"dataframe\">\n",
              "  <thead>\n",
              "    <tr style=\"text-align: right;\">\n",
              "      <th></th>\n",
              "      <th>Estudiante-i</th>\n",
              "      <th>Estudiante-j</th>\n",
              "      <th>Cosine Similarity</th>\n",
              "    </tr>\n",
              "  </thead>\n",
              "  <tbody>\n",
              "    <tr>\n",
              "      <th>0</th>\n",
              "      <td>5</td>\n",
              "      <td>15</td>\n",
              "      <td>0.892656</td>\n",
              "    </tr>\n",
              "    <tr>\n",
              "      <th>0</th>\n",
              "      <td>15</td>\n",
              "      <td>42</td>\n",
              "      <td>0.885834</td>\n",
              "    </tr>\n",
              "    <tr>\n",
              "      <th>0</th>\n",
              "      <td>15</td>\n",
              "      <td>30</td>\n",
              "      <td>0.877393</td>\n",
              "    </tr>\n",
              "    <tr>\n",
              "      <th>0</th>\n",
              "      <td>7</td>\n",
              "      <td>15</td>\n",
              "      <td>0.875738</td>\n",
              "    </tr>\n",
              "    <tr>\n",
              "      <th>0</th>\n",
              "      <td>15</td>\n",
              "      <td>24</td>\n",
              "      <td>0.872479</td>\n",
              "    </tr>\n",
              "    <tr>\n",
              "      <th>...</th>\n",
              "      <td>...</td>\n",
              "      <td>...</td>\n",
              "      <td>...</td>\n",
              "    </tr>\n",
              "    <tr>\n",
              "      <th>0</th>\n",
              "      <td>10</td>\n",
              "      <td>22</td>\n",
              "      <td>0.007493</td>\n",
              "    </tr>\n",
              "    <tr>\n",
              "      <th>0</th>\n",
              "      <td>25</td>\n",
              "      <td>39</td>\n",
              "      <td>0.006292</td>\n",
              "    </tr>\n",
              "    <tr>\n",
              "      <th>0</th>\n",
              "      <td>10</td>\n",
              "      <td>18</td>\n",
              "      <td>0.006290</td>\n",
              "    </tr>\n",
              "    <tr>\n",
              "      <th>0</th>\n",
              "      <td>33</td>\n",
              "      <td>39</td>\n",
              "      <td>0.004761</td>\n",
              "    </tr>\n",
              "    <tr>\n",
              "      <th>0</th>\n",
              "      <td>22</td>\n",
              "      <td>39</td>\n",
              "      <td>0.002356</td>\n",
              "    </tr>\n",
              "  </tbody>\n",
              "</table>\n",
              "<p>947 rows × 3 columns</p>\n",
              "</div>"
            ],
            "text/plain": [
              "    Estudiante-i  Estudiante-j  Cosine Similarity\n",
              "0              5            15           0.892656\n",
              "0             15            42           0.885834\n",
              "0             15            30           0.877393\n",
              "0              7            15           0.875738\n",
              "0             15            24           0.872479\n",
              "..           ...           ...                ...\n",
              "0             10            22           0.007493\n",
              "0             25            39           0.006292\n",
              "0             10            18           0.006290\n",
              "0             33            39           0.004761\n",
              "0             22            39           0.002356\n",
              "\n",
              "[947 rows x 3 columns]"
            ]
          },
          "metadata": {
            "tags": []
          },
          "execution_count": 46
        }
      ]
    },
    {
      "cell_type": "markdown",
      "metadata": {
        "id": "aHlYgy2FMHVR",
        "colab_type": "text"
      },
      "source": [
        "De acuerdo con el **Cosin Similarity** Los estudiantes que tienen mayor relación en la tarea E4 son el 5 con el 15, el estudiante 15 con el 42 y el estudiante 15 con el 30. El estudiante 15 se destaca por tener la mayor similitud con varios estudiantes."
      ]
    },
    {
      "cell_type": "markdown",
      "metadata": {
        "id": "SO-gRNRIpqeT",
        "colab_type": "text"
      },
      "source": [
        "**Tarea E6 - Decison Trees - Jaccard Similarity:**"
      ]
    },
    {
      "cell_type": "code",
      "metadata": {
        "colab_type": "code",
        "id": "7Lp9lqdmRn3h",
        "colab": {}
      },
      "source": [
        "def jaccard_similarity(query, document):\n",
        "    intersection = set(query).intersection(set(document))\n",
        "    union = set(query).union(set(document))\n",
        "    return len(intersection)/len(union)"
      ],
      "execution_count": 47,
      "outputs": []
    },
    {
      "cell_type": "code",
      "metadata": {
        "colab_type": "code",
        "id": "Mva0Wa6kRn3k",
        "colab": {
          "base_uri": "https://localhost:8080/",
          "height": 49
        },
        "outputId": "79369084-35cf-4a78-a35b-b389da59965f"
      },
      "source": [
        "#Poniendo valores iniciales\n",
        "i=0\n",
        "j=1\n",
        "similarity= .45\n",
        "\n",
        "df2 = pd.DataFrame([[i, j,similarity]], columns=('Estudiante-i','Estudiante-j','Jaccard Similarity'))\n",
        "df2.drop([0],axis=0)"
      ],
      "execution_count": 48,
      "outputs": [
        {
          "output_type": "execute_result",
          "data": {
            "text/html": [
              "<div>\n",
              "<style scoped>\n",
              "    .dataframe tbody tr th:only-of-type {\n",
              "        vertical-align: middle;\n",
              "    }\n",
              "\n",
              "    .dataframe tbody tr th {\n",
              "        vertical-align: top;\n",
              "    }\n",
              "\n",
              "    .dataframe thead th {\n",
              "        text-align: right;\n",
              "    }\n",
              "</style>\n",
              "<table border=\"1\" class=\"dataframe\">\n",
              "  <thead>\n",
              "    <tr style=\"text-align: right;\">\n",
              "      <th></th>\n",
              "      <th>Estudiante-i</th>\n",
              "      <th>Estudiante-j</th>\n",
              "      <th>Jaccard Similarity</th>\n",
              "    </tr>\n",
              "  </thead>\n",
              "  <tbody>\n",
              "  </tbody>\n",
              "</table>\n",
              "</div>"
            ],
            "text/plain": [
              "Empty DataFrame\n",
              "Columns: [Estudiante-i, Estudiante-j, Jaccard Similarity]\n",
              "Index: []"
            ]
          },
          "metadata": {
            "tags": []
          },
          "execution_count": 48
        }
      ]
    },
    {
      "cell_type": "code",
      "metadata": {
        "scrolled": false,
        "colab_type": "code",
        "id": "a2YsN-e4Rn3n",
        "colab": {}
      },
      "source": [
        "Tarea6 =data.iloc[:,[3]].dropna()\n",
        "lim_sup=Tarea6.shape[0]\n",
        "\n",
        "\n",
        "for i in range(0,lim_sup):\n",
        "    for j in range(i+1,lim_sup):\n",
        "        Rta_estudiante_1_3=Tarea6.iloc[i,0]\n",
        "        Rta_estudiante_2_3=Tarea6.iloc[j,0]\n",
        "        similarity=jaccard_similarity(Rta_estudiante_1_3, Rta_estudiante_2_3)\n",
        "        df = pd.DataFrame([[i, j,similarity]], columns=('Estudiante-i','Estudiante-j','Jaccard Similarity'))\n",
        "        df2=df.append(df2)\n"
      ],
      "execution_count": 49,
      "outputs": []
    },
    {
      "cell_type": "code",
      "metadata": {
        "scrolled": true,
        "colab_type": "code",
        "id": "zPRhzGP3Rn3o",
        "colab": {
          "base_uri": "https://localhost:8080/",
          "height": 419
        },
        "outputId": "8b674036-0fdc-4f6f-854b-f8dbff0042c0"
      },
      "source": [
        "df2.sort_values(by='Jaccard Similarity', ascending=False)"
      ],
      "execution_count": 50,
      "outputs": [
        {
          "output_type": "execute_result",
          "data": {
            "text/html": [
              "<div>\n",
              "<style scoped>\n",
              "    .dataframe tbody tr th:only-of-type {\n",
              "        vertical-align: middle;\n",
              "    }\n",
              "\n",
              "    .dataframe tbody tr th {\n",
              "        vertical-align: top;\n",
              "    }\n",
              "\n",
              "    .dataframe thead th {\n",
              "        text-align: right;\n",
              "    }\n",
              "</style>\n",
              "<table border=\"1\" class=\"dataframe\">\n",
              "  <thead>\n",
              "    <tr style=\"text-align: right;\">\n",
              "      <th></th>\n",
              "      <th>Estudiante-i</th>\n",
              "      <th>Estudiante-j</th>\n",
              "      <th>Jaccard Similarity</th>\n",
              "    </tr>\n",
              "  </thead>\n",
              "  <tbody>\n",
              "    <tr>\n",
              "      <th>0</th>\n",
              "      <td>17</td>\n",
              "      <td>33</td>\n",
              "      <td>0.881356</td>\n",
              "    </tr>\n",
              "    <tr>\n",
              "      <th>0</th>\n",
              "      <td>12</td>\n",
              "      <td>30</td>\n",
              "      <td>0.867925</td>\n",
              "    </tr>\n",
              "    <tr>\n",
              "      <th>0</th>\n",
              "      <td>20</td>\n",
              "      <td>38</td>\n",
              "      <td>0.865385</td>\n",
              "    </tr>\n",
              "    <tr>\n",
              "      <th>0</th>\n",
              "      <td>2</td>\n",
              "      <td>10</td>\n",
              "      <td>0.852459</td>\n",
              "    </tr>\n",
              "    <tr>\n",
              "      <th>0</th>\n",
              "      <td>11</td>\n",
              "      <td>14</td>\n",
              "      <td>0.847458</td>\n",
              "    </tr>\n",
              "    <tr>\n",
              "      <th>...</th>\n",
              "      <td>...</td>\n",
              "      <td>...</td>\n",
              "      <td>...</td>\n",
              "    </tr>\n",
              "    <tr>\n",
              "      <th>0</th>\n",
              "      <td>4</td>\n",
              "      <td>26</td>\n",
              "      <td>0.434211</td>\n",
              "    </tr>\n",
              "    <tr>\n",
              "      <th>0</th>\n",
              "      <td>4</td>\n",
              "      <td>37</td>\n",
              "      <td>0.419753</td>\n",
              "    </tr>\n",
              "    <tr>\n",
              "      <th>0</th>\n",
              "      <td>27</td>\n",
              "      <td>34</td>\n",
              "      <td>0.414286</td>\n",
              "    </tr>\n",
              "    <tr>\n",
              "      <th>0</th>\n",
              "      <td>4</td>\n",
              "      <td>27</td>\n",
              "      <td>0.407895</td>\n",
              "    </tr>\n",
              "    <tr>\n",
              "      <th>0</th>\n",
              "      <td>27</td>\n",
              "      <td>28</td>\n",
              "      <td>0.395349</td>\n",
              "    </tr>\n",
              "  </tbody>\n",
              "</table>\n",
              "<p>862 rows × 3 columns</p>\n",
              "</div>"
            ],
            "text/plain": [
              "    Estudiante-i  Estudiante-j  Jaccard Similarity\n",
              "0             17            33            0.881356\n",
              "0             12            30            0.867925\n",
              "0             20            38            0.865385\n",
              "0              2            10            0.852459\n",
              "0             11            14            0.847458\n",
              "..           ...           ...                 ...\n",
              "0              4            26            0.434211\n",
              "0              4            37            0.419753\n",
              "0             27            34            0.414286\n",
              "0              4            27            0.407895\n",
              "0             27            28            0.395349\n",
              "\n",
              "[862 rows x 3 columns]"
            ]
          },
          "metadata": {
            "tags": []
          },
          "execution_count": 50
        }
      ]
    },
    {
      "cell_type": "markdown",
      "metadata": {
        "id": "nQwteJPMTPVh",
        "colab_type": "text"
      },
      "source": [
        "De acuerdo con el **Jaccard Similarity** Los estudiantes que tienen mayor relación en la tarea E6 son el 17 con el 33, el estudiante 12 con el 30 y el estudiante 20 con el 38."
      ]
    },
    {
      "cell_type": "markdown",
      "metadata": {
        "colab_type": "text",
        "id": "i23KbbDdt-RJ"
      },
      "source": [
        "**Tarea E8 - Ensemble Trees Overview - Jaccard Similarity:**"
      ]
    },
    {
      "cell_type": "code",
      "metadata": {
        "colab_type": "code",
        "id": "dB4KjjgOt-RO",
        "colab": {}
      },
      "source": [
        "def jaccard_similarity(query, document):\n",
        "    intersection = set(query).intersection(set(document))\n",
        "    union = set(query).union(set(document))\n",
        "    return len(intersection)/len(union)"
      ],
      "execution_count": 51,
      "outputs": []
    },
    {
      "cell_type": "code",
      "metadata": {
        "colab_type": "code",
        "id": "4QDRVAk6t-RR",
        "colab": {
          "base_uri": "https://localhost:8080/",
          "height": 49
        },
        "outputId": "a4cb3086-d318-4b93-ff82-d0eda09c5565"
      },
      "source": [
        "#Poniendo valores iniciales\n",
        "i=0\n",
        "j=1\n",
        "similarity= .45\n",
        "\n",
        "df2 = pd.DataFrame([[i, j,similarity]], columns=('Estudiante-i','Estudiante-j','Jaccard Similarity'))\n",
        "df2.drop([0],axis=0)"
      ],
      "execution_count": 52,
      "outputs": [
        {
          "output_type": "execute_result",
          "data": {
            "text/html": [
              "<div>\n",
              "<style scoped>\n",
              "    .dataframe tbody tr th:only-of-type {\n",
              "        vertical-align: middle;\n",
              "    }\n",
              "\n",
              "    .dataframe tbody tr th {\n",
              "        vertical-align: top;\n",
              "    }\n",
              "\n",
              "    .dataframe thead th {\n",
              "        text-align: right;\n",
              "    }\n",
              "</style>\n",
              "<table border=\"1\" class=\"dataframe\">\n",
              "  <thead>\n",
              "    <tr style=\"text-align: right;\">\n",
              "      <th></th>\n",
              "      <th>Estudiante-i</th>\n",
              "      <th>Estudiante-j</th>\n",
              "      <th>Jaccard Similarity</th>\n",
              "    </tr>\n",
              "  </thead>\n",
              "  <tbody>\n",
              "  </tbody>\n",
              "</table>\n",
              "</div>"
            ],
            "text/plain": [
              "Empty DataFrame\n",
              "Columns: [Estudiante-i, Estudiante-j, Jaccard Similarity]\n",
              "Index: []"
            ]
          },
          "metadata": {
            "tags": []
          },
          "execution_count": 52
        }
      ]
    },
    {
      "cell_type": "code",
      "metadata": {
        "scrolled": false,
        "colab_type": "code",
        "id": "SeB0KBK9t-RT",
        "colab": {}
      },
      "source": [
        "Tarea8 =data.iloc[:,[4]].dropna()\n",
        "lim_sup=Tarea8.shape[0]\n",
        "\n",
        "\n",
        "for i in range(0,lim_sup):\n",
        "    for j in range(i+1,lim_sup):\n",
        "        Rta_estudiante_1_8=Tarea8.iloc[i,0]\n",
        "        Rta_estudiante_2_8=Tarea8.iloc[j,0]\n",
        "        similarity=jaccard_similarity(Rta_estudiante_1_8, Rta_estudiante_2_8)\n",
        "        df = pd.DataFrame([[i, j,similarity]], columns=('Estudiante-i','Estudiante-j','Jaccard Similarity'))\n",
        "        df2=df.append(df2)\n"
      ],
      "execution_count": 53,
      "outputs": []
    },
    {
      "cell_type": "code",
      "metadata": {
        "scrolled": true,
        "colab_type": "code",
        "id": "hslHzdBlt-RV",
        "colab": {
          "base_uri": "https://localhost:8080/",
          "height": 419
        },
        "outputId": "2528c157-a7ce-43e0-84c9-d01fb991f09e"
      },
      "source": [
        "df2.sort_values(by='Jaccard Similarity', ascending=False)"
      ],
      "execution_count": 54,
      "outputs": [
        {
          "output_type": "execute_result",
          "data": {
            "text/html": [
              "<div>\n",
              "<style scoped>\n",
              "    .dataframe tbody tr th:only-of-type {\n",
              "        vertical-align: middle;\n",
              "    }\n",
              "\n",
              "    .dataframe tbody tr th {\n",
              "        vertical-align: top;\n",
              "    }\n",
              "\n",
              "    .dataframe thead th {\n",
              "        text-align: right;\n",
              "    }\n",
              "</style>\n",
              "<table border=\"1\" class=\"dataframe\">\n",
              "  <thead>\n",
              "    <tr style=\"text-align: right;\">\n",
              "      <th></th>\n",
              "      <th>Estudiante-i</th>\n",
              "      <th>Estudiante-j</th>\n",
              "      <th>Jaccard Similarity</th>\n",
              "    </tr>\n",
              "  </thead>\n",
              "  <tbody>\n",
              "    <tr>\n",
              "      <th>0</th>\n",
              "      <td>19</td>\n",
              "      <td>25</td>\n",
              "      <td>0.909091</td>\n",
              "    </tr>\n",
              "    <tr>\n",
              "      <th>0</th>\n",
              "      <td>18</td>\n",
              "      <td>35</td>\n",
              "      <td>0.906977</td>\n",
              "    </tr>\n",
              "    <tr>\n",
              "      <th>0</th>\n",
              "      <td>27</td>\n",
              "      <td>29</td>\n",
              "      <td>0.836735</td>\n",
              "    </tr>\n",
              "    <tr>\n",
              "      <th>0</th>\n",
              "      <td>8</td>\n",
              "      <td>26</td>\n",
              "      <td>0.830189</td>\n",
              "    </tr>\n",
              "    <tr>\n",
              "      <th>0</th>\n",
              "      <td>27</td>\n",
              "      <td>35</td>\n",
              "      <td>0.829787</td>\n",
              "    </tr>\n",
              "    <tr>\n",
              "      <th>...</th>\n",
              "      <td>...</td>\n",
              "      <td>...</td>\n",
              "      <td>...</td>\n",
              "    </tr>\n",
              "    <tr>\n",
              "      <th>0</th>\n",
              "      <td>10</td>\n",
              "      <td>33</td>\n",
              "      <td>0.378378</td>\n",
              "    </tr>\n",
              "    <tr>\n",
              "      <th>0</th>\n",
              "      <td>1</td>\n",
              "      <td>10</td>\n",
              "      <td>0.378378</td>\n",
              "    </tr>\n",
              "    <tr>\n",
              "      <th>0</th>\n",
              "      <td>4</td>\n",
              "      <td>21</td>\n",
              "      <td>0.364865</td>\n",
              "    </tr>\n",
              "    <tr>\n",
              "      <th>0</th>\n",
              "      <td>10</td>\n",
              "      <td>17</td>\n",
              "      <td>0.361111</td>\n",
              "    </tr>\n",
              "    <tr>\n",
              "      <th>0</th>\n",
              "      <td>17</td>\n",
              "      <td>21</td>\n",
              "      <td>0.346667</td>\n",
              "    </tr>\n",
              "  </tbody>\n",
              "</table>\n",
              "<p>704 rows × 3 columns</p>\n",
              "</div>"
            ],
            "text/plain": [
              "    Estudiante-i  Estudiante-j  Jaccard Similarity\n",
              "0             19            25            0.909091\n",
              "0             18            35            0.906977\n",
              "0             27            29            0.836735\n",
              "0              8            26            0.830189\n",
              "0             27            35            0.829787\n",
              "..           ...           ...                 ...\n",
              "0             10            33            0.378378\n",
              "0              1            10            0.378378\n",
              "0              4            21            0.364865\n",
              "0             10            17            0.361111\n",
              "0             17            21            0.346667\n",
              "\n",
              "[704 rows x 3 columns]"
            ]
          },
          "metadata": {
            "tags": []
          },
          "execution_count": 54
        }
      ]
    },
    {
      "cell_type": "markdown",
      "metadata": {
        "id": "zl_nYMz6UAgb",
        "colab_type": "text"
      },
      "source": [
        "De acuerdo con el **Jaccard Similarity** Los estudiantes que tienen mayor relación en la tarea E8 son el 19 con el 25, el estudiante 18 con el 35 y el estudiante 27 con el 29."
      ]
    },
    {
      "cell_type": "markdown",
      "metadata": {
        "colab_type": "text",
        "id": "mkf_9BxLv5hh"
      },
      "source": [
        "**Tarea E10 - REST-API - Cosine Similarity:**"
      ]
    },
    {
      "cell_type": "code",
      "metadata": {
        "colab_type": "code",
        "id": "jEUGK7Hxv5hi",
        "colab": {}
      },
      "source": [
        "from sklearn.feature_extraction.text import CountVectorizer\n",
        "from scipy.spatial.distance import cosine\n",
        "import numpy as np\n",
        "\n",
        "def cosine_distance_countVectorizer(s1, s2):\n",
        "\n",
        "    vect = CountVectorizer()\n",
        "    X_dtm = vect.fit_transform([s1, s2]).todense()\n",
        "    \n",
        "    return 1-cosine(X_dtm[0], X_dtm[1])"
      ],
      "execution_count": 55,
      "outputs": []
    },
    {
      "cell_type": "code",
      "metadata": {
        "colab_type": "code",
        "id": "9e-OFcC6v5hk",
        "colab": {
          "base_uri": "https://localhost:8080/",
          "height": 49
        },
        "outputId": "41899f69-f031-4c6a-ff1b-393544394ca0"
      },
      "source": [
        "#Poniendo valores iniciales\n",
        "i=0\n",
        "j=1\n",
        "cos_sim = .73\n",
        "\n",
        "df3 = pd.DataFrame([[i, j, cos_sim]], columns=('Estudiante-i','Estudiante-j','Cosine Similarity'))\n",
        "df3.drop([0],axis=0)"
      ],
      "execution_count": 56,
      "outputs": [
        {
          "output_type": "execute_result",
          "data": {
            "text/html": [
              "<div>\n",
              "<style scoped>\n",
              "    .dataframe tbody tr th:only-of-type {\n",
              "        vertical-align: middle;\n",
              "    }\n",
              "\n",
              "    .dataframe tbody tr th {\n",
              "        vertical-align: top;\n",
              "    }\n",
              "\n",
              "    .dataframe thead th {\n",
              "        text-align: right;\n",
              "    }\n",
              "</style>\n",
              "<table border=\"1\" class=\"dataframe\">\n",
              "  <thead>\n",
              "    <tr style=\"text-align: right;\">\n",
              "      <th></th>\n",
              "      <th>Estudiante-i</th>\n",
              "      <th>Estudiante-j</th>\n",
              "      <th>Cosine Similarity</th>\n",
              "    </tr>\n",
              "  </thead>\n",
              "  <tbody>\n",
              "  </tbody>\n",
              "</table>\n",
              "</div>"
            ],
            "text/plain": [
              "Empty DataFrame\n",
              "Columns: [Estudiante-i, Estudiante-j, Cosine Similarity]\n",
              "Index: []"
            ]
          },
          "metadata": {
            "tags": []
          },
          "execution_count": 56
        }
      ]
    },
    {
      "cell_type": "code",
      "metadata": {
        "colab_type": "code",
        "id": "ZjfB67hlv5hm",
        "colab": {}
      },
      "source": [
        "Tarea10 =data.iloc[:,[5]].dropna()\n",
        "lim_sup=Tarea10.shape[0]\n",
        "\n",
        "for i in range(0,lim_sup):\n",
        "    for j in range(i+1,lim_sup):\n",
        "        s1=Tarea10.iloc[i,0]\n",
        "        s2=Tarea10.iloc[j,0]\n",
        "        cos_sim = cosine_distance_countVectorizer(s1, s2)\n",
        "        df = pd.DataFrame([[i, j ,cos_sim]], columns=('Estudiante-i','Estudiante-j','Cosine Similarity'))\n",
        "        df3=df.append(df3)"
      ],
      "execution_count": 57,
      "outputs": []
    },
    {
      "cell_type": "code",
      "metadata": {
        "colab_type": "code",
        "id": "oOi06jOGv5hn",
        "colab": {
          "base_uri": "https://localhost:8080/",
          "height": 419
        },
        "outputId": "d4148e9e-c22a-4f4e-9188-bf5799407560"
      },
      "source": [
        "df3.sort_values(by='Cosine Similarity', ascending=False)"
      ],
      "execution_count": 58,
      "outputs": [
        {
          "output_type": "execute_result",
          "data": {
            "text/html": [
              "<div>\n",
              "<style scoped>\n",
              "    .dataframe tbody tr th:only-of-type {\n",
              "        vertical-align: middle;\n",
              "    }\n",
              "\n",
              "    .dataframe tbody tr th {\n",
              "        vertical-align: top;\n",
              "    }\n",
              "\n",
              "    .dataframe thead th {\n",
              "        text-align: right;\n",
              "    }\n",
              "</style>\n",
              "<table border=\"1\" class=\"dataframe\">\n",
              "  <thead>\n",
              "    <tr style=\"text-align: right;\">\n",
              "      <th></th>\n",
              "      <th>Estudiante-i</th>\n",
              "      <th>Estudiante-j</th>\n",
              "      <th>Cosine Similarity</th>\n",
              "    </tr>\n",
              "  </thead>\n",
              "  <tbody>\n",
              "    <tr>\n",
              "      <th>0</th>\n",
              "      <td>24</td>\n",
              "      <td>37</td>\n",
              "      <td>0.909595</td>\n",
              "    </tr>\n",
              "    <tr>\n",
              "      <th>0</th>\n",
              "      <td>2</td>\n",
              "      <td>22</td>\n",
              "      <td>0.907017</td>\n",
              "    </tr>\n",
              "    <tr>\n",
              "      <th>0</th>\n",
              "      <td>22</td>\n",
              "      <td>39</td>\n",
              "      <td>0.892993</td>\n",
              "    </tr>\n",
              "    <tr>\n",
              "      <th>0</th>\n",
              "      <td>2</td>\n",
              "      <td>10</td>\n",
              "      <td>0.885601</td>\n",
              "    </tr>\n",
              "    <tr>\n",
              "      <th>0</th>\n",
              "      <td>10</td>\n",
              "      <td>22</td>\n",
              "      <td>0.880637</td>\n",
              "    </tr>\n",
              "    <tr>\n",
              "      <th>...</th>\n",
              "      <td>...</td>\n",
              "      <td>...</td>\n",
              "      <td>...</td>\n",
              "    </tr>\n",
              "    <tr>\n",
              "      <th>0</th>\n",
              "      <td>4</td>\n",
              "      <td>13</td>\n",
              "      <td>0.000000</td>\n",
              "    </tr>\n",
              "    <tr>\n",
              "      <th>0</th>\n",
              "      <td>4</td>\n",
              "      <td>15</td>\n",
              "      <td>0.000000</td>\n",
              "    </tr>\n",
              "    <tr>\n",
              "      <th>0</th>\n",
              "      <td>4</td>\n",
              "      <td>16</td>\n",
              "      <td>0.000000</td>\n",
              "    </tr>\n",
              "    <tr>\n",
              "      <th>0</th>\n",
              "      <td>3</td>\n",
              "      <td>13</td>\n",
              "      <td>0.000000</td>\n",
              "    </tr>\n",
              "    <tr>\n",
              "      <th>0</th>\n",
              "      <td>27</td>\n",
              "      <td>39</td>\n",
              "      <td>0.000000</td>\n",
              "    </tr>\n",
              "  </tbody>\n",
              "</table>\n",
              "<p>991 rows × 3 columns</p>\n",
              "</div>"
            ],
            "text/plain": [
              "    Estudiante-i  Estudiante-j  Cosine Similarity\n",
              "0             24            37           0.909595\n",
              "0              2            22           0.907017\n",
              "0             22            39           0.892993\n",
              "0              2            10           0.885601\n",
              "0             10            22           0.880637\n",
              "..           ...           ...                ...\n",
              "0              4            13           0.000000\n",
              "0              4            15           0.000000\n",
              "0              4            16           0.000000\n",
              "0              3            13           0.000000\n",
              "0             27            39           0.000000\n",
              "\n",
              "[991 rows x 3 columns]"
            ]
          },
          "metadata": {
            "tags": []
          },
          "execution_count": 58
        }
      ]
    },
    {
      "cell_type": "markdown",
      "metadata": {
        "id": "xfQwKJMxY9o0",
        "colab_type": "text"
      },
      "source": [
        "De acuerdo con el **Cosine Similarity** Los estudiantes que tienen mayor relación en la tarea E10 son el 24 con el 37, el estudiante 2 con el 22 y el estudiante 22 con el 39."
      ]
    },
    {
      "cell_type": "markdown",
      "metadata": {
        "colab_type": "text",
        "id": "a1PcOiUuTY8Y"
      },
      "source": [
        "**Tarea E11 - Natural Language Processing Overview - Cosine Similarity:**"
      ]
    },
    {
      "cell_type": "code",
      "metadata": {
        "colab_type": "code",
        "id": "4k__iN-yTY8Y",
        "colab": {}
      },
      "source": [
        "from sklearn.feature_extraction.text import CountVectorizer\n",
        "from scipy.spatial.distance import cosine\n",
        "import numpy as np\n",
        "\n",
        "def cosine_distance_countVectorizer(s1, s2):\n",
        "\n",
        "    vect = CountVectorizer()\n",
        "    X_dtm = vect.fit_transform([s1, s2]).todense()\n",
        "    \n",
        "    return 1-cosine(X_dtm[0], X_dtm[1])"
      ],
      "execution_count": 59,
      "outputs": []
    },
    {
      "cell_type": "code",
      "metadata": {
        "colab_type": "code",
        "id": "ecqxrcqUTY8b",
        "colab": {
          "base_uri": "https://localhost:8080/",
          "height": 49
        },
        "outputId": "5a831dcd-9389-44e9-e1e9-e1f1cc59faa5"
      },
      "source": [
        "#Poniendo valores iniciales\n",
        "i=0\n",
        "j=1\n",
        "cos_sim = .73\n",
        "\n",
        "df3 = pd.DataFrame([[i, j, cos_sim]], columns=('Estudiante-i','Estudiante-j','Cosine Similarity'))\n",
        "df3.drop([0],axis=0)"
      ],
      "execution_count": 60,
      "outputs": [
        {
          "output_type": "execute_result",
          "data": {
            "text/html": [
              "<div>\n",
              "<style scoped>\n",
              "    .dataframe tbody tr th:only-of-type {\n",
              "        vertical-align: middle;\n",
              "    }\n",
              "\n",
              "    .dataframe tbody tr th {\n",
              "        vertical-align: top;\n",
              "    }\n",
              "\n",
              "    .dataframe thead th {\n",
              "        text-align: right;\n",
              "    }\n",
              "</style>\n",
              "<table border=\"1\" class=\"dataframe\">\n",
              "  <thead>\n",
              "    <tr style=\"text-align: right;\">\n",
              "      <th></th>\n",
              "      <th>Estudiante-i</th>\n",
              "      <th>Estudiante-j</th>\n",
              "      <th>Cosine Similarity</th>\n",
              "    </tr>\n",
              "  </thead>\n",
              "  <tbody>\n",
              "  </tbody>\n",
              "</table>\n",
              "</div>"
            ],
            "text/plain": [
              "Empty DataFrame\n",
              "Columns: [Estudiante-i, Estudiante-j, Cosine Similarity]\n",
              "Index: []"
            ]
          },
          "metadata": {
            "tags": []
          },
          "execution_count": 60
        }
      ]
    },
    {
      "cell_type": "code",
      "metadata": {
        "colab_type": "code",
        "id": "DDlQebGETY8e",
        "colab": {}
      },
      "source": [
        "Tarea11 =data.iloc[:,[6]].dropna()\n",
        "lim_sup=Tarea11.shape[0]\n",
        "\n",
        "for i in range(0,lim_sup):\n",
        "    for j in range(i+1,lim_sup):\n",
        "        s1=Tarea11.iloc[i,0]\n",
        "        s2=Tarea11.iloc[j,0]\n",
        "        cos_sim = cosine_distance_countVectorizer(s1, s2)\n",
        "        df = pd.DataFrame([[i, j ,cos_sim]], columns=('Estudiante-i','Estudiante-j','Cosine Similarity'))\n",
        "        df3=df.append(df3)"
      ],
      "execution_count": 61,
      "outputs": []
    },
    {
      "cell_type": "code",
      "metadata": {
        "colab_type": "code",
        "id": "IcYTGDklTY8f",
        "colab": {
          "base_uri": "https://localhost:8080/",
          "height": 419
        },
        "outputId": "da36961d-8cde-454d-e0e5-6622df0530a8"
      },
      "source": [
        "df3.sort_values(by='Cosine Similarity', ascending=False)"
      ],
      "execution_count": 62,
      "outputs": [
        {
          "output_type": "execute_result",
          "data": {
            "text/html": [
              "<div>\n",
              "<style scoped>\n",
              "    .dataframe tbody tr th:only-of-type {\n",
              "        vertical-align: middle;\n",
              "    }\n",
              "\n",
              "    .dataframe tbody tr th {\n",
              "        vertical-align: top;\n",
              "    }\n",
              "\n",
              "    .dataframe thead th {\n",
              "        text-align: right;\n",
              "    }\n",
              "</style>\n",
              "<table border=\"1\" class=\"dataframe\">\n",
              "  <thead>\n",
              "    <tr style=\"text-align: right;\">\n",
              "      <th></th>\n",
              "      <th>Estudiante-i</th>\n",
              "      <th>Estudiante-j</th>\n",
              "      <th>Cosine Similarity</th>\n",
              "    </tr>\n",
              "  </thead>\n",
              "  <tbody>\n",
              "    <tr>\n",
              "      <th>0</th>\n",
              "      <td>3</td>\n",
              "      <td>4</td>\n",
              "      <td>0.837409</td>\n",
              "    </tr>\n",
              "    <tr>\n",
              "      <th>0</th>\n",
              "      <td>4</td>\n",
              "      <td>9</td>\n",
              "      <td>0.799761</td>\n",
              "    </tr>\n",
              "    <tr>\n",
              "      <th>0</th>\n",
              "      <td>3</td>\n",
              "      <td>9</td>\n",
              "      <td>0.774903</td>\n",
              "    </tr>\n",
              "    <tr>\n",
              "      <th>0</th>\n",
              "      <td>3</td>\n",
              "      <td>13</td>\n",
              "      <td>0.767021</td>\n",
              "    </tr>\n",
              "    <tr>\n",
              "      <th>0</th>\n",
              "      <td>2</td>\n",
              "      <td>4</td>\n",
              "      <td>0.749017</td>\n",
              "    </tr>\n",
              "    <tr>\n",
              "      <th>...</th>\n",
              "      <td>...</td>\n",
              "      <td>...</td>\n",
              "      <td>...</td>\n",
              "    </tr>\n",
              "    <tr>\n",
              "      <th>0</th>\n",
              "      <td>1</td>\n",
              "      <td>8</td>\n",
              "      <td>0.000000</td>\n",
              "    </tr>\n",
              "    <tr>\n",
              "      <th>0</th>\n",
              "      <td>8</td>\n",
              "      <td>15</td>\n",
              "      <td>0.000000</td>\n",
              "    </tr>\n",
              "    <tr>\n",
              "      <th>0</th>\n",
              "      <td>4</td>\n",
              "      <td>8</td>\n",
              "      <td>0.000000</td>\n",
              "    </tr>\n",
              "    <tr>\n",
              "      <th>0</th>\n",
              "      <td>8</td>\n",
              "      <td>9</td>\n",
              "      <td>0.000000</td>\n",
              "    </tr>\n",
              "    <tr>\n",
              "      <th>0</th>\n",
              "      <td>3</td>\n",
              "      <td>8</td>\n",
              "      <td>0.000000</td>\n",
              "    </tr>\n",
              "  </tbody>\n",
              "</table>\n",
              "<p>121 rows × 3 columns</p>\n",
              "</div>"
            ],
            "text/plain": [
              "    Estudiante-i  Estudiante-j  Cosine Similarity\n",
              "0              3             4           0.837409\n",
              "0              4             9           0.799761\n",
              "0              3             9           0.774903\n",
              "0              3            13           0.767021\n",
              "0              2             4           0.749017\n",
              "..           ...           ...                ...\n",
              "0              1             8           0.000000\n",
              "0              8            15           0.000000\n",
              "0              4             8           0.000000\n",
              "0              8             9           0.000000\n",
              "0              3             8           0.000000\n",
              "\n",
              "[121 rows x 3 columns]"
            ]
          },
          "metadata": {
            "tags": []
          },
          "execution_count": 62
        }
      ]
    },
    {
      "cell_type": "markdown",
      "metadata": {
        "id": "OsVtQv9nlfOV",
        "colab_type": "text"
      },
      "source": [
        "De acuerdo con el **Cosine Similarity** los estudiantes que tienen mayor relación en la tarea E11 son el 3 con el 4, el estudiante 4 con el 9 y el estudiante 3 con el 9."
      ]
    },
    {
      "cell_type": "markdown",
      "metadata": {
        "id": "2cD-sWLgpqed",
        "colab_type": "text"
      },
      "source": [
        "### **Comparación nivel de estudiante**\n",
        "Para ver la similitud que tienen los estudiantes a nivel del curso ( incluyendo todas las tareas)."
      ]
    },
    {
      "cell_type": "code",
      "metadata": {
        "id": "NMwqTQUrqTv9",
        "colab_type": "code",
        "colab": {}
      },
      "source": [
        "#Los datos nulos se reemplazan por espacio.\n",
        "data0 = data\n",
        "data0['E1 - Examples of Time Series Analysis'] = data['E1 - Examples of Time Series Analysis'].fillna(' ')\n",
        "data0['E4 - Panel Data'] = data['E4 - Panel Data'].fillna(' ')\n",
        "data0['E6 - Decison Trees'] = data['E6 - Decison Trees'].fillna(' ')\n",
        "data0['E8 - Ensemble Trees Overview'] = data['E8 - Ensemble Trees Overview'].fillna(' ')\n",
        "data0['E10 - REST-API'] = data['E10 - REST-API'].fillna(' ')\n",
        "data0['E11 - Natural Language Processing Overview'] = data['E11 - Natural Language Processing Overview'].fillna(' ')"
      ],
      "execution_count": 63,
      "outputs": []
    },
    {
      "cell_type": "code",
      "metadata": {
        "id": "JQ-TkY2gpqee",
        "colab_type": "code",
        "colab": {
          "base_uri": "https://localhost:8080/",
          "height": 734
        },
        "outputId": "31d83d01-fcdc-4190-80da-82f641d5a472"
      },
      "source": [
        "#Se crea una nueva columna la cual incluye la respuesta a todas las tareas por alumno.\n",
        "data0[\"AllHomeworks\"]=data0[\"E1 - Examples of Time Series Analysis\"]+\" \"+ data0[\"E4 - Panel Data\"]+\" \"+ data0[\"E6 - Decison Trees\"]+\" \"+ data0[\"E8 - Ensemble Trees Overview\"]+\" \"+ data0[\"E10 - REST-API\"]+\" \"+ data0[\"E11 - Natural Language Processing Overview\"] \t\n",
        "data0.head()"
      ],
      "execution_count": 64,
      "outputs": [
        {
          "output_type": "execute_result",
          "data": {
            "text/html": [
              "<div>\n",
              "<style scoped>\n",
              "    .dataframe tbody tr th:only-of-type {\n",
              "        vertical-align: middle;\n",
              "    }\n",
              "\n",
              "    .dataframe tbody tr th {\n",
              "        vertical-align: top;\n",
              "    }\n",
              "\n",
              "    .dataframe thead th {\n",
              "        text-align: right;\n",
              "    }\n",
              "</style>\n",
              "<table border=\"1\" class=\"dataframe\">\n",
              "  <thead>\n",
              "    <tr style=\"text-align: right;\">\n",
              "      <th></th>\n",
              "      <th>Genero</th>\n",
              "      <th>E1 - Examples of Time Series Analysis</th>\n",
              "      <th>E4 - Panel Data</th>\n",
              "      <th>E6 - Decison Trees</th>\n",
              "      <th>E8 - Ensemble Trees Overview</th>\n",
              "      <th>E10 - REST-API</th>\n",
              "      <th>E11 - Natural Language Processing Overview</th>\n",
              "      <th>Longitud_E1</th>\n",
              "      <th>Longitud_E4</th>\n",
              "      <th>Longitud_E6</th>\n",
              "      <th>Longitud_E8</th>\n",
              "      <th>Longitud_E10</th>\n",
              "      <th>Longitud_E11</th>\n",
              "      <th>Media</th>\n",
              "      <th>Tareas Faltantes</th>\n",
              "      <th>English_E1</th>\n",
              "      <th>English_E4</th>\n",
              "      <th>English_E6</th>\n",
              "      <th>English_E8</th>\n",
              "      <th>English_E10</th>\n",
              "      <th>English_E11</th>\n",
              "      <th>p_english</th>\n",
              "      <th>usa_english</th>\n",
              "      <th>AllHomeworks</th>\n",
              "    </tr>\n",
              "  </thead>\n",
              "  <tbody>\n",
              "    <tr>\n",
              "      <th>0</th>\n",
              "      <td>Masculino</td>\n",
              "      <td>One of the most valuable application of time s...</td>\n",
              "      <td>The main difference between panel data and tim...</td>\n",
              "      <td>Decision tree are a model used by the analytic...</td>\n",
              "      <td>They are used to make a better prediction than...</td>\n",
              "      <td>Es una forma de arquitectura de datos. Los mic...</td>\n",
              "      <td></td>\n",
              "      <td>301.0</td>\n",
              "      <td>51.0</td>\n",
              "      <td>319.0</td>\n",
              "      <td>309.0</td>\n",
              "      <td>302.0</td>\n",
              "      <td>NaN</td>\n",
              "      <td>256.400000</td>\n",
              "      <td>1.0</td>\n",
              "      <td>T</td>\n",
              "      <td>T</td>\n",
              "      <td>T</td>\n",
              "      <td>T</td>\n",
              "      <td>F</td>\n",
              "      <td>NaN</td>\n",
              "      <td>0.666667</td>\n",
              "      <td>1</td>\n",
              "      <td>One of the most valuable application of time s...</td>\n",
              "    </tr>\n",
              "    <tr>\n",
              "      <th>1</th>\n",
              "      <td>Femenino</td>\n",
              "      <td>ANÁLISIS DE SERIES DE TIEMPO – USOS \\nEl análi...</td>\n",
              "      <td>Series de Tiempo vs Datos en Panel\\nUna serie ...</td>\n",
              "      <td>TIPOS DE ÁRBOLES DE DECISIÓN Y APLICACIONES\\nL...</td>\n",
              "      <td>ENSAMBLAJE EN MACHINE LEARNING\\nLos métodos de...</td>\n",
              "      <td>Microservicios\\nEl objetivo principal de la im...</td>\n",
              "      <td></td>\n",
              "      <td>478.0</td>\n",
              "      <td>190.0</td>\n",
              "      <td>341.0</td>\n",
              "      <td>382.0</td>\n",
              "      <td>305.0</td>\n",
              "      <td>NaN</td>\n",
              "      <td>339.200000</td>\n",
              "      <td>1.0</td>\n",
              "      <td>F</td>\n",
              "      <td>F</td>\n",
              "      <td>F</td>\n",
              "      <td>T</td>\n",
              "      <td>F</td>\n",
              "      <td>NaN</td>\n",
              "      <td>0.166667</td>\n",
              "      <td>1</td>\n",
              "      <td>ANÁLISIS DE SERIES DE TIEMPO – USOS \\nEl análi...</td>\n",
              "    </tr>\n",
              "    <tr>\n",
              "      <th>2</th>\n",
              "      <td>Masculino</td>\n",
              "      <td>Una serie de tiempo es una colección de datos ...</td>\n",
              "      <td></td>\n",
              "      <td>los arboles de decisión hacen parte de los alg...</td>\n",
              "      <td>Ensemble methods is a machine learning techniq...</td>\n",
              "      <td>El enfoque tradicional para el diseño de aplic...</td>\n",
              "      <td>LexisNexis launched Lexis Analytics, a legal r...</td>\n",
              "      <td>244.0</td>\n",
              "      <td>NaN</td>\n",
              "      <td>319.0</td>\n",
              "      <td>351.0</td>\n",
              "      <td>334.0</td>\n",
              "      <td>160.0</td>\n",
              "      <td>281.600000</td>\n",
              "      <td>1.0</td>\n",
              "      <td>F</td>\n",
              "      <td>NaN</td>\n",
              "      <td>T</td>\n",
              "      <td>T</td>\n",
              "      <td>F</td>\n",
              "      <td>T</td>\n",
              "      <td>0.500000</td>\n",
              "      <td>1</td>\n",
              "      <td>Una serie de tiempo es una colección de datos ...</td>\n",
              "    </tr>\n",
              "    <tr>\n",
              "      <th>3</th>\n",
              "      <td>Masculino</td>\n",
              "      <td>\\nGiven that Time Series Analysis allows to un...</td>\n",
              "      <td>The difference between panel data and time ser...</td>\n",
              "      <td>Decision Trees Algorithms are machine function...</td>\n",
              "      <td>Ensemble methods in Tree Decision algorithms b...</td>\n",
              "      <td>Micro-services are defined as a type of softwa...</td>\n",
              "      <td></td>\n",
              "      <td>333.0</td>\n",
              "      <td>119.0</td>\n",
              "      <td>273.0</td>\n",
              "      <td>372.0</td>\n",
              "      <td>331.0</td>\n",
              "      <td>NaN</td>\n",
              "      <td>285.600000</td>\n",
              "      <td>1.0</td>\n",
              "      <td>T</td>\n",
              "      <td>T</td>\n",
              "      <td>T</td>\n",
              "      <td>T</td>\n",
              "      <td>T</td>\n",
              "      <td>NaN</td>\n",
              "      <td>0.833333</td>\n",
              "      <td>1</td>\n",
              "      <td>\\nGiven that Time Series Analysis allows to un...</td>\n",
              "    </tr>\n",
              "    <tr>\n",
              "      <th>4</th>\n",
              "      <td>Masculino</td>\n",
              "      <td>Time Series Analysis is concerned with the stu...</td>\n",
              "      <td>A time series is represented by a variable or ...</td>\n",
              "      <td>Decision trees are a popular supervised machin...</td>\n",
              "      <td>The ensemble method is a combination of severa...</td>\n",
              "      <td>A microservice is a type of information techno...</td>\n",
              "      <td>A commercial product which uses Natural Langua...</td>\n",
              "      <td>361.0</td>\n",
              "      <td>228.0</td>\n",
              "      <td>517.0</td>\n",
              "      <td>417.0</td>\n",
              "      <td>341.0</td>\n",
              "      <td>210.0</td>\n",
              "      <td>345.666667</td>\n",
              "      <td>0.0</td>\n",
              "      <td>T</td>\n",
              "      <td>T</td>\n",
              "      <td>T</td>\n",
              "      <td>T</td>\n",
              "      <td>T</td>\n",
              "      <td>T</td>\n",
              "      <td>1.000000</td>\n",
              "      <td>1</td>\n",
              "      <td>Time Series Analysis is concerned with the stu...</td>\n",
              "    </tr>\n",
              "  </tbody>\n",
              "</table>\n",
              "</div>"
            ],
            "text/plain": [
              "      Genero  ...                                       AllHomeworks\n",
              "0  Masculino  ...  One of the most valuable application of time s...\n",
              "1   Femenino  ...  ANÁLISIS DE SERIES DE TIEMPO – USOS \\nEl análi...\n",
              "2  Masculino  ...  Una serie de tiempo es una colección de datos ...\n",
              "3  Masculino  ...  \\nGiven that Time Series Analysis allows to un...\n",
              "4  Masculino  ...  Time Series Analysis is concerned with the stu...\n",
              "\n",
              "[5 rows x 24 columns]"
            ]
          },
          "metadata": {
            "tags": []
          },
          "execution_count": 64
        }
      ]
    },
    {
      "cell_type": "markdown",
      "metadata": {
        "colab_type": "text",
        "id": "_gAMuwHksDkG"
      },
      "source": [
        "**Jaccard Similarity:**"
      ]
    },
    {
      "cell_type": "code",
      "metadata": {
        "colab_type": "code",
        "id": "s4f1fF7zsDkH",
        "colab": {}
      },
      "source": [
        "def jaccard_similarity(query, document):\n",
        "    intersection = set(query).intersection(set(document))\n",
        "    union = set(query).union(set(document))\n",
        "    return len(intersection)/len(union)"
      ],
      "execution_count": 65,
      "outputs": []
    },
    {
      "cell_type": "code",
      "metadata": {
        "colab_type": "code",
        "id": "UT2ocUtZsDkJ",
        "colab": {
          "base_uri": "https://localhost:8080/",
          "height": 49
        },
        "outputId": "ebaeac3d-f6de-4dbe-e803-cf508c403dde"
      },
      "source": [
        "#Poniendo valores iniciales\n",
        "i=0\n",
        "j=1\n",
        "similarity= .45\n",
        "\n",
        "df2 = pd.DataFrame([[i, j,similarity]], columns=('Estudiante-i','Estudiante-j','Jaccard Similarity'))\n",
        "df2.drop([0],axis=0)"
      ],
      "execution_count": 66,
      "outputs": [
        {
          "output_type": "execute_result",
          "data": {
            "text/html": [
              "<div>\n",
              "<style scoped>\n",
              "    .dataframe tbody tr th:only-of-type {\n",
              "        vertical-align: middle;\n",
              "    }\n",
              "\n",
              "    .dataframe tbody tr th {\n",
              "        vertical-align: top;\n",
              "    }\n",
              "\n",
              "    .dataframe thead th {\n",
              "        text-align: right;\n",
              "    }\n",
              "</style>\n",
              "<table border=\"1\" class=\"dataframe\">\n",
              "  <thead>\n",
              "    <tr style=\"text-align: right;\">\n",
              "      <th></th>\n",
              "      <th>Estudiante-i</th>\n",
              "      <th>Estudiante-j</th>\n",
              "      <th>Jaccard Similarity</th>\n",
              "    </tr>\n",
              "  </thead>\n",
              "  <tbody>\n",
              "  </tbody>\n",
              "</table>\n",
              "</div>"
            ],
            "text/plain": [
              "Empty DataFrame\n",
              "Columns: [Estudiante-i, Estudiante-j, Jaccard Similarity]\n",
              "Index: []"
            ]
          },
          "metadata": {
            "tags": []
          },
          "execution_count": 66
        }
      ]
    },
    {
      "cell_type": "code",
      "metadata": {
        "scrolled": false,
        "colab_type": "code",
        "id": "zMTpKEHOsDkM",
        "colab": {}
      },
      "source": [
        "AllHom = data.iloc[:,[23]].dropna()\n",
        "lim_sup = AllHom.shape[0]\n",
        "\n",
        "\n",
        "for i in range(0,lim_sup):\n",
        "    for j in range(i+1,lim_sup):\n",
        "        Rta_estudiante_1=AllHom.iloc[i,0]\n",
        "        Rta_estudiante_2=AllHom.iloc[j,0]\n",
        "        similarity=jaccard_similarity(Rta_estudiante_1, Rta_estudiante_2)\n",
        "        df = pd.DataFrame([[i, j,similarity]], columns=('Estudiante-i','Estudiante-j','Jaccard Similarity'))\n",
        "        df2=df.append(df2)\n"
      ],
      "execution_count": 67,
      "outputs": []
    },
    {
      "cell_type": "code",
      "metadata": {
        "scrolled": true,
        "colab_type": "code",
        "id": "DmPx1itGsDkO",
        "colab": {
          "base_uri": "https://localhost:8080/",
          "height": 419
        },
        "outputId": "44702b81-24b1-4d0d-cc71-a4b5575f5ee3"
      },
      "source": [
        "df2.sort_values(by='Jaccard Similarity', ascending=False)"
      ],
      "execution_count": 68,
      "outputs": [
        {
          "output_type": "execute_result",
          "data": {
            "text/html": [
              "<div>\n",
              "<style scoped>\n",
              "    .dataframe tbody tr th:only-of-type {\n",
              "        vertical-align: middle;\n",
              "    }\n",
              "\n",
              "    .dataframe tbody tr th {\n",
              "        vertical-align: top;\n",
              "    }\n",
              "\n",
              "    .dataframe thead th {\n",
              "        text-align: right;\n",
              "    }\n",
              "</style>\n",
              "<table border=\"1\" class=\"dataframe\">\n",
              "  <thead>\n",
              "    <tr style=\"text-align: right;\">\n",
              "      <th></th>\n",
              "      <th>Estudiante-i</th>\n",
              "      <th>Estudiante-j</th>\n",
              "      <th>Jaccard Similarity</th>\n",
              "    </tr>\n",
              "  </thead>\n",
              "  <tbody>\n",
              "    <tr>\n",
              "      <th>0</th>\n",
              "      <td>22</td>\n",
              "      <td>32</td>\n",
              "      <td>0.903226</td>\n",
              "    </tr>\n",
              "    <tr>\n",
              "      <th>0</th>\n",
              "      <td>21</td>\n",
              "      <td>43</td>\n",
              "      <td>0.900000</td>\n",
              "    </tr>\n",
              "    <tr>\n",
              "      <th>0</th>\n",
              "      <td>16</td>\n",
              "      <td>44</td>\n",
              "      <td>0.898734</td>\n",
              "    </tr>\n",
              "    <tr>\n",
              "      <th>0</th>\n",
              "      <td>22</td>\n",
              "      <td>26</td>\n",
              "      <td>0.890625</td>\n",
              "    </tr>\n",
              "    <tr>\n",
              "      <th>0</th>\n",
              "      <td>19</td>\n",
              "      <td>40</td>\n",
              "      <td>0.888889</td>\n",
              "    </tr>\n",
              "    <tr>\n",
              "      <th>...</th>\n",
              "      <td>...</td>\n",
              "      <td>...</td>\n",
              "      <td>...</td>\n",
              "    </tr>\n",
              "    <tr>\n",
              "      <th>0</th>\n",
              "      <td>13</td>\n",
              "      <td>30</td>\n",
              "      <td>0.466667</td>\n",
              "    </tr>\n",
              "    <tr>\n",
              "      <th>0</th>\n",
              "      <td>13</td>\n",
              "      <td>41</td>\n",
              "      <td>0.461538</td>\n",
              "    </tr>\n",
              "    <tr>\n",
              "      <th>0</th>\n",
              "      <td>0</td>\n",
              "      <td>1</td>\n",
              "      <td>0.450000</td>\n",
              "    </tr>\n",
              "    <tr>\n",
              "      <th>0</th>\n",
              "      <td>13</td>\n",
              "      <td>27</td>\n",
              "      <td>0.439024</td>\n",
              "    </tr>\n",
              "    <tr>\n",
              "      <th>0</th>\n",
              "      <td>13</td>\n",
              "      <td>38</td>\n",
              "      <td>0.420455</td>\n",
              "    </tr>\n",
              "  </tbody>\n",
              "</table>\n",
              "<p>1036 rows × 3 columns</p>\n",
              "</div>"
            ],
            "text/plain": [
              "    Estudiante-i  Estudiante-j  Jaccard Similarity\n",
              "0             22            32            0.903226\n",
              "0             21            43            0.900000\n",
              "0             16            44            0.898734\n",
              "0             22            26            0.890625\n",
              "0             19            40            0.888889\n",
              "..           ...           ...                 ...\n",
              "0             13            30            0.466667\n",
              "0             13            41            0.461538\n",
              "0              0             1            0.450000\n",
              "0             13            27            0.439024\n",
              "0             13            38            0.420455\n",
              "\n",
              "[1036 rows x 3 columns]"
            ]
          },
          "metadata": {
            "tags": []
          },
          "execution_count": 68
        }
      ]
    },
    {
      "cell_type": "markdown",
      "metadata": {
        "id": "0QKkbWkmtHlQ",
        "colab_type": "text"
      },
      "source": [
        "Al comparar la relación de todas las tareas se evidencia que el estudiante 22 y 32 guarda la mayor similitud en todas las tareas, seguidos del estudiante 21 con el estudiante 43."
      ]
    },
    {
      "cell_type": "markdown",
      "metadata": {
        "id": "y8Nwag-xpqef",
        "colab_type": "text"
      },
      "source": [
        "# Exercise 13.3\n",
        "Create a classifier to predict the gender of each student"
      ]
    },
    {
      "cell_type": "code",
      "metadata": {
        "id": "OV_wri_Wpqef",
        "colab_type": "code",
        "colab": {
          "base_uri": "https://localhost:8080/",
          "height": 170
        },
        "outputId": "4034b98f-17f5-4eac-b226-80935504e9a4"
      },
      "source": [
        "data['y']=np.where((data[\"Genero\"])==\"Femenino\", 1, 0)\n",
        "data[\"y\"].describe()"
      ],
      "execution_count": 69,
      "outputs": [
        {
          "output_type": "execute_result",
          "data": {
            "text/plain": [
              "count    46.000000\n",
              "mean      0.217391\n",
              "std       0.417029\n",
              "min       0.000000\n",
              "25%       0.000000\n",
              "50%       0.000000\n",
              "75%       0.000000\n",
              "max       1.000000\n",
              "Name: y, dtype: float64"
            ]
          },
          "metadata": {
            "tags": []
          },
          "execution_count": 69
        }
      ]
    },
    {
      "cell_type": "markdown",
      "metadata": {
        "id": "gQ6dqvu25kpp",
        "colab_type": "text"
      },
      "source": [
        "Se identifican las tareas con menores faltantes, con el fin de utilizar las que más tengan información."
      ]
    },
    {
      "cell_type": "code",
      "metadata": {
        "scrolled": true,
        "id": "od14FGKIpqeh",
        "colab_type": "code",
        "colab": {
          "base_uri": "https://localhost:8080/",
          "height": 459
        },
        "outputId": "2fd332cc-35d3-4b22-ac57-2f6bd08e2169"
      },
      "source": [
        "data.isnull().sum()"
      ],
      "execution_count": 70,
      "outputs": [
        {
          "output_type": "execute_result",
          "data": {
            "text/plain": [
              "Genero                                         0\n",
              "E1 - Examples of Time Series Analysis          0\n",
              "E4 - Panel Data                                0\n",
              "E6 - Decison Trees                             0\n",
              "E8 - Ensemble Trees Overview                   0\n",
              "E10 - REST-API                                 0\n",
              "E11 - Natural Language Processing Overview     0\n",
              "Longitud_E1                                    2\n",
              "Longitud_E4                                    2\n",
              "Longitud_E6                                    4\n",
              "Longitud_E8                                    8\n",
              "Longitud_E10                                   1\n",
              "Longitud_E11                                  30\n",
              "Media                                          0\n",
              "Tareas Faltantes                               0\n",
              "English_E1                                     2\n",
              "English_E4                                     2\n",
              "English_E6                                     4\n",
              "English_E8                                     8\n",
              "English_E10                                    1\n",
              "English_E11                                   30\n",
              "p_english                                      0\n",
              "usa_english                                    0\n",
              "AllHomeworks                                   0\n",
              "y                                              0\n",
              "dtype: int64"
            ]
          },
          "metadata": {
            "tags": []
          },
          "execution_count": 70
        }
      ]
    },
    {
      "cell_type": "markdown",
      "metadata": {
        "id": "1nuz-h39526I",
        "colab_type": "text"
      },
      "source": [
        "Se escogen las tareas E1, E4 y E10 para hacer la predicción."
      ]
    },
    {
      "cell_type": "markdown",
      "metadata": {
        "id": "EtSRMzUVpqej",
        "colab_type": "text"
      },
      "source": [
        "### Predicción del género usando CountVectorizer y RandomForest()"
      ]
    },
    {
      "cell_type": "code",
      "metadata": {
        "id": "Pl1CP6cwpqej",
        "colab_type": "code",
        "colab": {
          "base_uri": "https://localhost:8080/",
          "height": 34
        },
        "outputId": "37da3769-9680-4614-ece5-0c4cc1949cf5"
      },
      "source": [
        "data2=data.loc[:,[\"Genero\",'E1 - Examples of Time Series Analysis']].dropna()\n",
        "data2.shape"
      ],
      "execution_count": 71,
      "outputs": [
        {
          "output_type": "execute_result",
          "data": {
            "text/plain": [
              "(46, 2)"
            ]
          },
          "metadata": {
            "tags": []
          },
          "execution_count": 71
        }
      ]
    },
    {
      "cell_type": "code",
      "metadata": {
        "id": "WYoRmuA9pqem",
        "colab_type": "code",
        "colab": {}
      },
      "source": [
        "X = data2['E1 - Examples of Time Series Analysis']\n",
        "y = data2['Genero'].map({'Masculino':0,'Femenino':1})"
      ],
      "execution_count": 72,
      "outputs": []
    },
    {
      "cell_type": "code",
      "metadata": {
        "id": "qEWtTdh8pqen",
        "colab_type": "code",
        "colab": {
          "base_uri": "https://localhost:8080/",
          "height": 34
        },
        "outputId": "0fd18e9a-5551-4308-f237-92a1dd196ee3"
      },
      "source": [
        "X.shape"
      ],
      "execution_count": 73,
      "outputs": [
        {
          "output_type": "execute_result",
          "data": {
            "text/plain": [
              "(46,)"
            ]
          },
          "metadata": {
            "tags": []
          },
          "execution_count": 73
        }
      ]
    },
    {
      "cell_type": "code",
      "metadata": {
        "id": "A7CnyT0tpqeo",
        "colab_type": "code",
        "colab": {
          "base_uri": "https://localhost:8080/",
          "height": 119
        },
        "outputId": "4b7fe4cf-d2a9-4518-f116-db36f4dc216e"
      },
      "source": [
        "X.head()"
      ],
      "execution_count": 74,
      "outputs": [
        {
          "output_type": "execute_result",
          "data": {
            "text/plain": [
              "0    One of the most valuable application of time s...\n",
              "1    ANÁLISIS DE SERIES DE TIEMPO – USOS \\nEl análi...\n",
              "2    Una serie de tiempo es una colección de datos ...\n",
              "3    \\nGiven that Time Series Analysis allows to un...\n",
              "4    Time Series Analysis is concerned with the stu...\n",
              "Name: E1 - Examples of Time Series Analysis, dtype: object"
            ]
          },
          "metadata": {
            "tags": []
          },
          "execution_count": 74
        }
      ]
    },
    {
      "cell_type": "code",
      "metadata": {
        "scrolled": true,
        "id": "l4NkZhG1pqeq",
        "colab_type": "code",
        "colab": {
          "base_uri": "https://localhost:8080/",
          "height": 119
        },
        "outputId": "8c1c9aaf-8ae2-417e-b0f8-c8c381404433"
      },
      "source": [
        "y.head()"
      ],
      "execution_count": 75,
      "outputs": [
        {
          "output_type": "execute_result",
          "data": {
            "text/plain": [
              "0    0\n",
              "1    1\n",
              "2    0\n",
              "3    0\n",
              "4    0\n",
              "Name: Genero, dtype: int64"
            ]
          },
          "metadata": {
            "tags": []
          },
          "execution_count": 75
        }
      ]
    },
    {
      "cell_type": "code",
      "metadata": {
        "id": "H1IYEL5ipqer",
        "colab_type": "code",
        "colab": {}
      },
      "source": [
        "import pandas as pd\n",
        "import numpy as np\n",
        "import scipy as sp\n",
        "from sklearn.model_selection import train_test_split, cross_val_score\n",
        "from sklearn.feature_extraction.text import CountVectorizer, TfidfVectorizer\n",
        "from sklearn.naive_bayes import MultinomialNB\n",
        "from sklearn.linear_model import LogisticRegression\n",
        "from sklearn import metrics\n",
        "from sklearn.ensemble import RandomForestClassifier\n",
        "from sklearn.model_selection import cross_val_score\n",
        "# from textblob import TextBlob, Word\n",
        "from nltk.stem.snowball import SnowballStemmer\n",
        "%matplotlib inline"
      ],
      "execution_count": 76,
      "outputs": []
    },
    {
      "cell_type": "code",
      "metadata": {
        "id": "4LoWs2-Spqes",
        "colab_type": "code",
        "colab": {}
      },
      "source": [
        "# define a function that accepts a vectorizer and calculates the accuracy\n",
        "def tokenize_test(vect):\n",
        "    X_dtm = vect.fit_transform(X)\n",
        "    print('Features: ', X_dtm.shape[1])\n",
        "    clf = RandomForestClassifier()\n",
        "    print(pd.Series(cross_val_score(clf, X_dtm, y, cv=5)).describe())"
      ],
      "execution_count": 77,
      "outputs": []
    },
    {
      "cell_type": "code",
      "metadata": {
        "id": "IG1ecdr3pqeu",
        "colab_type": "code",
        "colab": {
          "base_uri": "https://localhost:8080/",
          "height": 187
        },
        "outputId": "e2f08e7c-eb37-40aa-8e76-176a23cbbb40"
      },
      "source": [
        "import time\n",
        "tic = time.clock()\n",
        "vect = CountVectorizer(lowercase=True,ngram_range=(1, 2), min_df=2)\n",
        "tokenize_test(vect)\n",
        "toc = time.clock()"
      ],
      "execution_count": 78,
      "outputs": [
        {
          "output_type": "stream",
          "text": [
            "Features:  2190\n",
            "count    5.000000\n",
            "mean     0.782222\n",
            "std      0.009938\n",
            "min      0.777778\n",
            "25%      0.777778\n",
            "50%      0.777778\n",
            "75%      0.777778\n",
            "max      0.800000\n",
            "dtype: float64\n"
          ],
          "name": "stdout"
        }
      ]
    },
    {
      "cell_type": "code",
      "metadata": {
        "id": "OX5zl6AMpqev",
        "colab_type": "code",
        "colab": {
          "base_uri": "https://localhost:8080/",
          "height": 34
        },
        "outputId": "822fc6fc-10d1-442e-f57f-3bc55b3c3069"
      },
      "source": [
        "(toc-tic)/60"
      ],
      "execution_count": 79,
      "outputs": [
        {
          "output_type": "execute_result",
          "data": {
            "text/plain": [
              "0.013212250000000007"
            ]
          },
          "metadata": {
            "tags": []
          },
          "execution_count": 79
        }
      ]
    },
    {
      "cell_type": "markdown",
      "metadata": {
        "id": "XJ614mfp4nEM",
        "colab_type": "text"
      },
      "source": [
        "Usando los datos de la tarea E1, por medio de un Random Forest se obtiene un accuracy de 0.77. El proceso se tarda 0.013 minutos en ejecutar."
      ]
    },
    {
      "cell_type": "markdown",
      "metadata": {
        "id": "VhBnWuVWpqey",
        "colab_type": "text"
      },
      "source": [
        "#### Usando el ejercicio: E4 - Panel Data"
      ]
    },
    {
      "cell_type": "code",
      "metadata": {
        "id": "Z8evfBd7pqey",
        "colab_type": "code",
        "colab": {}
      },
      "source": [
        "data2=data.loc[:,[\"Genero\",'E4 - Panel Data']].dropna()\n",
        "X = data2['E4 - Panel Data']\n",
        "y = data2['Genero'].map({'Masculino':0,'Femenino':1})"
      ],
      "execution_count": 80,
      "outputs": []
    },
    {
      "cell_type": "code",
      "metadata": {
        "scrolled": true,
        "id": "sHZI_BVHpqez",
        "colab_type": "code",
        "colab": {
          "base_uri": "https://localhost:8080/",
          "height": 185
        },
        "outputId": "2a76a5c2-dc55-4f7a-c4c5-e38135109bc4"
      },
      "source": [
        "import time\n",
        "tic = time.clock()\n",
        "vect = CountVectorizer(lowercase=True,ngram_range=(1, 2), min_df=2)\n",
        "tokenize_test(vect)\n",
        "toc = time.clock()"
      ],
      "execution_count": 81,
      "outputs": [
        {
          "output_type": "stream",
          "text": [
            "Features:  1166\n",
            "count    5.000000\n",
            "mean     0.782222\n",
            "std      0.009938\n",
            "min      0.777778\n",
            "25%      0.777778\n",
            "50%      0.777778\n",
            "75%      0.777778\n",
            "max      0.800000\n",
            "dtype: float64\n"
          ],
          "name": "stdout"
        }
      ]
    },
    {
      "cell_type": "code",
      "metadata": {
        "id": "hPQXlhU8pqe0",
        "colab_type": "code",
        "colab": {
          "base_uri": "https://localhost:8080/",
          "height": 34
        },
        "outputId": "7c9e071e-a445-4960-da96-9a2d627cd6aa"
      },
      "source": [
        "(toc-tic)/60"
      ],
      "execution_count": 82,
      "outputs": [
        {
          "output_type": "execute_result",
          "data": {
            "text/plain": [
              "0.012481466666666623"
            ]
          },
          "metadata": {
            "tags": []
          },
          "execution_count": 82
        }
      ]
    },
    {
      "cell_type": "markdown",
      "metadata": {
        "id": "wkSx2hCU5Hco",
        "colab_type": "text"
      },
      "source": [
        "Usando los datos de la tarea E4, por medio de un Random Forest se obtiene un accuracy de 0.77. El proceso se tarda 0.0124 minutos en ejecutar. Este se demora menos tiempo, pero arroja un accuracy similar al de la tarea E1 usando la misma técnica."
      ]
    },
    {
      "cell_type": "markdown",
      "metadata": {
        "id": "FVj3ceN1pqe2",
        "colab_type": "text"
      },
      "source": [
        "#### Usando el ejercicio: E10 - REST-API"
      ]
    },
    {
      "cell_type": "code",
      "metadata": {
        "id": "NjF3QPBXpqe2",
        "colab_type": "code",
        "colab": {
          "base_uri": "https://localhost:8080/",
          "height": 34
        },
        "outputId": "c2941590-6f16-4127-d2f3-a4e91f8147ea"
      },
      "source": [
        "data2=data.loc[:,[\"Genero\",'E10 - REST-API']].dropna()\n",
        "data2.shape"
      ],
      "execution_count": 83,
      "outputs": [
        {
          "output_type": "execute_result",
          "data": {
            "text/plain": [
              "(46, 2)"
            ]
          },
          "metadata": {
            "tags": []
          },
          "execution_count": 83
        }
      ]
    },
    {
      "cell_type": "code",
      "metadata": {
        "id": "wZ0jeN9Fpqe3",
        "colab_type": "code",
        "colab": {}
      },
      "source": [
        "X = data2['E10 - REST-API']\n",
        "y = data2['Genero'].map({'Masculino':0,'Femenino':1})"
      ],
      "execution_count": 84,
      "outputs": []
    },
    {
      "cell_type": "code",
      "metadata": {
        "id": "ag7eU8Kwpqe4",
        "colab_type": "code",
        "colab": {
          "base_uri": "https://localhost:8080/",
          "height": 185
        },
        "outputId": "a56be957-f969-41b7-a74d-999f94130f76"
      },
      "source": [
        "import time\n",
        "tic = time.clock()\n",
        "vect = CountVectorizer(lowercase=True,ngram_range=(1, 2), min_df=2)\n",
        "tokenize_test(vect)\n",
        "toc = time.clock()"
      ],
      "execution_count": 85,
      "outputs": [
        {
          "output_type": "stream",
          "text": [
            "Features:  2828\n",
            "count    5.000000\n",
            "mean     0.760000\n",
            "std      0.053055\n",
            "min      0.666667\n",
            "25%      0.777778\n",
            "50%      0.777778\n",
            "75%      0.777778\n",
            "max      0.800000\n",
            "dtype: float64\n"
          ],
          "name": "stdout"
        }
      ]
    },
    {
      "cell_type": "code",
      "metadata": {
        "id": "_lKegKAypqe6",
        "colab_type": "code",
        "colab": {
          "base_uri": "https://localhost:8080/",
          "height": 34
        },
        "outputId": "19185c96-06fa-4c16-fef1-1bd4d1dcb3ae"
      },
      "source": [
        "(toc-tic)/60"
      ],
      "execution_count": 86,
      "outputs": [
        {
          "output_type": "execute_result",
          "data": {
            "text/plain": [
              "0.01275454999999995"
            ]
          },
          "metadata": {
            "tags": []
          },
          "execution_count": 86
        }
      ]
    },
    {
      "cell_type": "markdown",
      "metadata": {
        "id": "jMlQkApP594e",
        "colab_type": "text"
      },
      "source": [
        "La predicción usando la tarea E10 disminuye el accuracy respecto a las otras dos tareas (E1 y E4) y tarda 0.013 minutos en ejecutarse"
      ]
    },
    {
      "cell_type": "markdown",
      "metadata": {
        "id": "XpryZeH36Npa",
        "colab_type": "text"
      },
      "source": [
        "**Conclusión:** Por tareas individuales las que mejor predicen el género son las tareas E1 y E4 con un accuracy de 0.77. Aunque la predicción con tarea E4 tarda menos en ejecutarse."
      ]
    },
    {
      "cell_type": "markdown",
      "metadata": {
        "id": "tvZjA-V5pqe7",
        "colab_type": "text"
      },
      "source": [
        "### Predicción del género usando CountVectorizer y RandomForest() con 4 tareas"
      ]
    },
    {
      "cell_type": "markdown",
      "metadata": {
        "id": "yVHTY9qG607s",
        "colab_type": "text"
      },
      "source": [
        "Se seleccionana las taresas E1, E4, E6 y E10, dado que son las que tienen mayor porcentaje de respuesta por parte de los estudiantes."
      ]
    },
    {
      "cell_type": "code",
      "metadata": {
        "scrolled": true,
        "id": "8KG8sgk2pqe7",
        "colab_type": "code",
        "colab": {
          "base_uri": "https://localhost:8080/",
          "height": 470
        },
        "outputId": "d72dbd68-0230-4e59-e906-13ae8e58a99a"
      },
      "source": [
        "data['Ejercicios'] = data['E1 - Examples of Time Series Analysis'] + data['E4 - Panel Data']+data['E6 - Decison Trees']+data['E10 - REST-API']\n",
        "print(data.dtypes)"
      ],
      "execution_count": 87,
      "outputs": [
        {
          "output_type": "stream",
          "text": [
            "Genero                                         object\n",
            "E1 - Examples of Time Series Analysis          object\n",
            "E4 - Panel Data                                object\n",
            "E6 - Decison Trees                             object\n",
            "E8 - Ensemble Trees Overview                   object\n",
            "E10 - REST-API                                 object\n",
            "E11 - Natural Language Processing Overview     object\n",
            "Longitud_E1                                   float64\n",
            "Longitud_E4                                   float64\n",
            "Longitud_E6                                   float64\n",
            "Longitud_E8                                   float64\n",
            "Longitud_E10                                  float64\n",
            "Longitud_E11                                  float64\n",
            "Media                                         float64\n",
            "Tareas Faltantes                              float64\n",
            "English_E1                                     object\n",
            "English_E4                                     object\n",
            "English_E6                                     object\n",
            "English_E8                                     object\n",
            "English_E10                                    object\n",
            "English_E11                                    object\n",
            "p_english                                     float64\n",
            "usa_english                                     int64\n",
            "AllHomeworks                                   object\n",
            "y                                               int64\n",
            "Ejercicios                                     object\n",
            "dtype: object\n"
          ],
          "name": "stdout"
        }
      ]
    },
    {
      "cell_type": "code",
      "metadata": {
        "id": "cXMtxq3Tpqe9",
        "colab_type": "code",
        "colab": {
          "base_uri": "https://localhost:8080/",
          "height": 470
        },
        "outputId": "53770773-c609-408a-b693-0c144a986c69"
      },
      "source": [
        "data.isnull().sum()"
      ],
      "execution_count": 88,
      "outputs": [
        {
          "output_type": "execute_result",
          "data": {
            "text/plain": [
              "Genero                                         0\n",
              "E1 - Examples of Time Series Analysis          0\n",
              "E4 - Panel Data                                0\n",
              "E6 - Decison Trees                             0\n",
              "E8 - Ensemble Trees Overview                   0\n",
              "E10 - REST-API                                 0\n",
              "E11 - Natural Language Processing Overview     0\n",
              "Longitud_E1                                    2\n",
              "Longitud_E4                                    2\n",
              "Longitud_E6                                    4\n",
              "Longitud_E8                                    8\n",
              "Longitud_E10                                   1\n",
              "Longitud_E11                                  30\n",
              "Media                                          0\n",
              "Tareas Faltantes                               0\n",
              "English_E1                                     2\n",
              "English_E4                                     2\n",
              "English_E6                                     4\n",
              "English_E8                                     8\n",
              "English_E10                                    1\n",
              "English_E11                                   30\n",
              "p_english                                      0\n",
              "usa_english                                    0\n",
              "AllHomeworks                                   0\n",
              "y                                              0\n",
              "Ejercicios                                     0\n",
              "dtype: int64"
            ]
          },
          "metadata": {
            "tags": []
          },
          "execution_count": 88
        }
      ]
    },
    {
      "cell_type": "code",
      "metadata": {
        "scrolled": true,
        "id": "UGXKLGr9pqe-",
        "colab_type": "code",
        "colab": {
          "base_uri": "https://localhost:8080/",
          "height": 34
        },
        "outputId": "b5af0b39-37b5-48bc-91d1-71783df9f4c3"
      },
      "source": [
        "data2=data.loc[:,[\"Genero\",'Ejercicios']].dropna()\n",
        "data2.shape"
      ],
      "execution_count": 89,
      "outputs": [
        {
          "output_type": "execute_result",
          "data": {
            "text/plain": [
              "(46, 2)"
            ]
          },
          "metadata": {
            "tags": []
          },
          "execution_count": 89
        }
      ]
    },
    {
      "cell_type": "code",
      "metadata": {
        "id": "6THzXV1MpqfA",
        "colab_type": "code",
        "colab": {}
      },
      "source": [
        "X = data2['Ejercicios']\n",
        "y = data2['Genero'].map({'Masculino':0,'Femenino':1})"
      ],
      "execution_count": 90,
      "outputs": []
    },
    {
      "cell_type": "code",
      "metadata": {
        "id": "NC2Ow3PYpqfD",
        "colab_type": "code",
        "colab": {
          "base_uri": "https://localhost:8080/",
          "height": 185
        },
        "outputId": "b53aedc3-38b5-483c-9ae1-9bb25d0fd5fc"
      },
      "source": [
        "import time\n",
        "tic = time.clock()\n",
        "vect = CountVectorizer(lowercase=True,ngram_range=(1, 2), min_df=2)\n",
        "tokenize_test(vect)\n",
        "toc = time.clock()"
      ],
      "execution_count": 91,
      "outputs": [
        {
          "output_type": "stream",
          "text": [
            "Features:  7790\n",
            "count    5.000000\n",
            "mean     0.782222\n",
            "std      0.009938\n",
            "min      0.777778\n",
            "25%      0.777778\n",
            "50%      0.777778\n",
            "75%      0.777778\n",
            "max      0.800000\n",
            "dtype: float64\n"
          ],
          "name": "stdout"
        }
      ]
    },
    {
      "cell_type": "markdown",
      "metadata": {
        "id": "DJM3m5ru7CCO",
        "colab_type": "text"
      },
      "source": [
        "**Conclusión:** Usando las cuatro tareas, se genera un accuracy de 0.72 de predicción del género."
      ]
    },
    {
      "cell_type": "markdown",
      "metadata": {
        "id": "cMvtXpVupqfE",
        "colab_type": "text"
      },
      "source": [
        "### Predice usando Random Forest a partir de la creación de nuevas variables"
      ]
    },
    {
      "cell_type": "markdown",
      "metadata": {
        "id": "jYm6ilMO7T7N",
        "colab_type": "text"
      },
      "source": [
        "Se incluyen las variables que describen las tareas, como idioma, longitud, promedio total de palabras en las tareas, número de tareas faltantes."
      ]
    },
    {
      "cell_type": "code",
      "metadata": {
        "scrolled": true,
        "id": "EbafSS4lpqfF",
        "colab_type": "code",
        "colab": {
          "base_uri": "https://localhost:8080/",
          "height": 470
        },
        "outputId": "8f593eb7-54ef-4f35-9615-9307f398d652"
      },
      "source": [
        "print(data.dtypes)"
      ],
      "execution_count": 92,
      "outputs": [
        {
          "output_type": "stream",
          "text": [
            "Genero                                         object\n",
            "E1 - Examples of Time Series Analysis          object\n",
            "E4 - Panel Data                                object\n",
            "E6 - Decison Trees                             object\n",
            "E8 - Ensemble Trees Overview                   object\n",
            "E10 - REST-API                                 object\n",
            "E11 - Natural Language Processing Overview     object\n",
            "Longitud_E1                                   float64\n",
            "Longitud_E4                                   float64\n",
            "Longitud_E6                                   float64\n",
            "Longitud_E8                                   float64\n",
            "Longitud_E10                                  float64\n",
            "Longitud_E11                                  float64\n",
            "Media                                         float64\n",
            "Tareas Faltantes                              float64\n",
            "English_E1                                     object\n",
            "English_E4                                     object\n",
            "English_E6                                     object\n",
            "English_E8                                     object\n",
            "English_E10                                    object\n",
            "English_E11                                    object\n",
            "p_english                                     float64\n",
            "usa_english                                     int64\n",
            "AllHomeworks                                   object\n",
            "y                                               int64\n",
            "Ejercicios                                     object\n",
            "dtype: object\n"
          ],
          "name": "stdout"
        }
      ]
    },
    {
      "cell_type": "code",
      "metadata": {
        "scrolled": true,
        "id": "08x6xQcopqfG",
        "colab_type": "code",
        "colab": {
          "base_uri": "https://localhost:8080/",
          "height": 719
        },
        "outputId": "7659aa6e-6745-4c23-90f7-3baf1eb34f7c"
      },
      "source": [
        "#Identifica si la respuesta a cada tarea está en idioma inglés \n",
        "data['English_E1'] = np.where(data['E1 - Examples of Time Series Analysis'].str.contains(\"the\", case=False, na=False), 1, 0)\n",
        "data.loc[data[\"Longitud_E1\"] != data[\"Longitud_E1\"], \"English_E1\"] = np.nan \n",
        "data['English_E4'] = np.where(data['E4 - Panel Data'].str.contains(\"the\", case=False, na=False), 1, 0)\n",
        "data.loc[data[\"Longitud_E4\"] != data[\"Longitud_E4\"], \"English_E4\"] = np.nan \n",
        "data['English_E6'] = np.where(data['E6 - Decison Trees'].str.contains(\"the\", case=False, na=False), 1, 0)\n",
        "data.loc[data[\"Longitud_E6\"] != data[\"Longitud_E6\"], \"English_E6\"] = np.nan\n",
        "data['English_E8'] = np.where(data['E8 - Ensemble Trees Overview'].str.contains(\"the\", case=False, na=False), 1, 0)\n",
        "data.loc[data[\"Longitud_E8\"] != data[\"Longitud_E8\"], \"English_E8\"] = np.nan\n",
        "data['English_E10'] = np.where(data['E10 - REST-API'].str.contains(\"the\", case=False, na=False), 1, 0)\n",
        "data.loc[data[\"Longitud_E10\"] != data[\"Longitud_E10\"], \"English_E10\"] = np.nan\n",
        "data['English_E11'] = np.where(data['E11 - Natural Language Processing Overview'].str.contains(\"the\", case=False, na=False), 1, 0)\n",
        "data.loc[data[\"Longitud_E11\"] != data[\"Longitud_E11\"], \"English_E11\"] = np.nan\n",
        "data.head()"
      ],
      "execution_count": 93,
      "outputs": [
        {
          "output_type": "execute_result",
          "data": {
            "text/html": [
              "<div>\n",
              "<style scoped>\n",
              "    .dataframe tbody tr th:only-of-type {\n",
              "        vertical-align: middle;\n",
              "    }\n",
              "\n",
              "    .dataframe tbody tr th {\n",
              "        vertical-align: top;\n",
              "    }\n",
              "\n",
              "    .dataframe thead th {\n",
              "        text-align: right;\n",
              "    }\n",
              "</style>\n",
              "<table border=\"1\" class=\"dataframe\">\n",
              "  <thead>\n",
              "    <tr style=\"text-align: right;\">\n",
              "      <th></th>\n",
              "      <th>Genero</th>\n",
              "      <th>E1 - Examples of Time Series Analysis</th>\n",
              "      <th>E4 - Panel Data</th>\n",
              "      <th>E6 - Decison Trees</th>\n",
              "      <th>E8 - Ensemble Trees Overview</th>\n",
              "      <th>E10 - REST-API</th>\n",
              "      <th>E11 - Natural Language Processing Overview</th>\n",
              "      <th>Longitud_E1</th>\n",
              "      <th>Longitud_E4</th>\n",
              "      <th>Longitud_E6</th>\n",
              "      <th>Longitud_E8</th>\n",
              "      <th>Longitud_E10</th>\n",
              "      <th>Longitud_E11</th>\n",
              "      <th>Media</th>\n",
              "      <th>Tareas Faltantes</th>\n",
              "      <th>English_E1</th>\n",
              "      <th>English_E4</th>\n",
              "      <th>English_E6</th>\n",
              "      <th>English_E8</th>\n",
              "      <th>English_E10</th>\n",
              "      <th>English_E11</th>\n",
              "      <th>p_english</th>\n",
              "      <th>usa_english</th>\n",
              "      <th>AllHomeworks</th>\n",
              "      <th>y</th>\n",
              "      <th>Ejercicios</th>\n",
              "    </tr>\n",
              "  </thead>\n",
              "  <tbody>\n",
              "    <tr>\n",
              "      <th>0</th>\n",
              "      <td>Masculino</td>\n",
              "      <td>One of the most valuable application of time s...</td>\n",
              "      <td>The main difference between panel data and tim...</td>\n",
              "      <td>Decision tree are a model used by the analytic...</td>\n",
              "      <td>They are used to make a better prediction than...</td>\n",
              "      <td>Es una forma de arquitectura de datos. Los mic...</td>\n",
              "      <td></td>\n",
              "      <td>301.0</td>\n",
              "      <td>51.0</td>\n",
              "      <td>319.0</td>\n",
              "      <td>309.0</td>\n",
              "      <td>302.0</td>\n",
              "      <td>NaN</td>\n",
              "      <td>256.400000</td>\n",
              "      <td>1.0</td>\n",
              "      <td>1.0</td>\n",
              "      <td>1.0</td>\n",
              "      <td>1.0</td>\n",
              "      <td>1.0</td>\n",
              "      <td>0.0</td>\n",
              "      <td>NaN</td>\n",
              "      <td>0.666667</td>\n",
              "      <td>1</td>\n",
              "      <td>One of the most valuable application of time s...</td>\n",
              "      <td>0</td>\n",
              "      <td>One of the most valuable application of time s...</td>\n",
              "    </tr>\n",
              "    <tr>\n",
              "      <th>1</th>\n",
              "      <td>Femenino</td>\n",
              "      <td>ANÁLISIS DE SERIES DE TIEMPO – USOS \\nEl análi...</td>\n",
              "      <td>Series de Tiempo vs Datos en Panel\\nUna serie ...</td>\n",
              "      <td>TIPOS DE ÁRBOLES DE DECISIÓN Y APLICACIONES\\nL...</td>\n",
              "      <td>ENSAMBLAJE EN MACHINE LEARNING\\nLos métodos de...</td>\n",
              "      <td>Microservicios\\nEl objetivo principal de la im...</td>\n",
              "      <td></td>\n",
              "      <td>478.0</td>\n",
              "      <td>190.0</td>\n",
              "      <td>341.0</td>\n",
              "      <td>382.0</td>\n",
              "      <td>305.0</td>\n",
              "      <td>NaN</td>\n",
              "      <td>339.200000</td>\n",
              "      <td>1.0</td>\n",
              "      <td>0.0</td>\n",
              "      <td>0.0</td>\n",
              "      <td>0.0</td>\n",
              "      <td>1.0</td>\n",
              "      <td>0.0</td>\n",
              "      <td>NaN</td>\n",
              "      <td>0.166667</td>\n",
              "      <td>1</td>\n",
              "      <td>ANÁLISIS DE SERIES DE TIEMPO – USOS \\nEl análi...</td>\n",
              "      <td>1</td>\n",
              "      <td>ANÁLISIS DE SERIES DE TIEMPO – USOS \\nEl análi...</td>\n",
              "    </tr>\n",
              "    <tr>\n",
              "      <th>2</th>\n",
              "      <td>Masculino</td>\n",
              "      <td>Una serie de tiempo es una colección de datos ...</td>\n",
              "      <td></td>\n",
              "      <td>los arboles de decisión hacen parte de los alg...</td>\n",
              "      <td>Ensemble methods is a machine learning techniq...</td>\n",
              "      <td>El enfoque tradicional para el diseño de aplic...</td>\n",
              "      <td>LexisNexis launched Lexis Analytics, a legal r...</td>\n",
              "      <td>244.0</td>\n",
              "      <td>NaN</td>\n",
              "      <td>319.0</td>\n",
              "      <td>351.0</td>\n",
              "      <td>334.0</td>\n",
              "      <td>160.0</td>\n",
              "      <td>281.600000</td>\n",
              "      <td>1.0</td>\n",
              "      <td>0.0</td>\n",
              "      <td>NaN</td>\n",
              "      <td>1.0</td>\n",
              "      <td>1.0</td>\n",
              "      <td>0.0</td>\n",
              "      <td>1.0</td>\n",
              "      <td>0.500000</td>\n",
              "      <td>1</td>\n",
              "      <td>Una serie de tiempo es una colección de datos ...</td>\n",
              "      <td>0</td>\n",
              "      <td>Una serie de tiempo es una colección de datos ...</td>\n",
              "    </tr>\n",
              "    <tr>\n",
              "      <th>3</th>\n",
              "      <td>Masculino</td>\n",
              "      <td>\\nGiven that Time Series Analysis allows to un...</td>\n",
              "      <td>The difference between panel data and time ser...</td>\n",
              "      <td>Decision Trees Algorithms are machine function...</td>\n",
              "      <td>Ensemble methods in Tree Decision algorithms b...</td>\n",
              "      <td>Micro-services are defined as a type of softwa...</td>\n",
              "      <td></td>\n",
              "      <td>333.0</td>\n",
              "      <td>119.0</td>\n",
              "      <td>273.0</td>\n",
              "      <td>372.0</td>\n",
              "      <td>331.0</td>\n",
              "      <td>NaN</td>\n",
              "      <td>285.600000</td>\n",
              "      <td>1.0</td>\n",
              "      <td>1.0</td>\n",
              "      <td>1.0</td>\n",
              "      <td>1.0</td>\n",
              "      <td>1.0</td>\n",
              "      <td>1.0</td>\n",
              "      <td>NaN</td>\n",
              "      <td>0.833333</td>\n",
              "      <td>1</td>\n",
              "      <td>\\nGiven that Time Series Analysis allows to un...</td>\n",
              "      <td>0</td>\n",
              "      <td>\\nGiven that Time Series Analysis allows to un...</td>\n",
              "    </tr>\n",
              "    <tr>\n",
              "      <th>4</th>\n",
              "      <td>Masculino</td>\n",
              "      <td>Time Series Analysis is concerned with the stu...</td>\n",
              "      <td>A time series is represented by a variable or ...</td>\n",
              "      <td>Decision trees are a popular supervised machin...</td>\n",
              "      <td>The ensemble method is a combination of severa...</td>\n",
              "      <td>A microservice is a type of information techno...</td>\n",
              "      <td>A commercial product which uses Natural Langua...</td>\n",
              "      <td>361.0</td>\n",
              "      <td>228.0</td>\n",
              "      <td>517.0</td>\n",
              "      <td>417.0</td>\n",
              "      <td>341.0</td>\n",
              "      <td>210.0</td>\n",
              "      <td>345.666667</td>\n",
              "      <td>0.0</td>\n",
              "      <td>1.0</td>\n",
              "      <td>1.0</td>\n",
              "      <td>1.0</td>\n",
              "      <td>1.0</td>\n",
              "      <td>1.0</td>\n",
              "      <td>1.0</td>\n",
              "      <td>1.000000</td>\n",
              "      <td>1</td>\n",
              "      <td>Time Series Analysis is concerned with the stu...</td>\n",
              "      <td>0</td>\n",
              "      <td>Time Series Analysis is concerned with the stu...</td>\n",
              "    </tr>\n",
              "  </tbody>\n",
              "</table>\n",
              "</div>"
            ],
            "text/plain": [
              "      Genero  ...                                         Ejercicios\n",
              "0  Masculino  ...  One of the most valuable application of time s...\n",
              "1   Femenino  ...  ANÁLISIS DE SERIES DE TIEMPO – USOS \\nEl análi...\n",
              "2  Masculino  ...  Una serie de tiempo es una colección de datos ...\n",
              "3  Masculino  ...  \\nGiven that Time Series Analysis allows to un...\n",
              "4  Masculino  ...  Time Series Analysis is concerned with the stu...\n",
              "\n",
              "[5 rows x 26 columns]"
            ]
          },
          "metadata": {
            "tags": []
          },
          "execution_count": 93
        }
      ]
    },
    {
      "cell_type": "markdown",
      "metadata": {
        "id": "RVsMaxeN7mg4",
        "colab_type": "text"
      },
      "source": [
        "Se seleccionan las variables a usar en el modelo:"
      ]
    },
    {
      "cell_type": "code",
      "metadata": {
        "id": "p_MkG7SYpqfH",
        "colab_type": "code",
        "colab": {
          "base_uri": "https://localhost:8080/",
          "height": 34
        },
        "outputId": "30a72252-0728-4084-891c-4e153bd2caf5"
      },
      "source": [
        "data3=data.loc[:,[\"y\",'Longitud_E1','Longitud_E4','Longitud_E6','Longitud_E8','Longitud_E10','Longitud_E11'\n",
        "                 ,'Media','Tareas Faltantes','English_E1','English_E4','English_E6','English_E8','English_E10','English_E11'\n",
        "                 ,'p_english','usa_english']]\n",
        "data3.shape"
      ],
      "execution_count": 94,
      "outputs": [
        {
          "output_type": "execute_result",
          "data": {
            "text/plain": [
              "(46, 17)"
            ]
          },
          "metadata": {
            "tags": []
          },
          "execution_count": 94
        }
      ]
    },
    {
      "cell_type": "code",
      "metadata": {
        "scrolled": true,
        "id": "24GMaTZapqfJ",
        "colab_type": "code",
        "colab": {
          "base_uri": "https://localhost:8080/",
          "height": 319
        },
        "outputId": "e14f82a3-39d4-42d9-a166-bc47c2157b65"
      },
      "source": [
        "print(data3.dtypes)"
      ],
      "execution_count": 95,
      "outputs": [
        {
          "output_type": "stream",
          "text": [
            "y                     int64\n",
            "Longitud_E1         float64\n",
            "Longitud_E4         float64\n",
            "Longitud_E6         float64\n",
            "Longitud_E8         float64\n",
            "Longitud_E10        float64\n",
            "Longitud_E11        float64\n",
            "Media               float64\n",
            "Tareas Faltantes    float64\n",
            "English_E1          float64\n",
            "English_E4          float64\n",
            "English_E6          float64\n",
            "English_E8          float64\n",
            "English_E10         float64\n",
            "English_E11         float64\n",
            "p_english           float64\n",
            "usa_english           int64\n",
            "dtype: object\n"
          ],
          "name": "stdout"
        }
      ]
    },
    {
      "cell_type": "code",
      "metadata": {
        "id": "_vxkK_j9pqfK",
        "colab_type": "code",
        "colab": {}
      },
      "source": [
        "data3['Longitud_E1'] = data3['Longitud_E1'].fillna(0)\n",
        "data3['Longitud_E4'] = data3['Longitud_E4'].fillna(0)\n",
        "data3['Longitud_E6'] = data3['Longitud_E6'].fillna(0)\n",
        "data3['Longitud_E8'] = data3['Longitud_E8'].fillna(0)\n",
        "data3['Longitud_E10'] = data3['Longitud_E10'].fillna(0)\n",
        "data3['Longitud_E11'] = data3['Longitud_E11'].fillna(0)\n",
        "data3['English_E1'] = data3['English_E1'].fillna(0)\n",
        "data3['English_E4'] = data3['English_E4'].fillna(0)\n",
        "data3['English_E6'] = data3['English_E6'].fillna(0)\n",
        "data3['English_E8'] = data3['English_E8'].fillna(0)\n",
        "data3['English_E10'] = data3['English_E10'].fillna(0)\n",
        "data3['English_E11'] = data3['English_E11'].fillna(0)"
      ],
      "execution_count": 96,
      "outputs": []
    },
    {
      "cell_type": "code",
      "metadata": {
        "scrolled": true,
        "id": "pUmjo4LKpqfL",
        "colab_type": "code",
        "colab": {
          "base_uri": "https://localhost:8080/",
          "height": 319
        },
        "outputId": "81ff1608-2345-4ded-ee8d-a1712ef98ae1"
      },
      "source": [
        "data3.isnull().sum()"
      ],
      "execution_count": 97,
      "outputs": [
        {
          "output_type": "execute_result",
          "data": {
            "text/plain": [
              "y                   0\n",
              "Longitud_E1         0\n",
              "Longitud_E4         0\n",
              "Longitud_E6         0\n",
              "Longitud_E8         0\n",
              "Longitud_E10        0\n",
              "Longitud_E11        0\n",
              "Media               0\n",
              "Tareas Faltantes    0\n",
              "English_E1          0\n",
              "English_E4          0\n",
              "English_E6          0\n",
              "English_E8          0\n",
              "English_E10         0\n",
              "English_E11         0\n",
              "p_english           0\n",
              "usa_english         0\n",
              "dtype: int64"
            ]
          },
          "metadata": {
            "tags": []
          },
          "execution_count": 97
        }
      ]
    },
    {
      "cell_type": "code",
      "metadata": {
        "id": "OUHKtsWfpqfM",
        "colab_type": "code",
        "colab": {}
      },
      "source": [
        "y = data3['y']\n",
        "X = data3.drop(['y'], axis=1)"
      ],
      "execution_count": 98,
      "outputs": []
    },
    {
      "cell_type": "code",
      "metadata": {
        "id": "ljAJykOCpqfN",
        "colab_type": "code",
        "colab": {}
      },
      "source": [
        "X_train, X_test, y_train, y_test = train_test_split(X, y, test_size=0.15, random_state=0)"
      ],
      "execution_count": 99,
      "outputs": []
    },
    {
      "cell_type": "code",
      "metadata": {
        "id": "8MotB1SJpqfO",
        "colab_type": "code",
        "colab": {
          "base_uri": "https://localhost:8080/",
          "height": 34
        },
        "outputId": "cb08dfdb-5ff2-449b-e4fa-b61dd43b15dd"
      },
      "source": [
        "X_test.shape"
      ],
      "execution_count": 100,
      "outputs": [
        {
          "output_type": "execute_result",
          "data": {
            "text/plain": [
              "(7, 16)"
            ]
          },
          "metadata": {
            "tags": []
          },
          "execution_count": 100
        }
      ]
    },
    {
      "cell_type": "code",
      "metadata": {
        "id": "Ke1XtkbupqfQ",
        "colab_type": "code",
        "colab": {
          "base_uri": "https://localhost:8080/",
          "height": 34
        },
        "outputId": "b9943ad4-b5ac-452e-8cde-5ddde4c01123"
      },
      "source": [
        "clf = RandomForestClassifier(n_estimators=200, max_features=16, random_state=1, n_jobs=-1)\n",
        "cross_val_score(clf, X, y, cv=10, scoring='accuracy').mean()"
      ],
      "execution_count": 101,
      "outputs": [
        {
          "output_type": "execute_result",
          "data": {
            "text/plain": [
              "0.7150000000000001"
            ]
          },
          "metadata": {
            "tags": []
          },
          "execution_count": 101
        }
      ]
    },
    {
      "cell_type": "markdown",
      "metadata": {
        "id": "WVUErVC97vHD",
        "colab_type": "text"
      },
      "source": [
        "El accuracy resultante fue de 0.715 para predecir el género."
      ]
    },
    {
      "cell_type": "markdown",
      "metadata": {
        "id": "-ouqy5HhpqfS",
        "colab_type": "text"
      },
      "source": [
        "### Predice usando XGBoosting a partir de la creación de nuevas variables"
      ]
    },
    {
      "cell_type": "code",
      "metadata": {
        "scrolled": false,
        "id": "_tKaueNTpqfS",
        "colab_type": "code",
        "colab": {
          "base_uri": "https://localhost:8080/",
          "height": 185
        },
        "outputId": "d51f3c50-4112-466c-f3a2-8126a17886b3"
      },
      "source": [
        "from sklearn.ensemble import GradientBoostingClassifier\n",
        "\n",
        "clf = GradientBoostingClassifier(n_estimators=200, max_features=16, random_state=1)\n",
        "clf"
      ],
      "execution_count": 102,
      "outputs": [
        {
          "output_type": "execute_result",
          "data": {
            "text/plain": [
              "GradientBoostingClassifier(ccp_alpha=0.0, criterion='friedman_mse', init=None,\n",
              "                           learning_rate=0.1, loss='deviance', max_depth=3,\n",
              "                           max_features=16, max_leaf_nodes=None,\n",
              "                           min_impurity_decrease=0.0, min_impurity_split=None,\n",
              "                           min_samples_leaf=1, min_samples_split=2,\n",
              "                           min_weight_fraction_leaf=0.0, n_estimators=200,\n",
              "                           n_iter_no_change=None, presort='deprecated',\n",
              "                           random_state=1, subsample=1.0, tol=0.0001,\n",
              "                           validation_fraction=0.1, verbose=0,\n",
              "                           warm_start=False)"
            ]
          },
          "metadata": {
            "tags": []
          },
          "execution_count": 102
        }
      ]
    },
    {
      "cell_type": "code",
      "metadata": {
        "scrolled": true,
        "id": "dk5QmZJipqfU",
        "colab_type": "code",
        "colab": {
          "base_uri": "https://localhost:8080/",
          "height": 34
        },
        "outputId": "1282eefa-afbf-42d1-a8b3-3a67757a9393"
      },
      "source": [
        "clf.fit(X_train, y_train)\n",
        "y_pred = clf.predict(X_test)\n",
        "metrics.f1_score(y_pred, y_test.values), metrics.accuracy_score(y_pred, y_test.values)"
      ],
      "execution_count": 103,
      "outputs": [
        {
          "output_type": "execute_result",
          "data": {
            "text/plain": [
              "(0.0, 0.5714285714285714)"
            ]
          },
          "metadata": {
            "tags": []
          },
          "execution_count": 103
        }
      ]
    },
    {
      "cell_type": "markdown",
      "metadata": {
        "id": "S93o2Nmt7-Yh",
        "colab_type": "text"
      },
      "source": [
        "Al implementar un modelo XGBoost encontramos un accuracy de 0.5714. Generando el accuracy más bajo dentro de las metodologías usadas anteriormente."
      ]
    },
    {
      "cell_type": "markdown",
      "metadata": {
        "id": "xaSdh7Tppqfc",
        "colab_type": "text"
      },
      "source": [
        "# Exercise 13.4\n",
        "Classify group members into different subgroups (minimum 3) according to a characteristic of your choice."
      ]
    },
    {
      "cell_type": "code",
      "metadata": {
        "id": "va7YGE5YpqfV",
        "colab_type": "code",
        "colab": {}
      },
      "source": [
        "#from sklearn.cluster import SpectralClustering\n",
        "from sklearn.cluster import AgglomerativeClustering\n",
        "data3[np.isnan(data3)] = 0"
      ],
      "execution_count": 104,
      "outputs": []
    },
    {
      "cell_type": "code",
      "metadata": {
        "id": "byPNpJ0spqfX",
        "colab_type": "code",
        "colab": {
          "base_uri": "https://localhost:8080/",
          "height": 67
        },
        "outputId": "1306df63-cdae-423e-c756-b884e9b1eda6"
      },
      "source": [
        "cluster = AgglomerativeClustering(n_clusters=3)\n",
        "sol = cluster.fit_predict(data3.values)\n",
        "sol"
      ],
      "execution_count": 105,
      "outputs": [
        {
          "output_type": "execute_result",
          "data": {
            "text/plain": [
              "array([2, 2, 1, 2, 1, 0, 2, 2, 0, 0, 0, 2, 2, 0, 1, 1, 1, 0, 2, 1, 1, 2,\n",
              "       2, 1, 0, 0, 2, 0, 2, 0, 1, 0, 2, 1, 1, 2, 2, 0, 2, 1, 1, 1, 2, 0,\n",
              "       2, 2])"
            ]
          },
          "metadata": {
            "tags": []
          },
          "execution_count": 105
        }
      ]
    },
    {
      "cell_type": "code",
      "metadata": {
        "id": "Dg2ZDJMepqfZ",
        "colab_type": "code",
        "colab": {
          "base_uri": "https://localhost:8080/",
          "height": 319
        },
        "outputId": "9425f417-6d70-4588-b2e4-2bde2a738710"
      },
      "source": [
        "print(data3.dtypes)"
      ],
      "execution_count": 106,
      "outputs": [
        {
          "output_type": "stream",
          "text": [
            "y                     int64\n",
            "Longitud_E1         float64\n",
            "Longitud_E4         float64\n",
            "Longitud_E6         float64\n",
            "Longitud_E8         float64\n",
            "Longitud_E10        float64\n",
            "Longitud_E11        float64\n",
            "Media               float64\n",
            "Tareas Faltantes    float64\n",
            "English_E1          float64\n",
            "English_E4          float64\n",
            "English_E6          float64\n",
            "English_E8          float64\n",
            "English_E10         float64\n",
            "English_E11         float64\n",
            "p_english           float64\n",
            "usa_english           int64\n",
            "dtype: object\n"
          ],
          "name": "stdout"
        }
      ]
    },
    {
      "cell_type": "code",
      "metadata": {
        "id": "y52phLJFpqfb",
        "colab_type": "code",
        "colab": {
          "base_uri": "https://localhost:8080/",
          "height": 575
        },
        "outputId": "d6b270db-eb4e-46e7-d930-f62507c40c68"
      },
      "source": [
        "col = ['r','g','b','c']\n",
        "cols = [col[s] for s in sol]\n",
        "\n",
        "from mpl_toolkits import mplot3d\n",
        "\n",
        "fig = plt.figure(figsize=(10,10))\n",
        "ax = plt.axes(projection='3d')\n",
        "ax.scatter3D(data3.iloc[:,0], data3.iloc[:,-10], data3.iloc[:,-1], c=cols)\n",
        "ax.set_xlabel(data3.columns[0])\n",
        "ax.set_ylabel(data3.columns[-10])\n",
        "ax.set_zlabel(data3.columns[-1])\n",
        "plt.show()"
      ],
      "execution_count": 107,
      "outputs": [
        {
          "output_type": "display_data",
          "data": {
            "image/png": "[encoded data removed]",
            "text/plain": [
              "<Figure size 720x720 with 1 Axes>"
            ]
          },
          "metadata": {
            "tags": [],
            "needs_background": "light"
          }
        }
      ]
    },
    {
      "cell_type": "markdown",
      "metadata": {
        "id": "iryv9Cdv90Lr",
        "colab_type": "text"
      },
      "source": [
        "De acuerdo con esta segmentación, en general se puede ver que los estudiantes de la materia se pueden clasificar en al menos cuatro grupos así:\n",
        "\n",
        "\n",
        "1.   No_Bilingue_básico : Quienes no usan inglés en sus tareas y su promedio de palabras es menor al promedio total del curso.\n",
        "2.   No_Bilingue_milla_extra: Quienes no usan inglés y su promedio de número de palabras está por encima del promedio de número de palabras general.\n",
        "3.   Bilingue_milla_extra: Los estudiantes que usan inglés en sus tareas con un promedio de palabras superior al del total del curso.\n",
        "4.   Bilingue_básico: Los estudiantes que usan inglés en sus tareas con un promedio de palabras inferior al del total del curso.\n",
        "\n",
        "\n"
      ]
    },
    {
      "cell_type": "code",
      "metadata": {
        "id": "oHQudAREEpoo",
        "colab_type": "code",
        "colab": {}
      },
      "source": [
        "def grupos_df(data):\n",
        "    if (data['usa_english'] == 0 and data['Media']<=281.733333 ):\n",
        "        return 'No_Bilingue_básico'\n",
        "    elif (data['usa_english'] == 0 and data['Media']>281.733333 ):\n",
        "        return 'No_Bilingue_milla_extra'\n",
        "    elif (data['usa_english'] == 1 and data['Media']>281.733333 ):\n",
        "        return 'Bilingue_milla_extra'\n",
        "    elif (data['usa_english'] == 1 and data['Media']<=281.733333 ):\n",
        "        return 'Bilingue_básico'"
      ],
      "execution_count": 108,
      "outputs": []
    },
    {
      "cell_type": "code",
      "metadata": {
        "id": "HgrjDhiGpqfd",
        "colab_type": "code",
        "colab": {}
      },
      "source": [
        "data['grupos'] = data.apply(grupos_df, axis = 1)"
      ],
      "execution_count": 109,
      "outputs": []
    },
    {
      "cell_type": "code",
      "metadata": {
        "id": "9cOZYVN7GAuR",
        "colab_type": "code",
        "colab": {
          "base_uri": "https://localhost:8080/",
          "height": 101
        },
        "outputId": "eb1b3a8f-e04b-42f7-cb9c-7b31657d40ad"
      },
      "source": [
        "data['grupos'].value_counts()"
      ],
      "execution_count": 110,
      "outputs": [
        {
          "output_type": "execute_result",
          "data": {
            "text/plain": [
              "No_Bilingue_milla_extra    13\n",
              "No_Bilingue_básico         13\n",
              "Bilingue_milla_extra       12\n",
              "Bilingue_básico             8\n",
              "Name: grupos, dtype: int64"
            ]
          },
          "metadata": {
            "tags": []
          },
          "execution_count": 110
        }
      ]
    },
    {
      "cell_type": "code",
      "metadata": {
        "id": "GQnEZ1pnGYAu",
        "colab_type": "code",
        "colab": {
          "base_uri": "https://localhost:8080/",
          "height": 314
        },
        "outputId": "9e8055ac-e45b-49a1-b9d1-8496a1d7026c"
      },
      "source": [
        "data.groupby(['grupos'])['p_english'].describe()\n",
        "data.groupby(['grupos','Genero'])['Media'].describe()"
      ],
      "execution_count": 116,
      "outputs": [
        {
          "output_type": "execute_result",
          "data": {
            "text/html": [
              "<div>\n",
              "<style scoped>\n",
              "    .dataframe tbody tr th:only-of-type {\n",
              "        vertical-align: middle;\n",
              "    }\n",
              "\n",
              "    .dataframe tbody tr th {\n",
              "        vertical-align: top;\n",
              "    }\n",
              "\n",
              "    .dataframe thead th {\n",
              "        text-align: right;\n",
              "    }\n",
              "</style>\n",
              "<table border=\"1\" class=\"dataframe\">\n",
              "  <thead>\n",
              "    <tr style=\"text-align: right;\">\n",
              "      <th></th>\n",
              "      <th></th>\n",
              "      <th>count</th>\n",
              "      <th>mean</th>\n",
              "      <th>std</th>\n",
              "      <th>min</th>\n",
              "      <th>25%</th>\n",
              "      <th>50%</th>\n",
              "      <th>75%</th>\n",
              "      <th>max</th>\n",
              "    </tr>\n",
              "    <tr>\n",
              "      <th>grupos</th>\n",
              "      <th>Genero</th>\n",
              "      <th></th>\n",
              "      <th></th>\n",
              "      <th></th>\n",
              "      <th></th>\n",
              "      <th></th>\n",
              "      <th></th>\n",
              "      <th></th>\n",
              "      <th></th>\n",
              "    </tr>\n",
              "  </thead>\n",
              "  <tbody>\n",
              "    <tr>\n",
              "      <th rowspan=\"2\" valign=\"top\">Bilingue_básico</th>\n",
              "      <th>Femenino</th>\n",
              "      <td>1.0</td>\n",
              "      <td>184.500000</td>\n",
              "      <td>NaN</td>\n",
              "      <td>184.500000</td>\n",
              "      <td>184.500000</td>\n",
              "      <td>184.500000</td>\n",
              "      <td>184.500000</td>\n",
              "      <td>184.500000</td>\n",
              "    </tr>\n",
              "    <tr>\n",
              "      <th>Masculino</th>\n",
              "      <td>7.0</td>\n",
              "      <td>265.457143</td>\n",
              "      <td>13.520885</td>\n",
              "      <td>247.000000</td>\n",
              "      <td>254.866667</td>\n",
              "      <td>268.166667</td>\n",
              "      <td>275.850000</td>\n",
              "      <td>281.600000</td>\n",
              "    </tr>\n",
              "    <tr>\n",
              "      <th rowspan=\"2\" valign=\"top\">Bilingue_milla_extra</th>\n",
              "      <th>Femenino</th>\n",
              "      <td>3.0</td>\n",
              "      <td>336.233333</td>\n",
              "      <td>36.174684</td>\n",
              "      <td>298.666667</td>\n",
              "      <td>318.933333</td>\n",
              "      <td>339.200000</td>\n",
              "      <td>355.016667</td>\n",
              "      <td>370.833333</td>\n",
              "    </tr>\n",
              "    <tr>\n",
              "      <th>Masculino</th>\n",
              "      <td>9.0</td>\n",
              "      <td>316.159259</td>\n",
              "      <td>25.074133</td>\n",
              "      <td>285.600000</td>\n",
              "      <td>299.000000</td>\n",
              "      <td>306.166667</td>\n",
              "      <td>334.600000</td>\n",
              "      <td>361.000000</td>\n",
              "    </tr>\n",
              "    <tr>\n",
              "      <th rowspan=\"2\" valign=\"top\">No_Bilingue_básico</th>\n",
              "      <th>Femenino</th>\n",
              "      <td>4.0</td>\n",
              "      <td>218.950000</td>\n",
              "      <td>56.870278</td>\n",
              "      <td>138.500000</td>\n",
              "      <td>206.975000</td>\n",
              "      <td>232.483333</td>\n",
              "      <td>244.458333</td>\n",
              "      <td>272.333333</td>\n",
              "    </tr>\n",
              "    <tr>\n",
              "      <th>Masculino</th>\n",
              "      <td>9.0</td>\n",
              "      <td>216.618519</td>\n",
              "      <td>58.950910</td>\n",
              "      <td>107.000000</td>\n",
              "      <td>225.000000</td>\n",
              "      <td>231.200000</td>\n",
              "      <td>259.166667</td>\n",
              "      <td>275.200000</td>\n",
              "    </tr>\n",
              "    <tr>\n",
              "      <th rowspan=\"2\" valign=\"top\">No_Bilingue_milla_extra</th>\n",
              "      <th>Femenino</th>\n",
              "      <td>2.0</td>\n",
              "      <td>298.466667</td>\n",
              "      <td>6.882506</td>\n",
              "      <td>293.600000</td>\n",
              "      <td>296.033333</td>\n",
              "      <td>298.466667</td>\n",
              "      <td>300.900000</td>\n",
              "      <td>303.333333</td>\n",
              "    </tr>\n",
              "    <tr>\n",
              "      <th>Masculino</th>\n",
              "      <td>11.0</td>\n",
              "      <td>330.963636</td>\n",
              "      <td>38.542704</td>\n",
              "      <td>288.000000</td>\n",
              "      <td>304.250000</td>\n",
              "      <td>321.200000</td>\n",
              "      <td>348.950000</td>\n",
              "      <td>411.500000</td>\n",
              "    </tr>\n",
              "  </tbody>\n",
              "</table>\n",
              "</div>"
            ],
            "text/plain": [
              "                                   count        mean  ...         75%         max\n",
              "grupos                  Genero                        ...                        \n",
              "Bilingue_básico         Femenino     1.0  184.500000  ...  184.500000  184.500000\n",
              "                        Masculino    7.0  265.457143  ...  275.850000  281.600000\n",
              "Bilingue_milla_extra    Femenino     3.0  336.233333  ...  355.016667  370.833333\n",
              "                        Masculino    9.0  316.159259  ...  334.600000  361.000000\n",
              "No_Bilingue_básico      Femenino     4.0  218.950000  ...  244.458333  272.333333\n",
              "                        Masculino    9.0  216.618519  ...  259.166667  275.200000\n",
              "No_Bilingue_milla_extra Femenino     2.0  298.466667  ...  300.900000  303.333333\n",
              "                        Masculino   11.0  330.963636  ...  348.950000  411.500000\n",
              "\n",
              "[8 rows x 8 columns]"
            ]
          },
          "metadata": {
            "tags": []
          },
          "execution_count": 116
        }
      ]
    },
    {
      "cell_type": "markdown",
      "metadata": {
        "id": "4ODt1s_Evivd",
        "colab_type": "text"
      },
      "source": [
        "Los estudiantes que más usaron palabras, se ubican en el grupo No_Bilingue_milla_extra y pertenecen al género masculino.\n",
        "\n",
        "Los hombres se ubican en su mayoría en el grupo No_Bilingue_milla_extra.\n",
        "\n",
        "La agrupación que más usa palabras en promedio es el femenino ubicado en el grupo Bilingue_milla_extra.\n",
        "\n",
        "La clasificación donde el minimo de palabras fue el menos de todos los grupos es el No_Bilingue_básico Masculino."
      ]
    },
    {
      "cell_type": "code",
      "metadata": {
        "id": "tMoo2fUoGzDA",
        "colab_type": "code",
        "colab": {
          "base_uri": "https://localhost:8080/",
          "height": 352
        },
        "outputId": "ae284ac1-8416-4cd3-9c85-9b91aad8d493"
      },
      "source": [
        "plt.figure(figsize=(15,5))\n",
        "sns.boxplot(x=\"grupos\", y=\"Media\",  data=data, palette=\"Set3\")"
      ],
      "execution_count": 112,
      "outputs": [
        {
          "output_type": "execute_result",
          "data": {
            "text/plain": [
              "<matplotlib.axes._subplots.AxesSubplot at 0x7ff4bb2f88d0>"
            ]
          },
          "metadata": {
            "tags": []
          },
          "execution_count": 112
        },
        {
          "output_type": "display_data",
          "data": {
            "image/png": "[encoded data removed]",
            "text/plain": [
              "<Figure size 1080x360 with 1 Axes>"
            ]
          },
          "metadata": {
            "tags": [],
            "needs_background": "light"
          }
        }
      ]
    },
    {
      "cell_type": "markdown",
      "metadata": {
        "id": "xaVfp9iXwhmW",
        "colab_type": "text"
      },
      "source": [
        "El grupo con mayor promedio de palabras es No_Bilingue_milla_extra con unos outliers cercanos a 400.\n",
        "\n",
        "El grupo que presenta menor cantidad de palabras en promedio es el No_Bilingue_básico. Con un sesgo hacia una media mayor.\n",
        "\n",
        "El grupo Bilingue Básico es el que tiene menor desviación y presenta un outlier cercano a 200."
      ]
    },
    {
      "cell_type": "code",
      "metadata": {
        "id": "PAFKLkISHLm0",
        "colab_type": "code",
        "colab": {
          "base_uri": "https://localhost:8080/",
          "height": 352
        },
        "outputId": "e42f961f-087f-47b2-d6a7-46c39bc5909f"
      },
      "source": [
        "plt.figure(figsize=(15,5))\n",
        "sns.boxplot(x=\"grupos\", y=\"Tareas Faltantes\",  data=data, palette=\"Set3\")"
      ],
      "execution_count": 113,
      "outputs": [
        {
          "output_type": "execute_result",
          "data": {
            "text/plain": [
              "<matplotlib.axes._subplots.AxesSubplot at 0x7ff4bb2f8668>"
            ]
          },
          "metadata": {
            "tags": []
          },
          "execution_count": 113
        },
        {
          "output_type": "display_data",
          "data": {
            "image/png": "[encoded data removed]",
            "text/plain": [
              "<Figure size 1080x360 with 1 Axes>"
            ]
          },
          "metadata": {
            "tags": [],
            "needs_background": "light"
          }
        }
      ]
    },
    {
      "cell_type": "markdown",
      "metadata": {
        "id": "lEpjCdN9xT2O",
        "colab_type": "text"
      },
      "source": [
        "Las tareas faltantes de los grupos Bilingue_básico y Bilingue_milla_extra se comportan de manera similar, estos se ubican entre 0 y 1 con algunos outliers hacia 2 y 3.\n",
        "\n",
        "Las tareas faltantes de los grupos No bilingues se ubican entre 1 y 2. En el caso de No_Bilingue_extra tiene outliers hacia 0 y en el caso de No_Bilingue_básico outliers hacia 0 y hacia 3."
      ]
    },
    {
      "cell_type": "code",
      "metadata": {
        "id": "333ENM0GHSIH",
        "colab_type": "code",
        "colab": {
          "base_uri": "https://localhost:8080/",
          "height": 422
        },
        "outputId": "600a54d6-7f34-4e19-f969-83590b53d6ea"
      },
      "source": [
        "pd.crosstab(index = data[\"grupos\"],columns = data[\"Genero\"]).plot(kind='bar',figsize=(10, 6),alpha=0.5,rot=0,stacked=True,title=\"Genero por grupo\")"
      ],
      "execution_count": 114,
      "outputs": [
        {
          "output_type": "execute_result",
          "data": {
            "text/plain": [
              "<matplotlib.axes._subplots.AxesSubplot at 0x7ff4baf82e10>"
            ]
          },
          "metadata": {
            "tags": []
          },
          "execution_count": 114
        },
        {
          "output_type": "display_data",
          "data": {
            "image/png": "[encoded data removed]",
            "text/plain": [
              "<Figure size 720x432 with 1 Axes>"
            ]
          },
          "metadata": {
            "tags": [],
            "needs_background": "light"
          }
        }
      ]
    },
    {
      "cell_type": "markdown",
      "metadata": {
        "id": "7wga3-apyBek",
        "colab_type": "text"
      },
      "source": [
        "Se evidencia que hay más estudiantes en los grupos No bilingues que en los otros. Las mujeres se concentran en los grupos No_Bilingue_básico y Bilingue_milla_extra."
      ]
    }
  ]
}