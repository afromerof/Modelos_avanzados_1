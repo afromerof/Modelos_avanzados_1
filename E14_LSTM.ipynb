{
  "nbformat": 4,
  "nbformat_minor": 0,
  "metadata": {
    "kernelspec": {
      "display_name": "Python 3",
      "language": "python",
      "name": "python3"
    },
    "language_info": {
      "codemirror_mode": {
        "name": "ipython",
        "version": 3
      },
      "file_extension": ".py",
      "mimetype": "text/x-python",
      "name": "python",
      "nbconvert_exporter": "python",
      "pygments_lexer": "ipython3",
      "version": "3.7.4"
    },
    "colab": {
      "name": "E14-LSTM.ipynb",
      "provenance": [],
      "collapsed_sections": []
    },
    "accelerator": "GPU"
  },
  "cells": [
    {
      "cell_type": "markdown",
      "metadata": {
        "id": "pwlkR6b7JRoS",
        "colab_type": "text"
      },
      "source": [
        "<br><h1> <img src=\"https://serea2017.uniandes.edu.co/images/Logo.png\" height=\"120\" width=\"400\" align=\"Center\" /><br>\n",
        "\n",
        " \n",
        "\n",
        "# MIIIA Advanced Models: Exercise 15 - 12 Jul 2020\n",
        "\n",
        " \n",
        "\n",
        "                         Names                 User                Code\n",
        "           - Romero Fonseca Angela Fernanda       af.romerof     201819276       \n",
        "           - Alzate Roman Cindy Zulima            c.alzate       201920019\n",
        "           - Rojas Arcila Daniel Camilo           d.rojasa       201924286\n",
        "           - Elquin Huertas Ramírez               e.huertas      201920061"
      ]
    },
    {
      "cell_type": "markdown",
      "metadata": {
        "id": "bWe7dceJ-WfI",
        "colab_type": "text"
      },
      "source": [
        "# Exercise 14\n",
        "\n",
        "## Predict rating using LSTM\n"
      ]
    },
    {
      "cell_type": "code",
      "metadata": {
        "id": "ci0uxsvg-WfM",
        "colab_type": "code",
        "colab": {}
      },
      "source": [
        "import pandas as pd\n",
        "import matplotlib.pyplot as plt"
      ],
      "execution_count": 1,
      "outputs": []
    },
    {
      "cell_type": "code",
      "metadata": {
        "id": "T3TXpclO-Wfe",
        "colab_type": "code",
        "colab": {}
      },
      "source": [
        "dataTraining = pd.read_csv('https://github.com/albahnsen/AdvancedMethodsDataAnalysisClass/raw/master/datasets/dataTraining.zip', encoding='UTF-8', index_col=0)"
      ],
      "execution_count": 2,
      "outputs": []
    },
    {
      "cell_type": "code",
      "metadata": {
        "id": "qAXxGf6-EFni",
        "colab_type": "code",
        "colab": {
          "base_uri": "https://localhost:8080/",
          "height": 198
        },
        "outputId": "4e995219-f5a6-4000-890b-23e7c0498a1f"
      },
      "source": [
        "dataTraining.head()"
      ],
      "execution_count": 3,
      "outputs": [
        {
          "output_type": "execute_result",
          "data": {
            "text/html": [
              "<div>\n",
              "<style scoped>\n",
              "    .dataframe tbody tr th:only-of-type {\n",
              "        vertical-align: middle;\n",
              "    }\n",
              "\n",
              "    .dataframe tbody tr th {\n",
              "        vertical-align: top;\n",
              "    }\n",
              "\n",
              "    .dataframe thead th {\n",
              "        text-align: right;\n",
              "    }\n",
              "</style>\n",
              "<table border=\"1\" class=\"dataframe\">\n",
              "  <thead>\n",
              "    <tr style=\"text-align: right;\">\n",
              "      <th></th>\n",
              "      <th>year</th>\n",
              "      <th>title</th>\n",
              "      <th>plot</th>\n",
              "      <th>genres</th>\n",
              "      <th>rating</th>\n",
              "    </tr>\n",
              "  </thead>\n",
              "  <tbody>\n",
              "    <tr>\n",
              "      <th>3107</th>\n",
              "      <td>2003</td>\n",
              "      <td>Most</td>\n",
              "      <td>most is the story of a single father who takes...</td>\n",
              "      <td>['Short', 'Drama']</td>\n",
              "      <td>8.0</td>\n",
              "    </tr>\n",
              "    <tr>\n",
              "      <th>900</th>\n",
              "      <td>2008</td>\n",
              "      <td>How to Be a Serial Killer</td>\n",
              "      <td>a serial killer decides to teach the secrets o...</td>\n",
              "      <td>['Comedy', 'Crime', 'Horror']</td>\n",
              "      <td>5.6</td>\n",
              "    </tr>\n",
              "    <tr>\n",
              "      <th>6724</th>\n",
              "      <td>1941</td>\n",
              "      <td>A Woman's Face</td>\n",
              "      <td>in sweden ,  a female blackmailer with a disfi...</td>\n",
              "      <td>['Drama', 'Film-Noir', 'Thriller']</td>\n",
              "      <td>7.2</td>\n",
              "    </tr>\n",
              "    <tr>\n",
              "      <th>4704</th>\n",
              "      <td>1954</td>\n",
              "      <td>Executive Suite</td>\n",
              "      <td>in a friday afternoon in new york ,  the presi...</td>\n",
              "      <td>['Drama']</td>\n",
              "      <td>7.4</td>\n",
              "    </tr>\n",
              "    <tr>\n",
              "      <th>2582</th>\n",
              "      <td>1990</td>\n",
              "      <td>Narrow Margin</td>\n",
              "      <td>in los angeles ,  the editor of a publishing h...</td>\n",
              "      <td>['Action', 'Crime', 'Thriller']</td>\n",
              "      <td>6.6</td>\n",
              "    </tr>\n",
              "  </tbody>\n",
              "</table>\n",
              "</div>"
            ],
            "text/plain": [
              "      year  ... rating\n",
              "3107  2003  ...    8.0\n",
              "900   2008  ...    5.6\n",
              "6724  1941  ...    7.2\n",
              "4704  1954  ...    7.4\n",
              "2582  1990  ...    6.6\n",
              "\n",
              "[5 rows x 5 columns]"
            ]
          },
          "metadata": {
            "tags": []
          },
          "execution_count": 3
        }
      ]
    },
    {
      "cell_type": "code",
      "metadata": {
        "id": "xNIJ9UAP-Wfs",
        "colab_type": "code",
        "colab": {}
      },
      "source": [
        "plots = dataTraining['plot']\n",
        "y = (dataTraining['rating'] >= dataTraining['rating'].mean()).astype(int)"
      ],
      "execution_count": 4,
      "outputs": []
    },
    {
      "cell_type": "code",
      "metadata": {
        "id": "VRzySvnM-Wf5",
        "colab_type": "code",
        "colab": {
          "base_uri": "https://localhost:8080/",
          "height": 224
        },
        "outputId": "68d593e3-d63d-4c83-fe8c-051f40c01b34"
      },
      "source": [
        "plots"
      ],
      "execution_count": 5,
      "outputs": [
        {
          "output_type": "execute_result",
          "data": {
            "text/plain": [
              "3107    most is the story of a single father who takes...\n",
              "900     a serial killer decides to teach the secrets o...\n",
              "6724    in sweden ,  a female blackmailer with a disfi...\n",
              "4704    in a friday afternoon in new york ,  the presi...\n",
              "2582    in los angeles ,  the editor of a publishing h...\n",
              "                              ...                        \n",
              "8417    \" our marriage ,  their wedding .  \"  it ' s l...\n",
              "1592    the wandering barbarian ,  conan ,  alongside ...\n",
              "1723    like a tale spun by scheherazade ,  kismet fol...\n",
              "7605    mrs .  brisby ,  a widowed mouse ,  lives in a...\n",
              "215     tinker bell journey far north of never land to...\n",
              "Name: plot, Length: 7895, dtype: object"
            ]
          },
          "metadata": {
            "tags": []
          },
          "execution_count": 5
        }
      ]
    },
    {
      "cell_type": "code",
      "metadata": {
        "id": "OsePZDwt8Yfr",
        "colab_type": "code",
        "colab": {
          "base_uri": "https://localhost:8080/",
          "height": 104
        },
        "outputId": "006ec99f-b654-4208-8ebc-4ee960ca9e54"
      },
      "source": [
        "plots[0]"
      ],
      "execution_count": 6,
      "outputs": [
        {
          "output_type": "execute_result",
          "data": {
            "application/vnd.google.colaboratory.intrinsic": {
              "type": "string"
            },
            "text/plain": [
              "\"major benson winifred payne is being discharged from the marines .  payne is a killin '  machine ,  but the wars of the world are no longer fought on the battlefield .  a career marine ,  he has no idea what to do as a civilian ,  so his commander finds him a job  -  commanding officer of a local school ' s jrotc program ,  a bunch or ragtag losers with no hope .  using such teaching tools as live grenades and real bullets ,  payne starts to instill the corp with some hope .  but when payne is recalled to fight in bosnia ,  will he leave the corp that has just started to believe in him ,  or will he find out that killin '  ain ' t much of a livin '  ?\""
            ]
          },
          "metadata": {
            "tags": []
          },
          "execution_count": 6
        }
      ]
    },
    {
      "cell_type": "code",
      "metadata": {
        "id": "8HPphtUa-WgI",
        "colab_type": "code",
        "colab": {
          "base_uri": "https://localhost:8080/",
          "height": 224
        },
        "outputId": "7740e172-3087-409f-f8d4-3aa3afea4532"
      },
      "source": [
        "y"
      ],
      "execution_count": 7,
      "outputs": [
        {
          "output_type": "execute_result",
          "data": {
            "text/plain": [
              "3107    1\n",
              "900     0\n",
              "6724    1\n",
              "4704    1\n",
              "2582    1\n",
              "       ..\n",
              "8417    0\n",
              "1592    0\n",
              "1723    0\n",
              "7605    1\n",
              "215     1\n",
              "Name: rating, Length: 7895, dtype: int64"
            ]
          },
          "metadata": {
            "tags": []
          },
          "execution_count": 7
        }
      ]
    },
    {
      "cell_type": "markdown",
      "metadata": {
        "id": "QdNz4TZu-WgS",
        "colab_type": "text"
      },
      "source": [
        "# Exercise 14.1\n",
        "\n",
        "- Remove stopwords \n",
        "- Lowercase\n",
        "- split the text in words \n",
        "- pad_sequences"
      ]
    },
    {
      "cell_type": "code",
      "metadata": {
        "id": "WD9pirR0Ue9j",
        "colab_type": "code",
        "colab": {
          "base_uri": "https://localhost:8080/",
          "height": 190
        },
        "outputId": "be6a60b7-3e83-4c20-ff9a-1595b8a1fd31"
      },
      "source": [
        "# Dividiendo por palabras\n",
        "voc = set((''.join(plots)).split())\n",
        "list(voc)[:10]"
      ],
      "execution_count": 8,
      "outputs": [
        {
          "output_type": "execute_result",
          "data": {
            "text/plain": [
              "['behaviour',\n",
              " 'reconnection',\n",
              " 'buildings',\n",
              " 'wicked',\n",
              " 'pessimistic',\n",
              " 'cloak',\n",
              " 'kilbourne',\n",
              " 'uncorrupted',\n",
              " 'kuman',\n",
              " '.animals']"
            ]
          },
          "metadata": {
            "tags": []
          },
          "execution_count": 8
        }
      ]
    },
    {
      "cell_type": "code",
      "metadata": {
        "id": "2GDlYe1tUe6H",
        "colab_type": "code",
        "colab": {
          "base_uri": "https://localhost:8080/",
          "height": 104
        },
        "outputId": "3065e195-02c7-452f-d240-1555f9879f86"
      },
      "source": [
        "#pip install NLTK\n",
        "import nltk\n",
        "nltk.download('punkt')\n",
        "nltk.download('stopwords')"
      ],
      "execution_count": 9,
      "outputs": [
        {
          "output_type": "stream",
          "text": [
            "[nltk_data] Downloading package punkt to /root/nltk_data...\n",
            "[nltk_data]   Unzipping tokenizers/punkt.zip.\n",
            "[nltk_data] Downloading package stopwords to /root/nltk_data...\n",
            "[nltk_data]   Unzipping corpora/stopwords.zip.\n"
          ],
          "name": "stdout"
        },
        {
          "output_type": "execute_result",
          "data": {
            "text/plain": [
              "True"
            ]
          },
          "metadata": {
            "tags": []
          },
          "execution_count": 9
        }
      ]
    },
    {
      "cell_type": "code",
      "metadata": {
        "id": "TBh3aLIsUe3H",
        "colab_type": "code",
        "colab": {
          "base_uri": "https://localhost:8080/",
          "height": 54
        },
        "outputId": "02590b3a-0732-4b7c-ae9f-2f4cbb063dc5"
      },
      "source": [
        "# filter out stop words\n",
        "from nltk.corpus import stopwords\n",
        "stop_words = set(stopwords.words('english'))\n",
        "words = [w for w in voc if not w in stop_words]\n",
        "print(words[:100])"
      ],
      "execution_count": 10,
      "outputs": [
        {
          "output_type": "stream",
          "text": [
            "['behaviour', 'reconnection', 'buildings', 'wicked', 'pessimistic', 'cloak', 'kilbourne', 'uncorrupted', 'kuman', '.animals', 'donahue', 'jarrah', 'disaffected', 'crosby', 'baldessari', 'stones', 'nigel', 'vintage', '.egbert', 'anders', 'johan', 'dodson', 'blessington', 'parador', 'identifiable', 'stone', 'dwell', 'suzette', 'ya', 'diners', 'kona', 'layton', 'collector', 'aviv', 'maintains', 'crisscrossed', 'bereft', 'bros', 'assertion', 'suns', 'cavaldi', 'jute', 'lectured', 'seraph', '.early', 'torturous', 'sarrazin', 'wandrous', 'geekiest', 'sowell', 'luthan', 'barnes', 'batiatus', 'referee', 'zoey', 'catatonic', 'bubber', 'retrospective', 'unaccountable', 'f%&', 'facets', 'strays', '.mickey', 'seers', 'bounding', 'brecht', 'exes', 'hauled', 'clinical', 'trina', 'guns', 'benyon', 'cooties', '.civilization', 'rowena', 'kublai', 'years', 'concentration', 'gibney', 'mice', 'kinjanja', 'comply', 'occasionally', '.bond', 'chemisty', 'dynasty', 'hitting', 'pocketknife', 'far', 'lem', 'overextended', 'gta', 'magenta', 'newfoundland', 'hanover', 'eulogies', 'crossbows', '.eight', 'bloom', 'stick']\n"
          ],
          "name": "stdout"
        }
      ]
    },
    {
      "cell_type": "code",
      "metadata": {
        "id": "6uPYY1SNUe0f",
        "colab_type": "code",
        "colab": {
          "base_uri": "https://localhost:8080/",
          "height": 54
        },
        "outputId": "cd211da8-bacd-4435-ee54-b00791d5c586"
      },
      "source": [
        "# Quitar los signos de puntuación\n",
        "import string\n",
        "table = str.maketrans('', '', string.punctuation)\n",
        "stripped = [w.translate(table) for w in words]\n",
        "print(stripped[:100])"
      ],
      "execution_count": 11,
      "outputs": [
        {
          "output_type": "stream",
          "text": [
            "['behaviour', 'reconnection', 'buildings', 'wicked', 'pessimistic', 'cloak', 'kilbourne', 'uncorrupted', 'kuman', 'animals', 'donahue', 'jarrah', 'disaffected', 'crosby', 'baldessari', 'stones', 'nigel', 'vintage', 'egbert', 'anders', 'johan', 'dodson', 'blessington', 'parador', 'identifiable', 'stone', 'dwell', 'suzette', 'ya', 'diners', 'kona', 'layton', 'collector', 'aviv', 'maintains', 'crisscrossed', 'bereft', 'bros', 'assertion', 'suns', 'cavaldi', 'jute', 'lectured', 'seraph', 'early', 'torturous', 'sarrazin', 'wandrous', 'geekiest', 'sowell', 'luthan', 'barnes', 'batiatus', 'referee', 'zoey', 'catatonic', 'bubber', 'retrospective', 'unaccountable', 'f', 'facets', 'strays', 'mickey', 'seers', 'bounding', 'brecht', 'exes', 'hauled', 'clinical', 'trina', 'guns', 'benyon', 'cooties', 'civilization', 'rowena', 'kublai', 'years', 'concentration', 'gibney', 'mice', 'kinjanja', 'comply', 'occasionally', 'bond', 'chemisty', 'dynasty', 'hitting', 'pocketknife', 'far', 'lem', 'overextended', 'gta', 'magenta', 'newfoundland', 'hanover', 'eulogies', 'crossbows', 'eight', 'bloom', 'stick']\n"
          ],
          "name": "stdout"
        }
      ]
    },
    {
      "cell_type": "code",
      "metadata": {
        "id": "NSWpk8B8Uexg",
        "colab_type": "code",
        "colab": {
          "base_uri": "https://localhost:8080/",
          "height": 54
        },
        "outputId": "2be12d19-a8dd-4368-88ed-47921fe338a4"
      },
      "source": [
        "# Dejando todo en minúsculas\n",
        "lower_c = [w.lower() for w in stripped]\n",
        "print(lower_c[:100])"
      ],
      "execution_count": 12,
      "outputs": [
        {
          "output_type": "stream",
          "text": [
            "['behaviour', 'reconnection', 'buildings', 'wicked', 'pessimistic', 'cloak', 'kilbourne', 'uncorrupted', 'kuman', 'animals', 'donahue', 'jarrah', 'disaffected', 'crosby', 'baldessari', 'stones', 'nigel', 'vintage', 'egbert', 'anders', 'johan', 'dodson', 'blessington', 'parador', 'identifiable', 'stone', 'dwell', 'suzette', 'ya', 'diners', 'kona', 'layton', 'collector', 'aviv', 'maintains', 'crisscrossed', 'bereft', 'bros', 'assertion', 'suns', 'cavaldi', 'jute', 'lectured', 'seraph', 'early', 'torturous', 'sarrazin', 'wandrous', 'geekiest', 'sowell', 'luthan', 'barnes', 'batiatus', 'referee', 'zoey', 'catatonic', 'bubber', 'retrospective', 'unaccountable', 'f', 'facets', 'strays', 'mickey', 'seers', 'bounding', 'brecht', 'exes', 'hauled', 'clinical', 'trina', 'guns', 'benyon', 'cooties', 'civilization', 'rowena', 'kublai', 'years', 'concentration', 'gibney', 'mice', 'kinjanja', 'comply', 'occasionally', 'bond', 'chemisty', 'dynasty', 'hitting', 'pocketknife', 'far', 'lem', 'overextended', 'gta', 'magenta', 'newfoundland', 'hanover', 'eulogies', 'crossbows', 'eight', 'bloom', 'stick']\n"
          ],
          "name": "stdout"
        }
      ]
    },
    {
      "cell_type": "code",
      "metadata": {
        "id": "gxZjYvClUet2",
        "colab_type": "code",
        "colab": {}
      },
      "source": [
        "# Codificando las palabras VOC\n",
        "vocabulary = {x: idx + 1 for idx, x in enumerate(set(lower_c))}"
      ],
      "execution_count": 13,
      "outputs": []
    },
    {
      "cell_type": "code",
      "metadata": {
        "id": "HHPPNWjWC8vD",
        "colab_type": "code",
        "colab": {}
      },
      "source": [
        "max_plot_len = 500\n",
        "#X = [x.split() for x in plot2]\n",
        "#len_ = pd.Series([len(x)for x in plots])\n",
        "\n",
        "X = [x[:max_plot_len] for x in plots]\n",
        "\n",
        "# Convert words to int and pad\n",
        "X = [[vocabulary[x1] for x1 in x if x1 in vocabulary.keys()] for x in plots]"
      ],
      "execution_count": 14,
      "outputs": []
    },
    {
      "cell_type": "code",
      "metadata": {
        "id": "ufUhuwi4EpAL",
        "colab_type": "code",
        "colab": {
          "base_uri": "https://localhost:8080/",
          "height": 155
        },
        "outputId": "87e22e8f-d01e-447e-df50-a788c4452b1f"
      },
      "source": [
        "from keras.preprocessing import sequence\n",
        "X_pad = sequence.pad_sequences(X, maxlen = max_plot_len)\n",
        "X_pad"
      ],
      "execution_count": 15,
      "outputs": [
        {
          "output_type": "stream",
          "text": [
            "Using TensorFlow backend.\n"
          ],
          "name": "stderr"
        },
        {
          "output_type": "execute_result",
          "data": {
            "text/plain": [
              "array([[36218, 32039, 15386, ..., 18276, 14851,  2855],\n",
              "       [    0,     0,     0, ..., 36218, 32039,  6989],\n",
              "       [15386, 36218, 16216, ...,  8911, 36218, 15386],\n",
              "       ...,\n",
              "       [    0,     0,     0, ...,  6160,  2407, 16216],\n",
              "       [35793,  6160,  2407, ..., 38053, 21362, 36218],\n",
              "       [    0,     0,     0, ..., 32039, 36218, 36218]], dtype=int32)"
            ]
          },
          "metadata": {
            "tags": []
          },
          "execution_count": 15
        }
      ]
    },
    {
      "cell_type": "code",
      "metadata": {
        "id": "6hBrslHBMV7p",
        "colab_type": "code",
        "colab": {}
      },
      "source": [
        "# Validando el último código de la matriz eXpad que es un signo de puntuación. se removerá\n",
        "# print([key for key in vocabulary.keys()][91])\n",
        "# print([value for value in vocabulary.values()][91])"
      ],
      "execution_count": null,
      "outputs": []
    },
    {
      "cell_type": "markdown",
      "metadata": {
        "id": "YpeR3IYE-Wge",
        "colab_type": "text"
      },
      "source": [
        "# Exercise 14.2\n",
        "\n",
        "Create a LSTM neural network to predict the rating of a movie\n",
        "\n",
        "Calculate the testing set accuracy"
      ]
    },
    {
      "cell_type": "code",
      "metadata": {
        "id": "0VdpEUf5kJYK",
        "colab_type": "code",
        "colab": {}
      },
      "source": [
        "import keras\n",
        "from keras import backend as K"
      ],
      "execution_count": 16,
      "outputs": []
    },
    {
      "cell_type": "code",
      "metadata": {
        "id": "WiW7gPD6kJYb",
        "colab_type": "code",
        "colab": {}
      },
      "source": [
        "from keras.models import Sequential\n",
        "from keras.layers.recurrent import LSTM\n",
        "from keras.layers.core import Dense, Dropout\n",
        "from keras.layers.embeddings import Embedding\n",
        "from keras.preprocessing import sequence"
      ],
      "execution_count": 17,
      "outputs": []
    },
    {
      "cell_type": "code",
      "metadata": {
        "id": "IfSwbtavHGaO",
        "colab_type": "code",
        "colab": {
          "base_uri": "https://localhost:8080/",
          "height": 556
        },
        "outputId": "4710c505-38d9-4f86-8094-7597c85d89cb"
      },
      "source": [
        "!pip install livelossplot"
      ],
      "execution_count": 18,
      "outputs": [
        {
          "output_type": "stream",
          "text": [
            "Collecting livelossplot\n",
            "  Downloading https://files.pythonhosted.org/packages/45/59/1e00dce77cacd9cd6038609809ee3666f6ba46953d2d1862637506b7c5d7/livelossplot-0.5.1-py3-none-any.whl\n",
            "Requirement already satisfied: bokeh; python_version >= \"3.6\" in /usr/local/lib/python3.6/dist-packages (from livelossplot) (1.4.0)\n",
            "Requirement already satisfied: matplotlib; python_version >= \"3.6\" in /usr/local/lib/python3.6/dist-packages (from livelossplot) (3.2.2)\n",
            "Requirement already satisfied: ipython in /usr/local/lib/python3.6/dist-packages (from livelossplot) (5.5.0)\n",
            "Requirement already satisfied: pillow>=4.0 in /usr/local/lib/python3.6/dist-packages (from bokeh; python_version >= \"3.6\"->livelossplot) (7.0.0)\n",
            "Requirement already satisfied: packaging>=16.8 in /usr/local/lib/python3.6/dist-packages (from bokeh; python_version >= \"3.6\"->livelossplot) (20.4)\n",
            "Requirement already satisfied: python-dateutil>=2.1 in /usr/local/lib/python3.6/dist-packages (from bokeh; python_version >= \"3.6\"->livelossplot) (2.8.1)\n",
            "Requirement already satisfied: PyYAML>=3.10 in /usr/local/lib/python3.6/dist-packages (from bokeh; python_version >= \"3.6\"->livelossplot) (3.13)\n",
            "Requirement already satisfied: six>=1.5.2 in /usr/local/lib/python3.6/dist-packages (from bokeh; python_version >= \"3.6\"->livelossplot) (1.12.0)\n",
            "Requirement already satisfied: tornado>=4.3 in /usr/local/lib/python3.6/dist-packages (from bokeh; python_version >= \"3.6\"->livelossplot) (4.5.3)\n",
            "Requirement already satisfied: numpy>=1.7.1 in /usr/local/lib/python3.6/dist-packages (from bokeh; python_version >= \"3.6\"->livelossplot) (1.18.5)\n",
            "Requirement already satisfied: Jinja2>=2.7 in /usr/local/lib/python3.6/dist-packages (from bokeh; python_version >= \"3.6\"->livelossplot) (2.11.2)\n",
            "Requirement already satisfied: pyparsing!=2.0.4,!=2.1.2,!=2.1.6,>=2.0.1 in /usr/local/lib/python3.6/dist-packages (from matplotlib; python_version >= \"3.6\"->livelossplot) (2.4.7)\n",
            "Requirement already satisfied: kiwisolver>=1.0.1 in /usr/local/lib/python3.6/dist-packages (from matplotlib; python_version >= \"3.6\"->livelossplot) (1.2.0)\n",
            "Requirement already satisfied: cycler>=0.10 in /usr/local/lib/python3.6/dist-packages (from matplotlib; python_version >= \"3.6\"->livelossplot) (0.10.0)\n",
            "Requirement already satisfied: pexpect; sys_platform != \"win32\" in /usr/local/lib/python3.6/dist-packages (from ipython->livelossplot) (4.8.0)\n",
            "Requirement already satisfied: setuptools>=18.5 in /usr/local/lib/python3.6/dist-packages (from ipython->livelossplot) (47.3.1)\n",
            "Requirement already satisfied: traitlets>=4.2 in /usr/local/lib/python3.6/dist-packages (from ipython->livelossplot) (4.3.3)\n",
            "Requirement already satisfied: prompt-toolkit<2.0.0,>=1.0.4 in /usr/local/lib/python3.6/dist-packages (from ipython->livelossplot) (1.0.18)\n",
            "Requirement already satisfied: simplegeneric>0.8 in /usr/local/lib/python3.6/dist-packages (from ipython->livelossplot) (0.8.1)\n",
            "Requirement already satisfied: pickleshare in /usr/local/lib/python3.6/dist-packages (from ipython->livelossplot) (0.7.5)\n",
            "Requirement already satisfied: decorator in /usr/local/lib/python3.6/dist-packages (from ipython->livelossplot) (4.4.2)\n",
            "Requirement already satisfied: pygments in /usr/local/lib/python3.6/dist-packages (from ipython->livelossplot) (2.1.3)\n",
            "Requirement already satisfied: MarkupSafe>=0.23 in /usr/local/lib/python3.6/dist-packages (from Jinja2>=2.7->bokeh; python_version >= \"3.6\"->livelossplot) (1.1.1)\n",
            "Requirement already satisfied: ptyprocess>=0.5 in /usr/local/lib/python3.6/dist-packages (from pexpect; sys_platform != \"win32\"->ipython->livelossplot) (0.6.0)\n",
            "Requirement already satisfied: ipython-genutils in /usr/local/lib/python3.6/dist-packages (from traitlets>=4.2->ipython->livelossplot) (0.2.0)\n",
            "Requirement already satisfied: wcwidth in /usr/local/lib/python3.6/dist-packages (from prompt-toolkit<2.0.0,>=1.0.4->ipython->livelossplot) (0.2.5)\n",
            "Installing collected packages: livelossplot\n",
            "Successfully installed livelossplot-0.5.1\n"
          ],
          "name": "stdout"
        }
      ]
    },
    {
      "cell_type": "code",
      "metadata": {
        "id": "nHS-hGcekJYp",
        "colab_type": "code",
        "colab": {}
      },
      "source": [
        "from livelossplot import PlotLossesKeras\n",
        "%matplotlib inline"
      ],
      "execution_count": 19,
      "outputs": []
    },
    {
      "cell_type": "code",
      "metadata": {
        "id": "rBujHNFPkJar",
        "colab_type": "code",
        "colab": {}
      },
      "source": [
        "import sklearn as sklearn\n",
        "from sklearn.model_selection  import train_test_split\n",
        "X_train, X_test, y_train, y_test = train_test_split(X_pad, y, test_size=0.33, random_state=42)"
      ],
      "execution_count": 20,
      "outputs": []
    },
    {
      "cell_type": "code",
      "metadata": {
        "id": "jGum3YwQkJa4",
        "colab_type": "code",
        "colab": {
          "base_uri": "https://localhost:8080/",
          "height": 294
        },
        "outputId": "6f7e7701-b669-4b93-d02e-08c727485769"
      },
      "source": [
        "model = Sequential()\n",
        "model.add(Embedding(len(vocabulary) + 1, max_plot_len, input_length=max_plot_len))\n",
        "model.add(LSTM(32))\n",
        "model.add(Dropout(0.5))\n",
        "model.add(Dense(1, activation='sigmoid'))\n",
        "model.compile(loss='binary_crossentropy', optimizer='rmsprop', metrics=['accuracy'])\n",
        "\n",
        "model.summary()        "
      ],
      "execution_count": 21,
      "outputs": [
        {
          "output_type": "stream",
          "text": [
            "Model: \"sequential_1\"\n",
            "_________________________________________________________________\n",
            "Layer (type)                 Output Shape              Param #   \n",
            "=================================================================\n",
            "embedding_1 (Embedding)      (None, 500, 500)          19349000  \n",
            "_________________________________________________________________\n",
            "lstm_1 (LSTM)                (None, 32)                68224     \n",
            "_________________________________________________________________\n",
            "dropout_1 (Dropout)          (None, 32)                0         \n",
            "_________________________________________________________________\n",
            "dense_1 (Dense)              (None, 1)                 33        \n",
            "=================================================================\n",
            "Total params: 19,417,257\n",
            "Trainable params: 19,417,257\n",
            "Non-trainable params: 0\n",
            "_________________________________________________________________\n"
          ],
          "name": "stdout"
        }
      ]
    },
    {
      "cell_type": "code",
      "metadata": {
        "id": "fITB3qKXkJbB",
        "colab_type": "code",
        "colab": {
          "base_uri": "https://localhost:8080/",
          "height": 447
        },
        "outputId": "c6df6992-93eb-41ed-8165-6979c013d062"
      },
      "source": [
        "model.fit(X_train, y_train, validation_data=[X_test, y_test], \n",
        "          batch_size=50, epochs=2, verbose=1,\n",
        "          callbacks=[PlotLossesKeras()])"
      ],
      "execution_count": 22,
      "outputs": [
        {
          "output_type": "display_data",
          "data": {
            "image/png": "[encoded data removed]",
            "text/plain": [
              "<Figure size 864x576 with 2 Axes>"
            ]
          },
          "metadata": {
            "tags": [],
            "needs_background": "light"
          }
        },
        {
          "output_type": "stream",
          "text": [
            "accuracy\n",
            "\tvalidation       \t (min:    0.511, max:    0.528, cur:    0.511)\n",
            "\ttraining         \t (min:    0.527, max:    0.527, cur:    0.527)\n",
            "Loss\n",
            "\tvalidation       \t (min:    0.692, max:    0.692, cur:    0.692)\n",
            "\ttraining         \t (min:    0.692, max:    0.693, cur:    0.692)\n"
          ],
          "name": "stdout"
        },
        {
          "output_type": "execute_result",
          "data": {
            "text/plain": [
              "<keras.callbacks.callbacks.History at 0x7f56782597f0>"
            ]
          },
          "metadata": {
            "tags": []
          },
          "execution_count": 22
        }
      ]
    },
    {
      "cell_type": "code",
      "metadata": {
        "id": "-LNkYG6dkJbK",
        "colab_type": "code",
        "colab": {
          "base_uri": "https://localhost:8080/",
          "height": 34
        },
        "outputId": "665501c7-0cfe-480c-db36-b02390bb9c31"
      },
      "source": [
        "y_pred = model.predict_classes(X_test)[:,0]\n",
        "print((y_pred == y_test).mean())"
      ],
      "execution_count": 23,
      "outputs": [
        {
          "output_type": "stream",
          "text": [
            "0.511128165771297\n"
          ],
          "name": "stdout"
        }
      ]
    },
    {
      "cell_type": "markdown",
      "metadata": {
        "id": "4txG6IHNZE-R",
        "colab_type": "text"
      },
      "source": [
        "**Conclusión**  \n",
        "Luego de realizar varias modificaciones en los parámetros de la red neuronal, se encontró esta solución con un accuracy de 51,11%."
      ]
    }
  ]
}